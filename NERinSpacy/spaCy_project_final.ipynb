{
 "cells": [
  {
   "cell_type": "markdown",
   "id": "38e303b7",
   "metadata": {},
   "source": [
    "### SpaCy Implementation"
   ]
  },
  {
   "cell_type": "code",
   "execution_count": null,
   "id": "e3fc3f25",
   "metadata": {},
   "outputs": [],
   "source": []
  },
  {
   "cell_type": "code",
   "execution_count": 28,
   "id": "14a6ef6c",
   "metadata": {},
   "outputs": [],
   "source": [
    "import json\n",
    "import spacy\n",
    "from spacy import displacy"
   ]
  },
  {
   "cell_type": "code",
   "execution_count": 29,
   "id": "ae92c52c",
   "metadata": {},
   "outputs": [],
   "source": [
    "nlp = spacy.load(\"en_core_web_sm\")  ##no need to execute everytime"
   ]
  },
  {
   "cell_type": "code",
   "execution_count": 3,
   "id": "6ea6d4d3",
   "metadata": {},
   "outputs": [],
   "source": [
    "# with open('C:/Users/naikp/Downloads/squad2.0/train-v2.0.json') as fp: #loading training data\n",
    "#     training_data = json.load(fp)   ####dictionary"
   ]
  },
  {
   "cell_type": "code",
   "execution_count": 30,
   "id": "c51c3634",
   "metadata": {},
   "outputs": [],
   "source": [
    "# text = \"Her first acting role of 2006 was in the comedy film The Pink Panther starring opposite Steve Martin, grossing $ 158.8 million at the box office worldwide. Her second film Dreamgirls, the film version of the 1981 Broadway musical loosely based on The Supremes, received acclaim from critics and grossed $154 million internationally. In it, she starred opposite Jennifer Hudson, Jamie Foxx, and Eddie Murphy playing a pop singer based on Diana Ross. To promote the film, Beyonce released \\\"Listen\\\" as the lead single from the soundtrack album. In April 2007, Beyonce embarked on The Beyonce Experience, her first worldwide concert tour, visiting 97 venues and grossed over $24 million.[note 1] Beyonce conducted pre-concert food donation drives during six major stops in conjunction with her pastor at St. John's and America's Second Harvest. At the same time, 'B'Day' was re-released with five additional songs, including her duet with Shakira \\\"Beautiful Liar\\\".\"\n",
    "# text = \"Beyonce Knowles-Carter (bee-YON-say) (born September 4, 1981) is an American singer, songwriter, record producer and actress. Born and raised in Houston, Texas, she performed in various singing and dancing competitions as a child, and rose to fame in the late 1990s as lead singer of R&B girl-group Destiny's Child. Managed by her father, Mathew Knowles, the group became one of the world's best-selling girl groups of all time. Their hiatus saw the release of Beyonce's debut album, Dangerously in Love (2003), which established her as a solo artist worldwide, earned five Grammy Awards and featured the Billboard Hot 100 number-one singles \\\"Crazy in Love\\\" and \\\"Baby Boy\\\". 6557-2662-6932-6028.  credit card number: (1111)(9999)(7777)(1221)\"\n",
    "# text = \"Modi was born and raised in Vadnagar in northeastern Gujarat, where he completed his secondary education. He was introduced to the RSS at age eight. He has discussed having to work as a child in his father's tea stall in the Vadnagar railway station, which has not been reliably corroborated. At age 18, Modi was married to Jashodaben Chimanlal Modi,\"\n",
    "text = \"Albert Einstein was born in Germany and lived in England. He was an employee at Google. Narendra Modi\""
   ]
  },
  {
   "cell_type": "code",
   "execution_count": 31,
   "id": "fcc656b7",
   "metadata": {},
   "outputs": [],
   "source": [
    "text1= nlp(text)"
   ]
  },
  {
   "cell_type": "code",
   "execution_count": 32,
   "id": "9d0dd412",
   "metadata": {},
   "outputs": [
    {
     "name": "stdout",
     "output_type": "stream",
     "text": [
      "Albert Einstein PERSON\n",
      "Narendra Modi PERSON\n"
     ]
    }
   ],
   "source": [
    "for word in text1.ents:\n",
    "    if word.label_ == \"PERSON\":\n",
    "        print(word.text,word.label_)"
   ]
  },
  {
   "cell_type": "code",
   "execution_count": 33,
   "id": "26c4ccf9",
   "metadata": {},
   "outputs": [
    {
     "data": {
      "text/html": [
       "<div class=\"entities\" style=\"line-height: 2.5; direction: ltr\">\n",
       "<mark class=\"entity\" style=\"background: #aa9cfc; padding: 0.45em 0.6em; margin: 0 0.25em; line-height: 1; border-radius: 0.35em; box-decoration-break: clone; -webkit-box-decoration-break: clone\">\n",
       "    Albert Einstein\n",
       "    <span style=\"font-size: 0.8em; font-weight: bold; line-height: 1; border-radius: 0.35em; text-transform: uppercase; vertical-align: middle; margin-left: 0.5rem\">PERSON</span>\n",
       "</mark>\n",
       " was born in \n",
       "<mark class=\"entity\" style=\"background: #feca74; padding: 0.45em 0.6em; margin: 0 0.25em; line-height: 1; border-radius: 0.35em; box-decoration-break: clone; -webkit-box-decoration-break: clone\">\n",
       "    Germany\n",
       "    <span style=\"font-size: 0.8em; font-weight: bold; line-height: 1; border-radius: 0.35em; text-transform: uppercase; vertical-align: middle; margin-left: 0.5rem\">GPE</span>\n",
       "</mark>\n",
       " and lived in \n",
       "<mark class=\"entity\" style=\"background: #feca74; padding: 0.45em 0.6em; margin: 0 0.25em; line-height: 1; border-radius: 0.35em; box-decoration-break: clone; -webkit-box-decoration-break: clone\">\n",
       "    England\n",
       "    <span style=\"font-size: 0.8em; font-weight: bold; line-height: 1; border-radius: 0.35em; text-transform: uppercase; vertical-align: middle; margin-left: 0.5rem\">GPE</span>\n",
       "</mark>\n",
       ". He was an employee at \n",
       "<mark class=\"entity\" style=\"background: #7aecec; padding: 0.45em 0.6em; margin: 0 0.25em; line-height: 1; border-radius: 0.35em; box-decoration-break: clone; -webkit-box-decoration-break: clone\">\n",
       "    Google\n",
       "    <span style=\"font-size: 0.8em; font-weight: bold; line-height: 1; border-radius: 0.35em; text-transform: uppercase; vertical-align: middle; margin-left: 0.5rem\">ORG</span>\n",
       "</mark>\n",
       ". \n",
       "<mark class=\"entity\" style=\"background: #aa9cfc; padding: 0.45em 0.6em; margin: 0 0.25em; line-height: 1; border-radius: 0.35em; box-decoration-break: clone; -webkit-box-decoration-break: clone\">\n",
       "    Narendra Modi\n",
       "    <span style=\"font-size: 0.8em; font-weight: bold; line-height: 1; border-radius: 0.35em; text-transform: uppercase; vertical-align: middle; margin-left: 0.5rem\">PERSON</span>\n",
       "</mark>\n",
       "</div>"
      ],
      "text/plain": [
       "<IPython.core.display.HTML object>"
      ]
     },
     "metadata": {},
     "output_type": "display_data"
    },
    {
     "data": {
      "text/html": [
       "<div class=\"entities\" style=\"line-height: 2.5; direction: ltr\">\n",
       "<mark class=\"entity\" style=\"background: #aa9cfc; padding: 0.45em 0.6em; margin: 0 0.25em; line-height: 1; border-radius: 0.35em; box-decoration-break: clone; -webkit-box-decoration-break: clone\">\n",
       "    Albert Einstein\n",
       "    <span style=\"font-size: 0.8em; font-weight: bold; line-height: 1; border-radius: 0.35em; text-transform: uppercase; vertical-align: middle; margin-left: 0.5rem\">PERSON</span>\n",
       "</mark>\n",
       " was born in Germany and lived in England. He was an employee at Google. \n",
       "<mark class=\"entity\" style=\"background: #aa9cfc; padding: 0.45em 0.6em; margin: 0 0.25em; line-height: 1; border-radius: 0.35em; box-decoration-break: clone; -webkit-box-decoration-break: clone\">\n",
       "    Narendra Modi\n",
       "    <span style=\"font-size: 0.8em; font-weight: bold; line-height: 1; border-radius: 0.35em; text-transform: uppercase; vertical-align: middle; margin-left: 0.5rem\">PERSON</span>\n",
       "</mark>\n",
       "</div>"
      ],
      "text/plain": [
       "<IPython.core.display.HTML object>"
      ]
     },
     "metadata": {},
     "output_type": "display_data"
    }
   ],
   "source": [
    "displacy.render(text1, style=\"ent\",jupyter=True)\n",
    "options = {\"ents\": [\"PERSON\"]}\n",
    "displacy.render(text1, style=\"ent\", options=options)"
   ]
  },
  {
   "cell_type": "code",
   "execution_count": null,
   "id": "84b50259",
   "metadata": {},
   "outputs": [],
   "source": []
  },
  {
   "cell_type": "markdown",
   "id": "d4ddfd24",
   "metadata": {},
   "source": [
    "## Anonymisation"
   ]
  },
  {
   "cell_type": "code",
   "execution_count": 34,
   "id": "d1330d61",
   "metadata": {
    "scrolled": true
   },
   "outputs": [
    {
     "name": "stdout",
     "output_type": "stream",
     "text": [
      "Albert Einstein PERSON\n",
      "<class 'str'>\n",
      "Narendra Modi PERSON\n",
      "<class 'str'>\n"
     ]
    }
   ],
   "source": [
    "final_str = text\n",
    "final_words = []\n",
    "final_words1 = []\n",
    "final_words2 = []\n",
    "tag_of_intrest = \"PERSON\"\n",
    "idxs_of_tags = []\n",
    "\n",
    "for word in text1.ents:\n",
    "    if word.label_ == tag_of_intrest:\n",
    "        print(word.text,word.label_)\n",
    "        print(type(word.text))\n",
    "        final_words.append(word.text)\n",
    "        \n",
    "        \n",
    "        "
   ]
  },
  {
   "cell_type": "code",
   "execution_count": 35,
   "id": "8b071dcc",
   "metadata": {},
   "outputs": [
    {
     "data": {
      "text/plain": [
       "['Albert Einstein', 'Narendra Modi']"
      ]
     },
     "execution_count": 35,
     "metadata": {},
     "output_type": "execute_result"
    }
   ],
   "source": [
    "final_words"
   ]
  },
  {
   "cell_type": "code",
   "execution_count": 36,
   "id": "421aed79",
   "metadata": {},
   "outputs": [
    {
     "name": "stdout",
     "output_type": "stream",
     "text": [
      "replaced\n",
      "replaced\n"
     ]
    }
   ],
   "source": [
    "i = 0\n",
    "for key in final_words:\n",
    "    replaced=''\n",
    "    if ' ' not in key:\n",
    "        continue\n",
    "    else:\n",
    "        print('replaced')\n",
    "        idxs_of_tags.append(i)\n",
    "        replaced = key.replace(' ','_')\n",
    "        final_words1.append(replaced)\n",
    "        final_words2.append(replaced)\n",
    "    i+=1\n"
   ]
  },
  {
   "cell_type": "code",
   "execution_count": 37,
   "id": "e6aa7051",
   "metadata": {},
   "outputs": [
    {
     "data": {
      "text/plain": [
       "['Albert_Einstein', 'Narendra_Modi']"
      ]
     },
     "execution_count": 37,
     "metadata": {},
     "output_type": "execute_result"
    }
   ],
   "source": [
    "final_words2"
   ]
  },
  {
   "cell_type": "code",
   "execution_count": 38,
   "id": "561ec3aa",
   "metadata": {},
   "outputs": [
    {
     "name": "stdout",
     "output_type": "stream",
     "text": [
      "Albert Einstein was born in Germany and lived in England. He was an employee at Google. Narendra Modi\n",
      "['Albert Einstein', 'Narendra Modi']\n",
      "['Albert_Einstein', 'Narendra_Modi']\n",
      "['Albert_Einstein', 'Narendra_Modi']\n",
      "[0, 1]\n",
      "Albert_Einstein was born in Germany and lived in England. He was an employee at Google. Narendra_Modi\n"
     ]
    }
   ],
   "source": [
    "print(final_str)\n",
    "print(final_words)\n",
    "print(final_words1)\n",
    "print(final_words2)\n",
    "print(idxs_of_tags)\n",
    "for i in range(0, len(final_words1)):\n",
    "    final_str = final_str.replace(final_words[i],final_words2[i])\n",
    "print(final_str)"
   ]
  },
  {
   "cell_type": "code",
   "execution_count": 39,
   "id": "2783fee0",
   "metadata": {},
   "outputs": [],
   "source": [
    "import gensim\n",
    "model = gensim.models.Word2Vec.load(\"C:/Users/naikp/w2vpandas_ner.model\")"
   ]
  },
  {
   "cell_type": "code",
   "execution_count": 40,
   "id": "c144abcd",
   "metadata": {},
   "outputs": [
    {
     "data": {
      "text/plain": [
       "[('Erion_Veliaj', 0.9828315377235413),\n",
       " ('Muzaffarpur', 0.9812604784965515),\n",
       " ('Varanasi', 0.9810370206832886),\n",
       " ('Mehdi_Chamran', 0.9806481599807739),\n",
       " ('David_Anderson_(Saskatchewan_politician)', 0.9803446531295776)]"
      ]
     },
     "execution_count": 40,
     "metadata": {},
     "output_type": "execute_result"
    }
   ],
   "source": [
    "model.wv.most_similar('Narendra_Modi', topn=5)"
   ]
  },
  {
   "cell_type": "code",
   "execution_count": 41,
   "id": "611abf0c",
   "metadata": {},
   "outputs": [
    {
     "data": {
      "text/plain": [
       "[('John_Wanamaker', 0.9906167387962341),\n",
       " ('Benno_Gut', 0.9904235601425171),\n",
       " ('it/Evrard_Atcho', 0.9896234273910522),\n",
       " ('Máximo_Kirchner', 0.9891706705093384),\n",
       " ('Philippe_Mottu', 0.9873701333999634)]"
      ]
     },
     "execution_count": 41,
     "metadata": {},
     "output_type": "execute_result"
    }
   ],
   "source": [
    "model.wv.most_similar('Albert_Einstein', topn=5)"
   ]
  },
  {
   "cell_type": "code",
   "execution_count": 42,
   "id": "cba7251f",
   "metadata": {},
   "outputs": [],
   "source": [
    "# model.wv.most_similar('Germany', topn=10)"
   ]
  },
  {
   "cell_type": "code",
   "execution_count": 43,
   "id": "6adc8db6",
   "metadata": {},
   "outputs": [],
   "source": [
    "# model.wv.most_similar('England', topn=10)"
   ]
  },
  {
   "cell_type": "code",
   "execution_count": 44,
   "id": "fb2f4077",
   "metadata": {},
   "outputs": [],
   "source": [
    "# look_up = {'Editis':'Lyon', 'Fritzlar_Air_Base':'Hammerschmidt_Villa'}\n",
    "\n",
    "look_up = {}\n",
    "\n",
    "top_n = 10\n",
    "i = 0"
   ]
  },
  {
   "cell_type": "code",
   "execution_count": 45,
   "id": "246f567d",
   "metadata": {},
   "outputs": [
    {
     "data": {
      "text/plain": [
       "[0, 1]"
      ]
     },
     "execution_count": 45,
     "metadata": {},
     "output_type": "execute_result"
    }
   ],
   "source": [
    "idxs_of_tags"
   ]
  },
  {
   "cell_type": "code",
   "execution_count": 46,
   "id": "d02d1f8f",
   "metadata": {},
   "outputs": [
    {
     "name": "stdout",
     "output_type": "stream",
     "text": [
      "0\n",
      "a\n",
      "<class 'list'>\n",
      "1\n",
      "a\n",
      "<class 'list'>\n"
     ]
    }
   ],
   "source": [
    "for i in idxs_of_tags:\n",
    "    lst = []\n",
    "    print(i)\n",
    "    w = final_words1[i]\n",
    "    keys = list(look_up.keys())\n",
    "    values = list(look_up.values())\n",
    "    if w in keys:\n",
    "        print('b')\n",
    "        final_words1[i] = look_up[w]\n",
    "    else:\n",
    "        print('a')\n",
    "        print(type(model.wv.most_similar(w, topn=top_n)))\n",
    "        lst = model.wv.most_similar(w, topn=top_n)\n",
    "    j=0\n",
    "    while j<top_n:\n",
    "        if lst[i][0] in values:\n",
    "            j+=1\n",
    "            continue\n",
    "        else:\n",
    "            break\n",
    "\n",
    "    if j<top_n:\n",
    "        final_words1[i] = lst[j][0]\n",
    "        look_up[w] = lst[j][0]"
   ]
  },
  {
   "cell_type": "code",
   "execution_count": 47,
   "id": "62359758",
   "metadata": {},
   "outputs": [
    {
     "data": {
      "text/plain": [
       "{'Albert_Einstein': 'John_Wanamaker', 'Narendra_Modi': 'Erion_Veliaj'}"
      ]
     },
     "execution_count": 47,
     "metadata": {},
     "output_type": "execute_result"
    }
   ],
   "source": [
    "look_up"
   ]
  },
  {
   "cell_type": "code",
   "execution_count": 48,
   "id": "79939d9c",
   "metadata": {},
   "outputs": [
    {
     "name": "stdout",
     "output_type": "stream",
     "text": [
      "['John_Wanamaker', 'Erion_Veliaj']\n"
     ]
    }
   ],
   "source": [
    "print(final_words1)"
   ]
  },
  {
   "cell_type": "code",
   "execution_count": 49,
   "id": "3749a4ca",
   "metadata": {},
   "outputs": [],
   "source": [
    "anonymized_string = \"\"\n",
    "\n",
    "for w in final_words1:\n",
    "  if anonymized_string == \"\":\n",
    "    anonymized_string = w\n",
    "  else:\n",
    "    anonymized_string = anonymized_string + \" \" + w"
   ]
  },
  {
   "cell_type": "code",
   "execution_count": 50,
   "id": "85c46cfc",
   "metadata": {},
   "outputs": [
    {
     "name": "stdout",
     "output_type": "stream",
     "text": [
      "Albert_Einstein was born in Germany and lived in England. He was an employee at Google. Narendra_Modi\n",
      "['Albert_Einstein', 'Narendra_Modi']\n",
      "['John_Wanamaker', 'Erion_Veliaj']\n",
      "2\n"
     ]
    }
   ],
   "source": [
    "print(final_str)\n",
    "print(final_words2)\n",
    "print(final_words1)\n",
    "print(len(final_words2))"
   ]
  },
  {
   "cell_type": "code",
   "execution_count": 59,
   "id": "a020374d",
   "metadata": {},
   "outputs": [
    {
     "name": "stdout",
     "output_type": "stream",
     "text": [
      "Albert_Einstein\n",
      "John_Wanamaker\n",
      "Narendra_Modi\n",
      "Erion_Veliaj\n",
      "John_Wanamaker was born in Germany and lived in England. He was an employee at Google. Erion_Veliaj\n"
     ]
    }
   ],
   "source": [
    "anonymized_string = final_str\n",
    "for i in range(0, len(final_words2)):\n",
    "    print(final_words2[i])\n",
    "    print(final_words1[i])\n",
    "    anonymized_string = anonymized_string.replace( final_words2[i] ,final_words1[i])\n",
    "    \n",
    "print(anonymized_string)"
   ]
  },
  {
   "cell_type": "code",
   "execution_count": 60,
   "id": "bb59d04e",
   "metadata": {},
   "outputs": [],
   "source": [
    "output = anonymized_string.replace('_', ' ')"
   ]
  },
  {
   "cell_type": "code",
   "execution_count": 61,
   "id": "078437a5",
   "metadata": {},
   "outputs": [
    {
     "data": {
      "text/plain": [
       "'John Wanamaker was born in Germany and lived in England. He was an employee at Google. Erion Veliaj'"
      ]
     },
     "execution_count": 61,
     "metadata": {},
     "output_type": "execute_result"
    }
   ],
   "source": [
    "output"
   ]
  },
  {
   "cell_type": "code",
   "execution_count": null,
   "id": "b6fe33d1",
   "metadata": {},
   "outputs": [],
   "source": []
  }
 ],
 "metadata": {
  "kernelspec": {
   "display_name": "Python 3 (ipykernel)",
   "language": "python",
   "name": "python3"
  },
  "language_info": {
   "codemirror_mode": {
    "name": "ipython",
    "version": 3
   },
   "file_extension": ".py",
   "mimetype": "text/x-python",
   "name": "python",
   "nbconvert_exporter": "python",
   "pygments_lexer": "ipython3",
   "version": "3.7.0"
  }
 },
 "nbformat": 4,
 "nbformat_minor": 5
}
