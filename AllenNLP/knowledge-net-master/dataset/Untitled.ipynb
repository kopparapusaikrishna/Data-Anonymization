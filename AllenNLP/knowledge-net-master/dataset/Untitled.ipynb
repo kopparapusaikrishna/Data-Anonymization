{
 "cells": [
  {
   "cell_type": "code",
   "execution_count": 1,
   "id": "9da77866",
   "metadata": {},
   "outputs": [],
   "source": [
    "import pandas as pd\n"
   ]
  },
  {
   "cell_type": "code",
   "execution_count": 11,
   "id": "75adc180",
   "metadata": {},
   "outputs": [],
   "source": [
    "df = pd.read_json('test-no-facts.json', lines=True)"
   ]
  },
  {
   "cell_type": "code",
   "execution_count": 12,
   "id": "8a6b2945",
   "metadata": {},
   "outputs": [
    {
     "data": {
      "text/html": [
       "<div>\n",
       "<style scoped>\n",
       "    .dataframe tbody tr th:only-of-type {\n",
       "        vertical-align: middle;\n",
       "    }\n",
       "\n",
       "    .dataframe tbody tr th {\n",
       "        vertical-align: top;\n",
       "    }\n",
       "\n",
       "    .dataframe thead th {\n",
       "        text-align: right;\n",
       "    }\n",
       "</style>\n",
       "<table border=\"1\" class=\"dataframe\">\n",
       "  <thead>\n",
       "    <tr style=\"text-align: right;\">\n",
       "      <th></th>\n",
       "      <th>fold</th>\n",
       "      <th>source</th>\n",
       "      <th>documentId</th>\n",
       "      <th>documentText</th>\n",
       "      <th>passages</th>\n",
       "    </tr>\n",
       "  </thead>\n",
       "  <tbody>\n",
       "    <tr>\n",
       "      <th>0</th>\n",
       "      <td>5</td>\n",
       "      <td>Diffbot Knowledge Graph</td>\n",
       "      <td>14752</td>\n",
       "      <td>Dr Muhammad Ather Khurram\\n\\nDr Muhammad Ather...</td>\n",
       "      <td>[{'passageId': '14752:1502:1843', 'exhaustivel...</td>\n",
       "    </tr>\n",
       "    <tr>\n",
       "      <th>1</th>\n",
       "      <td>5</td>\n",
       "      <td>DBpedia Abstract</td>\n",
       "      <td>14194</td>\n",
       "      <td>Thomas Thomson (botanist)\\n\\nThomas Thomson (4...</td>\n",
       "      <td>[{'passageId': '14194:254:346', 'exhaustivelyA...</td>\n",
       "    </tr>\n",
       "    <tr>\n",
       "      <th>2</th>\n",
       "      <td>5</td>\n",
       "      <td>DBpedia Abstract</td>\n",
       "      <td>7038</td>\n",
       "      <td>Rex Maughan\\n\\nRex G. Maughan is the founder, ...</td>\n",
       "      <td>[{'passageId': '7038:13:188', 'exhaustivelyAnn...</td>\n",
       "    </tr>\n",
       "    <tr>\n",
       "      <th>3</th>\n",
       "      <td>5</td>\n",
       "      <td>DBpedia Abstract</td>\n",
       "      <td>7205</td>\n",
       "      <td>Rizwan Koita\\n\\nRizwan Koita (born 12 December...</td>\n",
       "      <td>[{'passageId': '7205:242:388', 'exhaustivelyAn...</td>\n",
       "    </tr>\n",
       "    <tr>\n",
       "      <th>4</th>\n",
       "      <td>5</td>\n",
       "      <td>DBpedia Abstract</td>\n",
       "      <td>29317</td>\n",
       "      <td>Hilde Magnusson Lydvo\\n\\nHilde Magnusson Lydvo...</td>\n",
       "      <td>[{'passageId': '29317:23:122', 'exhaustivelyAn...</td>\n",
       "    </tr>\n",
       "  </tbody>\n",
       "</table>\n",
       "</div>"
      ],
      "text/plain": [
       "   fold                   source  documentId  \\\n",
       "0     5  Diffbot Knowledge Graph       14752   \n",
       "1     5         DBpedia Abstract       14194   \n",
       "2     5         DBpedia Abstract        7038   \n",
       "3     5         DBpedia Abstract        7205   \n",
       "4     5         DBpedia Abstract       29317   \n",
       "\n",
       "                                        documentText  \\\n",
       "0  Dr Muhammad Ather Khurram\\n\\nDr Muhammad Ather...   \n",
       "1  Thomas Thomson (botanist)\\n\\nThomas Thomson (4...   \n",
       "2  Rex Maughan\\n\\nRex G. Maughan is the founder, ...   \n",
       "3  Rizwan Koita\\n\\nRizwan Koita (born 12 December...   \n",
       "4  Hilde Magnusson Lydvo\\n\\nHilde Magnusson Lydvo...   \n",
       "\n",
       "                                            passages  \n",
       "0  [{'passageId': '14752:1502:1843', 'exhaustivel...  \n",
       "1  [{'passageId': '14194:254:346', 'exhaustivelyA...  \n",
       "2  [{'passageId': '7038:13:188', 'exhaustivelyAnn...  \n",
       "3  [{'passageId': '7205:242:388', 'exhaustivelyAn...  \n",
       "4  [{'passageId': '29317:23:122', 'exhaustivelyAn...  "
      ]
     },
     "execution_count": 12,
     "metadata": {},
     "output_type": "execute_result"
    }
   ],
   "source": [
    "df.head()"
   ]
  },
  {
   "cell_type": "code",
   "execution_count": 19,
   "id": "31737fb6",
   "metadata": {},
   "outputs": [
    {
     "data": {
      "text/plain": [
       "'Dr Muhammad Ather Khurram\\n\\nDr Muhammad Ather Khurram is Chief Executive Officer of Media Network International and Chief Operating Officer of all operations, projects and TV channels of M...edia Network International in Pakistan, He is one of the most famous Pakistani journalist, columnist, and political analyst. Born on 22-04-1977, he joined the Journalism in 1992 when he was just 15 years old. He is PhD in Mass Communication and Gold Medalist in Master of computer Sciences and Master of Business Administration and information technology, during his career he was Editor and Chief Editor of many National Newspapers. He started his Daily “Taqat” as a Chief Editor in 22-12-1992 and monthly magazine “Good Friend”in 1995. in 2000 he started another Daily “Masafat” as a Chief Executive and pioneer Editor, he introduced the techniques of “News, layout and specialy printing of newspapers”. He also served as a Executive Editor of Daily Asas, Daily Lashkar, Daily Times of Pakistan, Daily Jang, Daily Samundri News, Daily Muhib e Watan, Daily Sadaqat, Daily Inqilab, Daily Pakistan, Express news and many magazines. He writes columns under titles “Be Mausami Ghunchay”, “Gar Giran Na Guzray”, “Teer e Neem Kush”. Mr Ather Khurram is author of two famous books, his first book “Azaan Kay Baad” was published in 1998 and second book “Haqeeqat E Mohabbat” was published in 2000. He also published many books as a publisher and promoted many authors. His many articles are reference in foreign Media. He is also chairman of Think Tank of Pakistan, chairman of Pakistan institute of Media Sciences, President of Institute of Modern Journalism, General Secretary of Institute of National Affairs, General Secretary of Institute of Media & Politics, General Secretary of Institute of Media and Society, General Secretary of Pakistan Media Forum. See More'"
      ]
     },
     "execution_count": 19,
     "metadata": {},
     "output_type": "execute_result"
    }
   ],
   "source": [
    "df.loc[0]['documentText']"
   ]
  },
  {
   "cell_type": "code",
   "execution_count": 13,
   "id": "90520e57",
   "metadata": {},
   "outputs": [
    {
     "data": {
      "text/plain": [
       "[{'passageId': '14752:1502:1843',\n",
       "  'exhaustivelyAnnotatedProperties': [],\n",
       "  'passageStart': 1502,\n",
       "  'passageEnd': 1843,\n",
       "  'passageText': 'He is also chairman of Think Tank of Pakistan, chairman of Pakistan institute of Media Sciences, President of Institute of Modern Journalism, General Secretary of Institute of National Affairs, General Secretary of Institute of Media & Politics, General Secretary of Institute of Media and Society, General Secretary of Pakistan Media Forum.',\n",
       "  'facts': []},\n",
       " {'passageId': '14752:399:623',\n",
       "  'exhaustivelyAnnotatedProperties': [],\n",
       "  'passageStart': 399,\n",
       "  'passageEnd': 623,\n",
       "  'passageText': 'He is PhD in Mass Communication and Gold Medalist in Master of computer Sciences and Master of Business Administration and information technology, during his career he was Editor and Chief Editor of many National Newspapers.',\n",
       "  'facts': []},\n",
       " {'passageId': '14752:27:189',\n",
       "  'exhaustivelyAnnotatedProperties': [],\n",
       "  'passageStart': 27,\n",
       "  'passageEnd': 189,\n",
       "  'passageText': 'Dr Muhammad Ather Khurram is Chief Executive Officer of Media Network International and Chief Operating Officer of all operations, projects and TV channels of M..',\n",
       "  'facts': []}]"
      ]
     },
     "execution_count": 13,
     "metadata": {},
     "output_type": "execute_result"
    }
   ],
   "source": [
    "df.loc[0]['passages']"
   ]
  },
  {
   "cell_type": "code",
   "execution_count": 16,
   "id": "870c0a4b",
   "metadata": {},
   "outputs": [],
   "source": [
    "df1 = pd.read_json('train.json', lines=True)"
   ]
  },
  {
   "cell_type": "code",
   "execution_count": 18,
   "id": "ae8304c1",
   "metadata": {},
   "outputs": [
    {
     "data": {
      "text/plain": [
       "[{'passageId': '29726:151:315',\n",
       "  'exhaustivelyAnnotatedProperties': [{'propertyId': '14',\n",
       "    'propertyName': 'DATE_OF_DEATH',\n",
       "    'propertyDescription': 'Describes the date of death of a person.'}],\n",
       "  'passageStart': 151,\n",
       "  'passageEnd': 315,\n",
       "  'passageText': 'After five successful albums and extensive touring, they disbanded after lead vocalist Sandman died of a heart attack onstage in Palestrina, Italy, on July 3, 1999.',\n",
       "  'facts': [{'factId': '29726:238:245:302:314:14',\n",
       "    'propertyId': '14',\n",
       "    'humanReadable': '<Sandman> <DATE_OF_DEATH> <July 3, 1999>',\n",
       "    'annotatedPassage': 'After five successful albums and extensive touring, they disbanded after lead vocalist <Sandman> died of a heart attack onstage in Palestrina, Italy, on <July 3, 1999>.',\n",
       "    'subjectStart': 238,\n",
       "    'subjectEnd': 245,\n",
       "    'subjectText': 'Sandman',\n",
       "    'subjectUri': '',\n",
       "    'objectStart': 302,\n",
       "    'objectEnd': 314,\n",
       "    'objectText': 'July 3, 1999',\n",
       "    'objectUri': ''}]}]"
      ]
     },
     "execution_count": 18,
     "metadata": {},
     "output_type": "execute_result"
    }
   ],
   "source": [
    "df1.loc[2]['passages']"
   ]
  },
  {
   "cell_type": "code",
   "execution_count": 20,
   "id": "eb50a343",
   "metadata": {},
   "outputs": [
    {
     "data": {
      "text/plain": [
       "[{'passageId': '4788:282:527',\n",
       "  'exhaustivelyAnnotatedProperties': [{'propertyId': '2',\n",
       "    'propertyName': 'FOUNDED_BY',\n",
       "    'propertyDescription': 'Describes the relationship between an organization and its founder or co-founder.'}],\n",
       "  'passageStart': 282,\n",
       "  'passageEnd': 527,\n",
       "  'passageText': \"Tim was obsessing over bands, running a fanzine and releasing Bloc Party's debut single, Toby was running reputable website rockfeedback.com, which he set up aged 15 from his bedroom, whilst making shows for MTV and - promoting a Bloc Party gig.\",\n",
       "  'facts': [{'factId': '4788:424:429:430:432:2',\n",
       "    'propertyId': '2',\n",
       "    'humanReadable': '<which> <FOUNDED_BY> <he>',\n",
       "    'annotatedPassage': \"Tim was obsessing over bands, running a fanzine and releasing Bloc Party's debut single, Toby was running reputable website rockfeedback.com, <which> <he> set up aged 15 from his bedroom, whilst making shows for MTV and - promoting a Bloc Party gig.\",\n",
       "    'subjectStart': 424,\n",
       "    'subjectEnd': 429,\n",
       "    'subjectText': 'which',\n",
       "    'subjectUri': '',\n",
       "    'objectStart': 430,\n",
       "    'objectEnd': 432,\n",
       "    'objectText': 'he',\n",
       "    'objectUri': ''},\n",
       "   {'factId': '4788:424:429:453:456:2',\n",
       "    'propertyId': '2',\n",
       "    'humanReadable': '<which> <FOUNDED_BY> <his>',\n",
       "    'annotatedPassage': \"Tim was obsessing over bands, running a fanzine and releasing Bloc Party's debut single, Toby was running reputable website rockfeedback.com, <which> he set up aged 15 from <his> bedroom, whilst making shows for MTV and - promoting a Bloc Party gig.\",\n",
       "    'subjectStart': 424,\n",
       "    'subjectEnd': 429,\n",
       "    'subjectText': 'which',\n",
       "    'subjectUri': '',\n",
       "    'objectStart': 453,\n",
       "    'objectEnd': 456,\n",
       "    'objectText': 'his',\n",
       "    'objectUri': ''},\n",
       "   {'factId': '4788:406:422:430:432:2',\n",
       "    'propertyId': '2',\n",
       "    'humanReadable': '<rockfeedback.com> <FOUNDED_BY> <he>',\n",
       "    'annotatedPassage': \"Tim was obsessing over bands, running a fanzine and releasing Bloc Party's debut single, Toby was running reputable website <rockfeedback.com>, which <he> set up aged 15 from his bedroom, whilst making shows for MTV and - promoting a Bloc Party gig.\",\n",
       "    'subjectStart': 406,\n",
       "    'subjectEnd': 422,\n",
       "    'subjectText': 'rockfeedback.com',\n",
       "    'subjectUri': '',\n",
       "    'objectStart': 430,\n",
       "    'objectEnd': 432,\n",
       "    'objectText': 'he',\n",
       "    'objectUri': ''},\n",
       "   {'factId': '4788:406:422:453:456:2',\n",
       "    'propertyId': '2',\n",
       "    'humanReadable': '<rockfeedback.com> <FOUNDED_BY> <his>',\n",
       "    'annotatedPassage': \"Tim was obsessing over bands, running a fanzine and releasing Bloc Party's debut single, Toby was running reputable website <rockfeedback.com>, which he set up aged 15 from <his> bedroom, whilst making shows for MTV and - promoting a Bloc Party gig.\",\n",
       "    'subjectStart': 406,\n",
       "    'subjectEnd': 422,\n",
       "    'subjectText': 'rockfeedback.com',\n",
       "    'subjectUri': '',\n",
       "    'objectStart': 453,\n",
       "    'objectEnd': 456,\n",
       "    'objectText': 'his',\n",
       "    'objectUri': ''},\n",
       "   {'factId': '4788:424:429:371:375:2',\n",
       "    'propertyId': '2',\n",
       "    'humanReadable': '<which> <FOUNDED_BY> <Toby>',\n",
       "    'annotatedPassage': \"Tim was obsessing over bands, running a fanzine and releasing Bloc Party's debut single, <Toby> was running reputable website rockfeedback.com, <which> he set up aged 15 from his bedroom, whilst making shows for MTV and - promoting a Bloc Party gig.\",\n",
       "    'subjectStart': 424,\n",
       "    'subjectEnd': 429,\n",
       "    'subjectText': 'which',\n",
       "    'subjectUri': '',\n",
       "    'objectStart': 371,\n",
       "    'objectEnd': 375,\n",
       "    'objectText': 'Toby',\n",
       "    'objectUri': ''}]}]"
      ]
     },
     "execution_count": 20,
     "metadata": {},
     "output_type": "execute_result"
    }
   ],
   "source": [
    "df1.loc[10]['passages']"
   ]
  },
  {
   "cell_type": "code",
   "execution_count": null,
   "id": "4537f315",
   "metadata": {},
   "outputs": [],
   "source": []
  }
 ],
 "metadata": {
  "kernelspec": {
   "display_name": "Python 3",
   "language": "python",
   "name": "python3"
  },
  "language_info": {
   "codemirror_mode": {
    "name": "ipython",
    "version": 3
   },
   "file_extension": ".py",
   "mimetype": "text/x-python",
   "name": "python",
   "nbconvert_exporter": "python",
   "pygments_lexer": "ipython3",
   "version": "3.8.8"
  }
 },
 "nbformat": 4,
 "nbformat_minor": 5
}
