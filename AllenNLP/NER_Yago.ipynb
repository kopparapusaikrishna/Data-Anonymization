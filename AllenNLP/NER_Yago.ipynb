{
  "cells": [
    {
      "cell_type": "markdown",
      "source": [
        "# Installing Libraries"
      ],
      "metadata": {
        "id": "9JfEst-Srsm3"
      },
      "id": "9JfEst-Srsm3"
    },
    {
      "cell_type": "code",
      "source": [
        "!pip install allennlp==2.1.0 allennlp-models==2.1.0"
      ],
      "metadata": {
        "colab": {
          "base_uri": "https://localhost:8080/"
        },
        "id": "Nn9YUelfreAO",
        "outputId": "3568b891-92c4-4b24-ac27-7cd8cadcb19e"
      },
      "id": "Nn9YUelfreAO",
      "execution_count": null,
      "outputs": [
        {
          "output_type": "stream",
          "name": "stdout",
          "text": [
            "Looking in indexes: https://pypi.org/simple, https://us-python.pkg.dev/colab-wheels/public/simple/\n",
            "Collecting allennlp==2.1.0\n",
            "  Downloading allennlp-2.1.0-py3-none-any.whl (585 kB)\n",
            "\u001b[K     |████████████████████████████████| 585 kB 22.7 MB/s \n",
            "\u001b[?25hCollecting allennlp-models==2.1.0\n",
            "  Downloading allennlp_models-2.1.0-py3-none-any.whl (407 kB)\n",
            "\u001b[K     |████████████████████████████████| 407 kB 39.0 MB/s \n",
            "\u001b[?25hCollecting spacy<3.1,>=2.1.0\n",
            "  Downloading spacy-3.0.8-cp38-cp38-manylinux_2_17_x86_64.manylinux2014_x86_64.whl (6.0 MB)\n",
            "\u001b[K     |████████████████████████████████| 6.0 MB 9.2 MB/s \n",
            "\u001b[?25hCollecting filelock<3.1,>=3.0\n",
            "  Downloading filelock-3.0.12-py3-none-any.whl (7.6 kB)\n",
            "Requirement already satisfied: scikit-learn in /usr/local/lib/python3.8/dist-packages (from allennlp==2.1.0) (1.0.2)\n",
            "Collecting sentencepiece\n",
            "  Downloading sentencepiece-0.1.97-cp38-cp38-manylinux_2_17_x86_64.manylinux2014_x86_64.whl (1.3 MB)\n",
            "\u001b[K     |████████████████████████████████| 1.3 MB 45.2 MB/s \n",
            "\u001b[?25hRequirement already satisfied: h5py in /usr/local/lib/python3.8/dist-packages (from allennlp==2.1.0) (3.1.0)\n",
            "Requirement already satisfied: requests>=2.18 in /usr/local/lib/python3.8/dist-packages (from allennlp==2.1.0) (2.23.0)\n",
            "Collecting jsonpickle\n",
            "  Downloading jsonpickle-3.0.0-py2.py3-none-any.whl (40 kB)\n",
            "\u001b[K     |████████████████████████████████| 40 kB 3.5 MB/s \n",
            "\u001b[?25hCollecting tensorboardX>=1.2\n",
            "  Downloading tensorboardX-2.5.1-py2.py3-none-any.whl (125 kB)\n",
            "\u001b[K     |████████████████████████████████| 125 kB 63.7 MB/s \n",
            "\u001b[?25hCollecting transformers<4.4,>=4.1\n",
            "  Downloading transformers-4.3.3-py3-none-any.whl (1.9 MB)\n",
            "\u001b[K     |████████████████████████████████| 1.9 MB 77.3 MB/s \n",
            "\u001b[?25hCollecting torchvision<0.9.0,>=0.8.1\n",
            "  Downloading torchvision-0.8.2-cp38-cp38-manylinux1_x86_64.whl (12.8 MB)\n",
            "\u001b[K     |████████████████████████████████| 12.8 MB 50.3 MB/s \n",
            "\u001b[?25hRequirement already satisfied: tqdm>=4.19 in /usr/local/lib/python3.8/dist-packages (from allennlp==2.1.0) (4.64.1)\n",
            "Requirement already satisfied: more-itertools in /usr/local/lib/python3.8/dist-packages (from allennlp==2.1.0) (9.0.0)\n",
            "Requirement already satisfied: scipy in /usr/local/lib/python3.8/dist-packages (from allennlp==2.1.0) (1.7.3)\n",
            "Requirement already satisfied: numpy in /usr/local/lib/python3.8/dist-packages (from allennlp==2.1.0) (1.21.6)\n",
            "Collecting boto3<2.0,>=1.14\n",
            "  Downloading boto3-1.26.23-py3-none-any.whl (132 kB)\n",
            "\u001b[K     |████████████████████████████████| 132 kB 77.3 MB/s \n",
            "\u001b[?25hCollecting jsonnet>=0.10.0\n",
            "  Downloading jsonnet-0.19.1.tar.gz (593 kB)\n",
            "\u001b[K     |████████████████████████████████| 593 kB 55.1 MB/s \n",
            "\u001b[?25hCollecting torch<1.8.0,>=1.6.0\n",
            "  Downloading torch-1.7.1-cp38-cp38-manylinux1_x86_64.whl (776.8 MB)\n",
            "\u001b[K     |████████████████████████████████| 776.8 MB 4.6 kB/s \n",
            "\u001b[?25hRequirement already satisfied: pytest in /usr/local/lib/python3.8/dist-packages (from allennlp==2.1.0) (3.6.4)\n",
            "Collecting overrides==3.1.0\n",
            "  Downloading overrides-3.1.0.tar.gz (11 kB)\n",
            "Requirement already satisfied: lmdb in /usr/local/lib/python3.8/dist-packages (from allennlp==2.1.0) (0.99)\n",
            "Requirement already satisfied: nltk in /usr/local/lib/python3.8/dist-packages (from allennlp==2.1.0) (3.7)\n",
            "Collecting word2number>=1.1\n",
            "  Downloading word2number-1.1.zip (9.7 kB)\n",
            "Collecting ftfy\n",
            "  Downloading ftfy-6.1.1-py3-none-any.whl (53 kB)\n",
            "\u001b[K     |████████████████████████████████| 53 kB 2.0 MB/s \n",
            "\u001b[?25hCollecting py-rouge==1.1\n",
            "  Downloading py_rouge-1.1-py3-none-any.whl (56 kB)\n",
            "\u001b[K     |████████████████████████████████| 56 kB 5.2 MB/s \n",
            "\u001b[?25hCollecting conllu==4.4\n",
            "  Downloading conllu-4.4-py2.py3-none-any.whl (15 kB)\n",
            "Collecting s3transfer<0.7.0,>=0.6.0\n",
            "  Downloading s3transfer-0.6.0-py3-none-any.whl (79 kB)\n",
            "\u001b[K     |████████████████████████████████| 79 kB 8.8 MB/s \n",
            "\u001b[?25hCollecting botocore<1.30.0,>=1.29.23\n",
            "  Downloading botocore-1.29.23-py3-none-any.whl (10.2 MB)\n",
            "\u001b[K     |████████████████████████████████| 10.2 MB 49.1 MB/s \n",
            "\u001b[?25hCollecting jmespath<2.0.0,>=0.7.1\n",
            "  Downloading jmespath-1.0.1-py3-none-any.whl (20 kB)\n",
            "Requirement already satisfied: python-dateutil<3.0.0,>=2.1 in /usr/local/lib/python3.8/dist-packages (from botocore<1.30.0,>=1.29.23->boto3<2.0,>=1.14->allennlp==2.1.0) (2.8.2)\n",
            "Collecting urllib3<1.27,>=1.25.4\n",
            "  Downloading urllib3-1.26.13-py2.py3-none-any.whl (140 kB)\n",
            "\u001b[K     |████████████████████████████████| 140 kB 65.4 MB/s \n",
            "\u001b[?25hRequirement already satisfied: six>=1.5 in /usr/local/lib/python3.8/dist-packages (from python-dateutil<3.0.0,>=2.1->botocore<1.30.0,>=1.29.23->boto3<2.0,>=1.14->allennlp==2.1.0) (1.15.0)\n",
            "  Downloading urllib3-1.25.11-py2.py3-none-any.whl (127 kB)\n",
            "\u001b[K     |████████████████████████████████| 127 kB 63.4 MB/s \n",
            "\u001b[?25hRequirement already satisfied: chardet<4,>=3.0.2 in /usr/local/lib/python3.8/dist-packages (from requests>=2.18->allennlp==2.1.0) (3.0.4)\n",
            "Requirement already satisfied: idna<3,>=2.5 in /usr/local/lib/python3.8/dist-packages (from requests>=2.18->allennlp==2.1.0) (2.10)\n",
            "Requirement already satisfied: certifi>=2017.4.17 in /usr/local/lib/python3.8/dist-packages (from requests>=2.18->allennlp==2.1.0) (2022.9.24)\n",
            "Collecting thinc<8.1.0,>=8.0.3\n",
            "  Downloading thinc-8.0.17-cp38-cp38-manylinux_2_17_x86_64.manylinux2014_x86_64.whl (671 kB)\n",
            "\u001b[K     |████████████████████████████████| 671 kB 60.2 MB/s \n",
            "\u001b[?25hRequirement already satisfied: murmurhash<1.1.0,>=0.28.0 in /usr/local/lib/python3.8/dist-packages (from spacy<3.1,>=2.1.0->allennlp==2.1.0) (1.0.9)\n",
            "Requirement already satisfied: preshed<3.1.0,>=3.0.2 in /usr/local/lib/python3.8/dist-packages (from spacy<3.1,>=2.1.0->allennlp==2.1.0) (3.0.8)\n",
            "Requirement already satisfied: jinja2 in /usr/local/lib/python3.8/dist-packages (from spacy<3.1,>=2.1.0->allennlp==2.1.0) (2.11.3)\n",
            "Requirement already satisfied: srsly<3.0.0,>=2.4.1 in /usr/local/lib/python3.8/dist-packages (from spacy<3.1,>=2.1.0->allennlp==2.1.0) (2.4.5)\n",
            "Requirement already satisfied: catalogue<2.1.0,>=2.0.4 in /usr/local/lib/python3.8/dist-packages (from spacy<3.1,>=2.1.0->allennlp==2.1.0) (2.0.8)\n",
            "Requirement already satisfied: packaging>=20.0 in /usr/local/lib/python3.8/dist-packages (from spacy<3.1,>=2.1.0->allennlp==2.1.0) (21.3)\n",
            "Requirement already satisfied: wasabi<1.1.0,>=0.8.1 in /usr/local/lib/python3.8/dist-packages (from spacy<3.1,>=2.1.0->allennlp==2.1.0) (0.10.1)\n",
            "Requirement already satisfied: setuptools in /usr/local/lib/python3.8/dist-packages (from spacy<3.1,>=2.1.0->allennlp==2.1.0) (57.4.0)\n",
            "Requirement already satisfied: pathy>=0.3.5 in /usr/local/lib/python3.8/dist-packages (from spacy<3.1,>=2.1.0->allennlp==2.1.0) (0.9.0)\n",
            "Requirement already satisfied: cymem<2.1.0,>=2.0.2 in /usr/local/lib/python3.8/dist-packages (from spacy<3.1,>=2.1.0->allennlp==2.1.0) (2.0.7)\n",
            "Collecting pydantic!=1.8,!=1.8.1,<1.9.0,>=1.7.4\n",
            "  Downloading pydantic-1.8.2-cp38-cp38-manylinux2014_x86_64.whl (13.7 MB)\n",
            "\u001b[K     |████████████████████████████████| 13.7 MB 61.6 MB/s \n",
            "\u001b[?25hRequirement already satisfied: blis<0.8.0,>=0.4.0 in /usr/local/lib/python3.8/dist-packages (from spacy<3.1,>=2.1.0->allennlp==2.1.0) (0.7.9)\n",
            "Collecting typer<0.4.0,>=0.3.0\n",
            "  Downloading typer-0.3.2-py3-none-any.whl (21 kB)\n",
            "Requirement already satisfied: spacy-legacy<3.1.0,>=3.0.5 in /usr/local/lib/python3.8/dist-packages (from spacy<3.1,>=2.1.0->allennlp==2.1.0) (3.0.10)\n",
            "Requirement already satisfied: pyparsing!=3.0.5,>=2.0.2 in /usr/local/lib/python3.8/dist-packages (from packaging>=20.0->spacy<3.1,>=2.1.0->allennlp==2.1.0) (3.0.9)\n",
            "Requirement already satisfied: smart-open<6.0.0,>=5.2.1 in /usr/local/lib/python3.8/dist-packages (from pathy>=0.3.5->spacy<3.1,>=2.1.0->allennlp==2.1.0) (5.2.1)\n",
            "Requirement already satisfied: typing-extensions>=3.7.4.3 in /usr/local/lib/python3.8/dist-packages (from pydantic!=1.8,!=1.8.1,<1.9.0,>=1.7.4->spacy<3.1,>=2.1.0->allennlp==2.1.0) (4.1.1)\n",
            "Requirement already satisfied: protobuf<=3.20.1,>=3.8.0 in /usr/local/lib/python3.8/dist-packages (from tensorboardX>=1.2->allennlp==2.1.0) (3.19.6)\n",
            "Requirement already satisfied: pillow>=4.1.1 in /usr/local/lib/python3.8/dist-packages (from torchvision<0.9.0,>=0.8.1->allennlp==2.1.0) (7.1.2)\n",
            "Requirement already satisfied: regex!=2019.12.17 in /usr/local/lib/python3.8/dist-packages (from transformers<4.4,>=4.1->allennlp==2.1.0) (2022.6.2)\n",
            "Collecting tokenizers<0.11,>=0.10.1\n",
            "  Downloading tokenizers-0.10.3-cp38-cp38-manylinux_2_5_x86_64.manylinux1_x86_64.manylinux_2_12_x86_64.manylinux2010_x86_64.whl (3.3 MB)\n",
            "\u001b[K     |████████████████████████████████| 3.3 MB 64.4 MB/s \n",
            "\u001b[?25hCollecting sacremoses\n",
            "  Downloading sacremoses-0.0.53.tar.gz (880 kB)\n",
            "\u001b[K     |████████████████████████████████| 880 kB 75.9 MB/s \n",
            "\u001b[?25hRequirement already satisfied: click<7.2.0,>=7.1.1 in /usr/local/lib/python3.8/dist-packages (from typer<0.4.0,>=0.3.0->spacy<3.1,>=2.1.0->allennlp==2.1.0) (7.1.2)\n",
            "Requirement already satisfied: wcwidth>=0.2.5 in /usr/local/lib/python3.8/dist-packages (from ftfy->allennlp-models==2.1.0) (0.2.5)\n",
            "Requirement already satisfied: MarkupSafe>=0.23 in /usr/local/lib/python3.8/dist-packages (from jinja2->spacy<3.1,>=2.1.0->allennlp==2.1.0) (2.0.1)\n",
            "Requirement already satisfied: joblib in /usr/local/lib/python3.8/dist-packages (from nltk->allennlp==2.1.0) (1.2.0)\n",
            "Requirement already satisfied: py>=1.5.0 in /usr/local/lib/python3.8/dist-packages (from pytest->allennlp==2.1.0) (1.11.0)\n",
            "Requirement already satisfied: attrs>=17.4.0 in /usr/local/lib/python3.8/dist-packages (from pytest->allennlp==2.1.0) (22.1.0)\n",
            "Requirement already satisfied: atomicwrites>=1.0 in /usr/local/lib/python3.8/dist-packages (from pytest->allennlp==2.1.0) (1.4.1)\n",
            "Requirement already satisfied: pluggy<0.8,>=0.5 in /usr/local/lib/python3.8/dist-packages (from pytest->allennlp==2.1.0) (0.7.1)\n",
            "Requirement already satisfied: threadpoolctl>=2.0.0 in /usr/local/lib/python3.8/dist-packages (from scikit-learn->allennlp==2.1.0) (3.1.0)\n",
            "Building wheels for collected packages: overrides, jsonnet, word2number, sacremoses\n",
            "  Building wheel for overrides (setup.py) ... \u001b[?25l\u001b[?25hdone\n",
            "  Created wheel for overrides: filename=overrides-3.1.0-py3-none-any.whl size=10187 sha256=02a1e8cc10b1b2d0d4371021b7eb3e42313495529b1d7f147dcf162637a6ca51\n",
            "  Stored in directory: /root/.cache/pip/wheels/6a/4f/72/28857f75625b263e2e3f5ab2fc4416c0a85960ac6485007eaa\n",
            "  Building wheel for jsonnet (setup.py) ... \u001b[?25l\u001b[?25hdone\n",
            "  Created wheel for jsonnet: filename=jsonnet-0.19.1-cp38-cp38-linux_x86_64.whl size=3996089 sha256=529d8d55b50de6efb22ec3fe460f22ea136bd5df1b92f6818a7298ab55982f63\n",
            "  Stored in directory: /root/.cache/pip/wheels/64/ec/56/de861aae102c449ade2378772abbf9eb7e9acfe9a80f3e6036\n",
            "  Building wheel for word2number (setup.py) ... \u001b[?25l\u001b[?25hdone\n",
            "  Created wheel for word2number: filename=word2number-1.1-py3-none-any.whl size=5582 sha256=9386bfe335bbc3a5b1d351ded2fa528210cf27209af0827f0ef397572c3dcbdf\n",
            "  Stored in directory: /root/.cache/pip/wheels/cb/f3/5a/d88198fdeb46781ddd7e7f2653061af83e7adb2a076d8886d6\n",
            "  Building wheel for sacremoses (setup.py) ... \u001b[?25l\u001b[?25hdone\n",
            "  Created wheel for sacremoses: filename=sacremoses-0.0.53-py3-none-any.whl size=895260 sha256=69c8fe56ad0179faa4256750ec5dc6b0460e6da89910474025ecae0427120860\n",
            "  Stored in directory: /root/.cache/pip/wheels/82/ab/9b/c15899bf659ba74f623ac776e861cf2eb8608c1825ddec66a4\n",
            "Successfully built overrides jsonnet word2number sacremoses\n",
            "Installing collected packages: urllib3, jmespath, typer, pydantic, botocore, torch, tokenizers, thinc, sacremoses, s3transfer, filelock, transformers, torchvision, tensorboardX, spacy, sentencepiece, overrides, jsonpickle, jsonnet, boto3, word2number, py-rouge, ftfy, conllu, allennlp, allennlp-models\n",
            "  Attempting uninstall: urllib3\n",
            "    Found existing installation: urllib3 1.24.3\n",
            "    Uninstalling urllib3-1.24.3:\n",
            "      Successfully uninstalled urllib3-1.24.3\n",
            "  Attempting uninstall: typer\n",
            "    Found existing installation: typer 0.7.0\n",
            "    Uninstalling typer-0.7.0:\n",
            "      Successfully uninstalled typer-0.7.0\n",
            "  Attempting uninstall: pydantic\n",
            "    Found existing installation: pydantic 1.10.2\n",
            "    Uninstalling pydantic-1.10.2:\n",
            "      Successfully uninstalled pydantic-1.10.2\n",
            "  Attempting uninstall: torch\n",
            "    Found existing installation: torch 1.12.1+cu113\n",
            "    Uninstalling torch-1.12.1+cu113:\n",
            "      Successfully uninstalled torch-1.12.1+cu113\n",
            "  Attempting uninstall: thinc\n",
            "    Found existing installation: thinc 8.1.5\n",
            "    Uninstalling thinc-8.1.5:\n",
            "      Successfully uninstalled thinc-8.1.5\n",
            "  Attempting uninstall: filelock\n",
            "    Found existing installation: filelock 3.8.0\n",
            "    Uninstalling filelock-3.8.0:\n",
            "      Successfully uninstalled filelock-3.8.0\n",
            "  Attempting uninstall: torchvision\n",
            "    Found existing installation: torchvision 0.13.1+cu113\n",
            "    Uninstalling torchvision-0.13.1+cu113:\n",
            "      Successfully uninstalled torchvision-0.13.1+cu113\n",
            "  Attempting uninstall: spacy\n",
            "    Found existing installation: spacy 3.4.3\n",
            "    Uninstalling spacy-3.4.3:\n",
            "      Successfully uninstalled spacy-3.4.3\n",
            "\u001b[31mERROR: pip's dependency resolver does not currently take into account all the packages that are installed. This behaviour is the source of the following dependency conflicts.\n",
            "torchtext 0.13.1 requires torch==1.12.1, but you have torch 1.7.1 which is incompatible.\n",
            "torchaudio 0.12.1+cu113 requires torch==1.12.1, but you have torch 1.7.1 which is incompatible.\n",
            "en-core-web-sm 3.4.1 requires spacy<3.5.0,>=3.4.0, but you have spacy 3.0.8 which is incompatible.\u001b[0m\n",
            "Successfully installed allennlp-2.1.0 allennlp-models-2.1.0 boto3-1.26.23 botocore-1.29.23 conllu-4.4 filelock-3.0.12 ftfy-6.1.1 jmespath-1.0.1 jsonnet-0.19.1 jsonpickle-3.0.0 overrides-3.1.0 py-rouge-1.1 pydantic-1.8.2 s3transfer-0.6.0 sacremoses-0.0.53 sentencepiece-0.1.97 spacy-3.0.8 tensorboardX-2.5.1 thinc-8.0.17 tokenizers-0.10.3 torch-1.7.1 torchvision-0.8.2 transformers-4.3.3 typer-0.3.2 urllib3-1.25.11 word2number-1.1\n"
          ]
        }
      ]
    },
    {
      "cell_type": "code",
      "source": [
        "!pip install allennlp-models"
      ],
      "metadata": {
        "colab": {
          "base_uri": "https://localhost:8080/"
        },
        "id": "5wgwOgKzrd5G",
        "outputId": "d66bcdf5-51d6-41c2-da5a-c279e30efe9b"
      },
      "id": "5wgwOgKzrd5G",
      "execution_count": null,
      "outputs": [
        {
          "output_type": "stream",
          "name": "stdout",
          "text": [
            "Looking in indexes: https://pypi.org/simple, https://us-python.pkg.dev/colab-wheels/public/simple/\n",
            "Requirement already satisfied: allennlp-models in /usr/local/lib/python3.8/dist-packages (2.1.0)\n",
            "Requirement already satisfied: py-rouge==1.1 in /usr/local/lib/python3.8/dist-packages (from allennlp-models) (1.1)\n",
            "Requirement already satisfied: nltk in /usr/local/lib/python3.8/dist-packages (from allennlp-models) (3.7)\n",
            "Requirement already satisfied: word2number>=1.1 in /usr/local/lib/python3.8/dist-packages (from allennlp-models) (1.1)\n",
            "Requirement already satisfied: torch<1.8.0,>=1.7.0 in /usr/local/lib/python3.8/dist-packages (from allennlp-models) (1.7.1)\n",
            "Requirement already satisfied: ftfy in /usr/local/lib/python3.8/dist-packages (from allennlp-models) (6.1.1)\n",
            "Requirement already satisfied: allennlp<2.2,>=2.1.0 in /usr/local/lib/python3.8/dist-packages (from allennlp-models) (2.1.0)\n",
            "Requirement already satisfied: conllu==4.4 in /usr/local/lib/python3.8/dist-packages (from allennlp-models) (4.4)\n",
            "Requirement already satisfied: pytest in /usr/local/lib/python3.8/dist-packages (from allennlp<2.2,>=2.1.0->allennlp-models) (3.6.4)\n",
            "Requirement already satisfied: tqdm>=4.19 in /usr/local/lib/python3.8/dist-packages (from allennlp<2.2,>=2.1.0->allennlp-models) (4.64.1)\n",
            "Requirement already satisfied: boto3<2.0,>=1.14 in /usr/local/lib/python3.8/dist-packages (from allennlp<2.2,>=2.1.0->allennlp-models) (1.26.23)\n",
            "Requirement already satisfied: lmdb in /usr/local/lib/python3.8/dist-packages (from allennlp<2.2,>=2.1.0->allennlp-models) (0.99)\n",
            "Requirement already satisfied: spacy<3.1,>=2.1.0 in /usr/local/lib/python3.8/dist-packages (from allennlp<2.2,>=2.1.0->allennlp-models) (3.0.8)\n",
            "Requirement already satisfied: sentencepiece in /usr/local/lib/python3.8/dist-packages (from allennlp<2.2,>=2.1.0->allennlp-models) (0.1.97)\n",
            "Requirement already satisfied: scikit-learn in /usr/local/lib/python3.8/dist-packages (from allennlp<2.2,>=2.1.0->allennlp-models) (1.0.2)\n",
            "Requirement already satisfied: requests>=2.18 in /usr/local/lib/python3.8/dist-packages (from allennlp<2.2,>=2.1.0->allennlp-models) (2.23.0)\n",
            "Requirement already satisfied: overrides==3.1.0 in /usr/local/lib/python3.8/dist-packages (from allennlp<2.2,>=2.1.0->allennlp-models) (3.1.0)\n",
            "Requirement already satisfied: h5py in /usr/local/lib/python3.8/dist-packages (from allennlp<2.2,>=2.1.0->allennlp-models) (3.1.0)\n",
            "Requirement already satisfied: torchvision<0.9.0,>=0.8.1 in /usr/local/lib/python3.8/dist-packages (from allennlp<2.2,>=2.1.0->allennlp-models) (0.8.2)\n",
            "Requirement already satisfied: jsonnet>=0.10.0 in /usr/local/lib/python3.8/dist-packages (from allennlp<2.2,>=2.1.0->allennlp-models) (0.19.1)\n",
            "Requirement already satisfied: tensorboardX>=1.2 in /usr/local/lib/python3.8/dist-packages (from allennlp<2.2,>=2.1.0->allennlp-models) (2.5.1)\n",
            "Requirement already satisfied: numpy in /usr/local/lib/python3.8/dist-packages (from allennlp<2.2,>=2.1.0->allennlp-models) (1.21.6)\n",
            "Requirement already satisfied: filelock<3.1,>=3.0 in /usr/local/lib/python3.8/dist-packages (from allennlp<2.2,>=2.1.0->allennlp-models) (3.0.12)\n",
            "Requirement already satisfied: more-itertools in /usr/local/lib/python3.8/dist-packages (from allennlp<2.2,>=2.1.0->allennlp-models) (9.0.0)\n",
            "Requirement already satisfied: scipy in /usr/local/lib/python3.8/dist-packages (from allennlp<2.2,>=2.1.0->allennlp-models) (1.7.3)\n",
            "Requirement already satisfied: jsonpickle in /usr/local/lib/python3.8/dist-packages (from allennlp<2.2,>=2.1.0->allennlp-models) (3.0.0)\n",
            "Requirement already satisfied: transformers<4.4,>=4.1 in /usr/local/lib/python3.8/dist-packages (from allennlp<2.2,>=2.1.0->allennlp-models) (4.3.3)\n",
            "Requirement already satisfied: s3transfer<0.7.0,>=0.6.0 in /usr/local/lib/python3.8/dist-packages (from boto3<2.0,>=1.14->allennlp<2.2,>=2.1.0->allennlp-models) (0.6.0)\n",
            "Requirement already satisfied: botocore<1.30.0,>=1.29.23 in /usr/local/lib/python3.8/dist-packages (from boto3<2.0,>=1.14->allennlp<2.2,>=2.1.0->allennlp-models) (1.29.23)\n",
            "Requirement already satisfied: jmespath<2.0.0,>=0.7.1 in /usr/local/lib/python3.8/dist-packages (from boto3<2.0,>=1.14->allennlp<2.2,>=2.1.0->allennlp-models) (1.0.1)\n",
            "Requirement already satisfied: python-dateutil<3.0.0,>=2.1 in /usr/local/lib/python3.8/dist-packages (from botocore<1.30.0,>=1.29.23->boto3<2.0,>=1.14->allennlp<2.2,>=2.1.0->allennlp-models) (2.8.2)\n",
            "Requirement already satisfied: urllib3<1.27,>=1.25.4 in /usr/local/lib/python3.8/dist-packages (from botocore<1.30.0,>=1.29.23->boto3<2.0,>=1.14->allennlp<2.2,>=2.1.0->allennlp-models) (1.25.11)\n",
            "Requirement already satisfied: six>=1.5 in /usr/local/lib/python3.8/dist-packages (from python-dateutil<3.0.0,>=2.1->botocore<1.30.0,>=1.29.23->boto3<2.0,>=1.14->allennlp<2.2,>=2.1.0->allennlp-models) (1.15.0)\n",
            "Requirement already satisfied: idna<3,>=2.5 in /usr/local/lib/python3.8/dist-packages (from requests>=2.18->allennlp<2.2,>=2.1.0->allennlp-models) (2.10)\n",
            "Requirement already satisfied: chardet<4,>=3.0.2 in /usr/local/lib/python3.8/dist-packages (from requests>=2.18->allennlp<2.2,>=2.1.0->allennlp-models) (3.0.4)\n",
            "Requirement already satisfied: certifi>=2017.4.17 in /usr/local/lib/python3.8/dist-packages (from requests>=2.18->allennlp<2.2,>=2.1.0->allennlp-models) (2022.9.24)\n",
            "Requirement already satisfied: murmurhash<1.1.0,>=0.28.0 in /usr/local/lib/python3.8/dist-packages (from spacy<3.1,>=2.1.0->allennlp<2.2,>=2.1.0->allennlp-models) (1.0.9)\n",
            "Requirement already satisfied: blis<0.8.0,>=0.4.0 in /usr/local/lib/python3.8/dist-packages (from spacy<3.1,>=2.1.0->allennlp<2.2,>=2.1.0->allennlp-models) (0.7.9)\n",
            "Requirement already satisfied: catalogue<2.1.0,>=2.0.4 in /usr/local/lib/python3.8/dist-packages (from spacy<3.1,>=2.1.0->allennlp<2.2,>=2.1.0->allennlp-models) (2.0.8)\n",
            "Requirement already satisfied: typer<0.4.0,>=0.3.0 in /usr/local/lib/python3.8/dist-packages (from spacy<3.1,>=2.1.0->allennlp<2.2,>=2.1.0->allennlp-models) (0.3.2)\n",
            "Requirement already satisfied: preshed<3.1.0,>=3.0.2 in /usr/local/lib/python3.8/dist-packages (from spacy<3.1,>=2.1.0->allennlp<2.2,>=2.1.0->allennlp-models) (3.0.8)\n",
            "Requirement already satisfied: setuptools in /usr/local/lib/python3.8/dist-packages (from spacy<3.1,>=2.1.0->allennlp<2.2,>=2.1.0->allennlp-models) (57.4.0)\n",
            "Requirement already satisfied: thinc<8.1.0,>=8.0.3 in /usr/local/lib/python3.8/dist-packages (from spacy<3.1,>=2.1.0->allennlp<2.2,>=2.1.0->allennlp-models) (8.0.17)\n",
            "Requirement already satisfied: wasabi<1.1.0,>=0.8.1 in /usr/local/lib/python3.8/dist-packages (from spacy<3.1,>=2.1.0->allennlp<2.2,>=2.1.0->allennlp-models) (0.10.1)\n",
            "Requirement already satisfied: packaging>=20.0 in /usr/local/lib/python3.8/dist-packages (from spacy<3.1,>=2.1.0->allennlp<2.2,>=2.1.0->allennlp-models) (21.3)\n",
            "Requirement already satisfied: cymem<2.1.0,>=2.0.2 in /usr/local/lib/python3.8/dist-packages (from spacy<3.1,>=2.1.0->allennlp<2.2,>=2.1.0->allennlp-models) (2.0.7)\n",
            "Requirement already satisfied: srsly<3.0.0,>=2.4.1 in /usr/local/lib/python3.8/dist-packages (from spacy<3.1,>=2.1.0->allennlp<2.2,>=2.1.0->allennlp-models) (2.4.5)\n",
            "Requirement already satisfied: spacy-legacy<3.1.0,>=3.0.5 in /usr/local/lib/python3.8/dist-packages (from spacy<3.1,>=2.1.0->allennlp<2.2,>=2.1.0->allennlp-models) (3.0.10)\n",
            "Requirement already satisfied: pathy>=0.3.5 in /usr/local/lib/python3.8/dist-packages (from spacy<3.1,>=2.1.0->allennlp<2.2,>=2.1.0->allennlp-models) (0.9.0)\n",
            "Requirement already satisfied: jinja2 in /usr/local/lib/python3.8/dist-packages (from spacy<3.1,>=2.1.0->allennlp<2.2,>=2.1.0->allennlp-models) (2.11.3)\n",
            "Requirement already satisfied: pydantic!=1.8,!=1.8.1,<1.9.0,>=1.7.4 in /usr/local/lib/python3.8/dist-packages (from spacy<3.1,>=2.1.0->allennlp<2.2,>=2.1.0->allennlp-models) (1.8.2)\n",
            "Requirement already satisfied: pyparsing!=3.0.5,>=2.0.2 in /usr/local/lib/python3.8/dist-packages (from packaging>=20.0->spacy<3.1,>=2.1.0->allennlp<2.2,>=2.1.0->allennlp-models) (3.0.9)\n",
            "Requirement already satisfied: smart-open<6.0.0,>=5.2.1 in /usr/local/lib/python3.8/dist-packages (from pathy>=0.3.5->spacy<3.1,>=2.1.0->allennlp<2.2,>=2.1.0->allennlp-models) (5.2.1)\n",
            "Requirement already satisfied: typing-extensions>=3.7.4.3 in /usr/local/lib/python3.8/dist-packages (from pydantic!=1.8,!=1.8.1,<1.9.0,>=1.7.4->spacy<3.1,>=2.1.0->allennlp<2.2,>=2.1.0->allennlp-models) (4.1.1)\n",
            "Requirement already satisfied: protobuf<=3.20.1,>=3.8.0 in /usr/local/lib/python3.8/dist-packages (from tensorboardX>=1.2->allennlp<2.2,>=2.1.0->allennlp-models) (3.19.6)\n",
            "Requirement already satisfied: pillow>=4.1.1 in /usr/local/lib/python3.8/dist-packages (from torchvision<0.9.0,>=0.8.1->allennlp<2.2,>=2.1.0->allennlp-models) (7.1.2)\n",
            "Requirement already satisfied: tokenizers<0.11,>=0.10.1 in /usr/local/lib/python3.8/dist-packages (from transformers<4.4,>=4.1->allennlp<2.2,>=2.1.0->allennlp-models) (0.10.3)\n",
            "Requirement already satisfied: regex!=2019.12.17 in /usr/local/lib/python3.8/dist-packages (from transformers<4.4,>=4.1->allennlp<2.2,>=2.1.0->allennlp-models) (2022.6.2)\n",
            "Requirement already satisfied: sacremoses in /usr/local/lib/python3.8/dist-packages (from transformers<4.4,>=4.1->allennlp<2.2,>=2.1.0->allennlp-models) (0.0.53)\n",
            "Requirement already satisfied: click<7.2.0,>=7.1.1 in /usr/local/lib/python3.8/dist-packages (from typer<0.4.0,>=0.3.0->spacy<3.1,>=2.1.0->allennlp<2.2,>=2.1.0->allennlp-models) (7.1.2)\n",
            "Requirement already satisfied: wcwidth>=0.2.5 in /usr/local/lib/python3.8/dist-packages (from ftfy->allennlp-models) (0.2.5)\n",
            "Requirement already satisfied: MarkupSafe>=0.23 in /usr/local/lib/python3.8/dist-packages (from jinja2->spacy<3.1,>=2.1.0->allennlp<2.2,>=2.1.0->allennlp-models) (2.0.1)\n",
            "Requirement already satisfied: joblib in /usr/local/lib/python3.8/dist-packages (from nltk->allennlp-models) (1.2.0)\n",
            "Requirement already satisfied: py>=1.5.0 in /usr/local/lib/python3.8/dist-packages (from pytest->allennlp<2.2,>=2.1.0->allennlp-models) (1.11.0)\n",
            "Requirement already satisfied: pluggy<0.8,>=0.5 in /usr/local/lib/python3.8/dist-packages (from pytest->allennlp<2.2,>=2.1.0->allennlp-models) (0.7.1)\n",
            "Requirement already satisfied: atomicwrites>=1.0 in /usr/local/lib/python3.8/dist-packages (from pytest->allennlp<2.2,>=2.1.0->allennlp-models) (1.4.1)\n",
            "Requirement already satisfied: attrs>=17.4.0 in /usr/local/lib/python3.8/dist-packages (from pytest->allennlp<2.2,>=2.1.0->allennlp-models) (22.1.0)\n",
            "Requirement already satisfied: threadpoolctl>=2.0.0 in /usr/local/lib/python3.8/dist-packages (from scikit-learn->allennlp<2.2,>=2.1.0->allennlp-models) (3.1.0)\n"
          ]
        }
      ]
    },
    {
      "cell_type": "code",
      "source": [
        "!pip install -U spacy"
      ],
      "metadata": {
        "colab": {
          "base_uri": "https://localhost:8080/"
        },
        "id": "gPCX2z2LrdyL",
        "outputId": "7f03ed8e-9795-47db-f4eb-9da6917eec7c"
      },
      "id": "gPCX2z2LrdyL",
      "execution_count": null,
      "outputs": [
        {
          "output_type": "stream",
          "name": "stdout",
          "text": [
            "Looking in indexes: https://pypi.org/simple, https://us-python.pkg.dev/colab-wheels/public/simple/\n",
            "Requirement already satisfied: spacy in /usr/local/lib/python3.8/dist-packages (3.0.8)\n",
            "Collecting spacy\n",
            "  Downloading spacy-3.4.3-cp38-cp38-manylinux_2_17_x86_64.manylinux2014_x86_64.whl (6.6 MB)\n",
            "\u001b[K     |████████████████████████████████| 6.6 MB 27.5 MB/s \n",
            "\u001b[?25hRequirement already satisfied: pathy>=0.3.5 in /usr/local/lib/python3.8/dist-packages (from spacy) (0.9.0)\n",
            "Requirement already satisfied: requests<3.0.0,>=2.13.0 in /usr/local/lib/python3.8/dist-packages (from spacy) (2.23.0)\n",
            "Requirement already satisfied: langcodes<4.0.0,>=3.2.0 in /usr/local/lib/python3.8/dist-packages (from spacy) (3.3.0)\n",
            "Requirement already satisfied: catalogue<2.1.0,>=2.0.6 in /usr/local/lib/python3.8/dist-packages (from spacy) (2.0.8)\n",
            "Requirement already satisfied: spacy-legacy<3.1.0,>=3.0.10 in /usr/local/lib/python3.8/dist-packages (from spacy) (3.0.10)\n",
            "Requirement already satisfied: cymem<2.1.0,>=2.0.2 in /usr/local/lib/python3.8/dist-packages (from spacy) (2.0.7)\n",
            "Collecting thinc<8.2.0,>=8.1.0\n",
            "  Downloading thinc-8.1.5-cp38-cp38-manylinux_2_17_x86_64.manylinux2014_x86_64.whl (819 kB)\n",
            "\u001b[K     |████████████████████████████████| 819 kB 54.6 MB/s \n",
            "\u001b[?25hRequirement already satisfied: numpy>=1.15.0 in /usr/local/lib/python3.8/dist-packages (from spacy) (1.21.6)\n",
            "Requirement already satisfied: typer<0.8.0,>=0.3.0 in /usr/local/lib/python3.8/dist-packages (from spacy) (0.3.2)\n",
            "Requirement already satisfied: murmurhash<1.1.0,>=0.28.0 in /usr/local/lib/python3.8/dist-packages (from spacy) (1.0.9)\n",
            "Requirement already satisfied: tqdm<5.0.0,>=4.38.0 in /usr/local/lib/python3.8/dist-packages (from spacy) (4.64.1)\n",
            "Requirement already satisfied: packaging>=20.0 in /usr/local/lib/python3.8/dist-packages (from spacy) (21.3)\n",
            "Requirement already satisfied: jinja2 in /usr/local/lib/python3.8/dist-packages (from spacy) (2.11.3)\n",
            "Requirement already satisfied: wasabi<1.1.0,>=0.9.1 in /usr/local/lib/python3.8/dist-packages (from spacy) (0.10.1)\n",
            "Requirement already satisfied: srsly<3.0.0,>=2.4.3 in /usr/local/lib/python3.8/dist-packages (from spacy) (2.4.5)\n",
            "Requirement already satisfied: pydantic!=1.8,!=1.8.1,<1.11.0,>=1.7.4 in /usr/local/lib/python3.8/dist-packages (from spacy) (1.8.2)\n",
            "Requirement already satisfied: spacy-loggers<2.0.0,>=1.0.0 in /usr/local/lib/python3.8/dist-packages (from spacy) (1.0.3)\n",
            "Requirement already satisfied: setuptools in /usr/local/lib/python3.8/dist-packages (from spacy) (57.4.0)\n",
            "Requirement already satisfied: preshed<3.1.0,>=3.0.2 in /usr/local/lib/python3.8/dist-packages (from spacy) (3.0.8)\n",
            "Requirement already satisfied: pyparsing!=3.0.5,>=2.0.2 in /usr/local/lib/python3.8/dist-packages (from packaging>=20.0->spacy) (3.0.9)\n",
            "Requirement already satisfied: smart-open<6.0.0,>=5.2.1 in /usr/local/lib/python3.8/dist-packages (from pathy>=0.3.5->spacy) (5.2.1)\n",
            "Requirement already satisfied: typing-extensions>=3.7.4.3 in /usr/local/lib/python3.8/dist-packages (from pydantic!=1.8,!=1.8.1,<1.11.0,>=1.7.4->spacy) (4.1.1)\n",
            "Requirement already satisfied: chardet<4,>=3.0.2 in /usr/local/lib/python3.8/dist-packages (from requests<3.0.0,>=2.13.0->spacy) (3.0.4)\n",
            "Requirement already satisfied: certifi>=2017.4.17 in /usr/local/lib/python3.8/dist-packages (from requests<3.0.0,>=2.13.0->spacy) (2022.9.24)\n",
            "Requirement already satisfied: urllib3!=1.25.0,!=1.25.1,<1.26,>=1.21.1 in /usr/local/lib/python3.8/dist-packages (from requests<3.0.0,>=2.13.0->spacy) (1.25.11)\n",
            "Requirement already satisfied: idna<3,>=2.5 in /usr/local/lib/python3.8/dist-packages (from requests<3.0.0,>=2.13.0->spacy) (2.10)\n",
            "Requirement already satisfied: blis<0.8.0,>=0.7.8 in /usr/local/lib/python3.8/dist-packages (from thinc<8.2.0,>=8.1.0->spacy) (0.7.9)\n",
            "Requirement already satisfied: confection<1.0.0,>=0.0.1 in /usr/local/lib/python3.8/dist-packages (from thinc<8.2.0,>=8.1.0->spacy) (0.0.3)\n",
            "Requirement already satisfied: click<7.2.0,>=7.1.1 in /usr/local/lib/python3.8/dist-packages (from typer<0.8.0,>=0.3.0->spacy) (7.1.2)\n",
            "Requirement already satisfied: MarkupSafe>=0.23 in /usr/local/lib/python3.8/dist-packages (from jinja2->spacy) (2.0.1)\n",
            "Installing collected packages: thinc, spacy\n",
            "  Attempting uninstall: thinc\n",
            "    Found existing installation: thinc 8.0.17\n",
            "    Uninstalling thinc-8.0.17:\n",
            "      Successfully uninstalled thinc-8.0.17\n",
            "  Attempting uninstall: spacy\n",
            "    Found existing installation: spacy 3.0.8\n",
            "    Uninstalling spacy-3.0.8:\n",
            "      Successfully uninstalled spacy-3.0.8\n",
            "\u001b[31mERROR: pip's dependency resolver does not currently take into account all the packages that are installed. This behaviour is the source of the following dependency conflicts.\n",
            "allennlp 2.1.0 requires spacy<3.1,>=2.1.0, but you have spacy 3.4.3 which is incompatible.\u001b[0m\n",
            "Successfully installed spacy-3.4.3 thinc-8.1.5\n"
          ]
        }
      ]
    },
    {
      "cell_type": "code",
      "source": [
        "!pip install gensim==4.2.0"
      ],
      "metadata": {
        "colab": {
          "base_uri": "https://localhost:8080/"
        },
        "id": "015O8zKBrdn1",
        "outputId": "51ce9604-c85c-4577-bedf-7b13ffa1bfd3"
      },
      "id": "015O8zKBrdn1",
      "execution_count": null,
      "outputs": [
        {
          "output_type": "stream",
          "name": "stdout",
          "text": [
            "Looking in indexes: https://pypi.org/simple, https://us-python.pkg.dev/colab-wheels/public/simple/\n",
            "Collecting gensim==4.2.0\n",
            "  Downloading gensim-4.2.0-cp38-cp38-manylinux_2_12_x86_64.manylinux2010_x86_64.whl (24.1 MB)\n",
            "\u001b[K     |████████████████████████████████| 24.1 MB 1.2 MB/s \n",
            "\u001b[?25hRequirement already satisfied: smart-open>=1.8.1 in /usr/local/lib/python3.8/dist-packages (from gensim==4.2.0) (5.2.1)\n",
            "Requirement already satisfied: numpy>=1.17.0 in /usr/local/lib/python3.8/dist-packages (from gensim==4.2.0) (1.21.6)\n",
            "Requirement already satisfied: scipy>=0.18.1 in /usr/local/lib/python3.8/dist-packages (from gensim==4.2.0) (1.7.3)\n",
            "Installing collected packages: gensim\n",
            "  Attempting uninstall: gensim\n",
            "    Found existing installation: gensim 3.6.0\n",
            "    Uninstalling gensim-3.6.0:\n",
            "      Successfully uninstalled gensim-3.6.0\n",
            "Successfully installed gensim-4.2.0\n"
          ]
        }
      ]
    },
    {
      "cell_type": "markdown",
      "source": [
        "# Importing Libraries\n"
      ],
      "metadata": {
        "id": "Qlu9Go2Cr18S"
      },
      "id": "Qlu9Go2Cr18S"
    },
    {
      "cell_type": "code",
      "execution_count": null,
      "id": "25b0e650",
      "metadata": {
        "id": "25b0e650"
      },
      "outputs": [],
      "source": [
        "from allennlp.predictors.predictor import Predictor\n",
        "import allennlp_models.tagging\n",
        "import gensim\n",
        "import pandas as pd\n",
        "import numpy as np\n",
        "from tqdm import tqdm"
      ]
    },
    {
      "cell_type": "markdown",
      "source": [
        "# Code"
      ],
      "metadata": {
        "id": "eyolzC_xrxtO"
      },
      "id": "eyolzC_xrxtO"
    },
    {
      "cell_type": "code",
      "source": [
        "from google.colab import drive\n",
        "drive.mount('/content/drive')"
      ],
      "metadata": {
        "colab": {
          "base_uri": "https://localhost:8080/"
        },
        "id": "onIxuQukobDl",
        "outputId": "38a4c80f-191b-4717-954b-a350066254de"
      },
      "id": "onIxuQukobDl",
      "execution_count": null,
      "outputs": [
        {
          "output_type": "stream",
          "name": "stdout",
          "text": [
            "Mounted at /content/drive\n"
          ]
        }
      ]
    },
    {
      "cell_type": "code",
      "execution_count": null,
      "id": "28c8273c",
      "metadata": {
        "id": "28c8273c"
      },
      "outputs": [],
      "source": [
        "df0 = pd.read_csv('/content/drive/MyDrive/Reading elective/Word2Vec/small_input.txt', sep = ' ', header=None) "
      ]
    },
    {
      "cell_type": "code",
      "execution_count": null,
      "id": "f53e63ce",
      "metadata": {
        "colab": {
          "base_uri": "https://localhost:8080/",
          "height": 424
        },
        "id": "f53e63ce",
        "outputId": "fd651686-2669-4b6b-fd6d-25a49a74511b"
      },
      "outputs": [
        {
          "output_type": "execute_result",
          "data": {
            "text/plain": [
              "                                 0              1  \\\n",
              "0           <Jesús_Rivera_Sánchez>   <isLeaderOf>   \n",
              "1                   <Elizabeth_II>   <isLeaderOf>   \n",
              "2               <Richard_Stallman>   <isLeaderOf>   \n",
              "3                 <Keith_Peterson>   <isLeaderOf>   \n",
              "4          <William_H._Seward_Jr.>   <isLeaderOf>   \n",
              "...                            ...            ...   \n",
              "299995          <John_H._Rountree>  <isCitizenOf>   \n",
              "299996  <Edwin_Jones_(footballer)>  <isCitizenOf>   \n",
              "299997           <Ludvig_Lindgren>  <isCitizenOf>   \n",
              "299998               <Nela_Zisser>  <isCitizenOf>   \n",
              "299999             <Shean_Garlito>  <isCitizenOf>   \n",
              "\n",
              "                                              2  \n",
              "0                         <Pueblo_of_Naranjito>  \n",
              "1                    <Royal_Numismatic_Society>  \n",
              "2                    <Free_Software_Foundation>  \n",
              "3                               <Cambridge_Bay>  \n",
              "4       <9th_New_York_Heavy_Artillery_Regiment>  \n",
              "...                                         ...  \n",
              "299995                          <United_States>  \n",
              "299996                                <England>  \n",
              "299997                                 <Sweden>  \n",
              "299998                            <New_Zealand>  \n",
              "299999                                <Belgium>  \n",
              "\n",
              "[300000 rows x 3 columns]"
            ],
            "text/html": [
              "\n",
              "  <div id=\"df-782f57a6-c8a5-41e8-b73c-3b1369e5d20a\">\n",
              "    <div class=\"colab-df-container\">\n",
              "      <div>\n",
              "<style scoped>\n",
              "    .dataframe tbody tr th:only-of-type {\n",
              "        vertical-align: middle;\n",
              "    }\n",
              "\n",
              "    .dataframe tbody tr th {\n",
              "        vertical-align: top;\n",
              "    }\n",
              "\n",
              "    .dataframe thead th {\n",
              "        text-align: right;\n",
              "    }\n",
              "</style>\n",
              "<table border=\"1\" class=\"dataframe\">\n",
              "  <thead>\n",
              "    <tr style=\"text-align: right;\">\n",
              "      <th></th>\n",
              "      <th>0</th>\n",
              "      <th>1</th>\n",
              "      <th>2</th>\n",
              "    </tr>\n",
              "  </thead>\n",
              "  <tbody>\n",
              "    <tr>\n",
              "      <th>0</th>\n",
              "      <td>&lt;Jesús_Rivera_Sánchez&gt;</td>\n",
              "      <td>&lt;isLeaderOf&gt;</td>\n",
              "      <td>&lt;Pueblo_of_Naranjito&gt;</td>\n",
              "    </tr>\n",
              "    <tr>\n",
              "      <th>1</th>\n",
              "      <td>&lt;Elizabeth_II&gt;</td>\n",
              "      <td>&lt;isLeaderOf&gt;</td>\n",
              "      <td>&lt;Royal_Numismatic_Society&gt;</td>\n",
              "    </tr>\n",
              "    <tr>\n",
              "      <th>2</th>\n",
              "      <td>&lt;Richard_Stallman&gt;</td>\n",
              "      <td>&lt;isLeaderOf&gt;</td>\n",
              "      <td>&lt;Free_Software_Foundation&gt;</td>\n",
              "    </tr>\n",
              "    <tr>\n",
              "      <th>3</th>\n",
              "      <td>&lt;Keith_Peterson&gt;</td>\n",
              "      <td>&lt;isLeaderOf&gt;</td>\n",
              "      <td>&lt;Cambridge_Bay&gt;</td>\n",
              "    </tr>\n",
              "    <tr>\n",
              "      <th>4</th>\n",
              "      <td>&lt;William_H._Seward_Jr.&gt;</td>\n",
              "      <td>&lt;isLeaderOf&gt;</td>\n",
              "      <td>&lt;9th_New_York_Heavy_Artillery_Regiment&gt;</td>\n",
              "    </tr>\n",
              "    <tr>\n",
              "      <th>...</th>\n",
              "      <td>...</td>\n",
              "      <td>...</td>\n",
              "      <td>...</td>\n",
              "    </tr>\n",
              "    <tr>\n",
              "      <th>299995</th>\n",
              "      <td>&lt;John_H._Rountree&gt;</td>\n",
              "      <td>&lt;isCitizenOf&gt;</td>\n",
              "      <td>&lt;United_States&gt;</td>\n",
              "    </tr>\n",
              "    <tr>\n",
              "      <th>299996</th>\n",
              "      <td>&lt;Edwin_Jones_(footballer)&gt;</td>\n",
              "      <td>&lt;isCitizenOf&gt;</td>\n",
              "      <td>&lt;England&gt;</td>\n",
              "    </tr>\n",
              "    <tr>\n",
              "      <th>299997</th>\n",
              "      <td>&lt;Ludvig_Lindgren&gt;</td>\n",
              "      <td>&lt;isCitizenOf&gt;</td>\n",
              "      <td>&lt;Sweden&gt;</td>\n",
              "    </tr>\n",
              "    <tr>\n",
              "      <th>299998</th>\n",
              "      <td>&lt;Nela_Zisser&gt;</td>\n",
              "      <td>&lt;isCitizenOf&gt;</td>\n",
              "      <td>&lt;New_Zealand&gt;</td>\n",
              "    </tr>\n",
              "    <tr>\n",
              "      <th>299999</th>\n",
              "      <td>&lt;Shean_Garlito&gt;</td>\n",
              "      <td>&lt;isCitizenOf&gt;</td>\n",
              "      <td>&lt;Belgium&gt;</td>\n",
              "    </tr>\n",
              "  </tbody>\n",
              "</table>\n",
              "<p>300000 rows × 3 columns</p>\n",
              "</div>\n",
              "      <button class=\"colab-df-convert\" onclick=\"convertToInteractive('df-782f57a6-c8a5-41e8-b73c-3b1369e5d20a')\"\n",
              "              title=\"Convert this dataframe to an interactive table.\"\n",
              "              style=\"display:none;\">\n",
              "        \n",
              "  <svg xmlns=\"http://www.w3.org/2000/svg\" height=\"24px\"viewBox=\"0 0 24 24\"\n",
              "       width=\"24px\">\n",
              "    <path d=\"M0 0h24v24H0V0z\" fill=\"none\"/>\n",
              "    <path d=\"M18.56 5.44l.94 2.06.94-2.06 2.06-.94-2.06-.94-.94-2.06-.94 2.06-2.06.94zm-11 1L8.5 8.5l.94-2.06 2.06-.94-2.06-.94L8.5 2.5l-.94 2.06-2.06.94zm10 10l.94 2.06.94-2.06 2.06-.94-2.06-.94-.94-2.06-.94 2.06-2.06.94z\"/><path d=\"M17.41 7.96l-1.37-1.37c-.4-.4-.92-.59-1.43-.59-.52 0-1.04.2-1.43.59L10.3 9.45l-7.72 7.72c-.78.78-.78 2.05 0 2.83L4 21.41c.39.39.9.59 1.41.59.51 0 1.02-.2 1.41-.59l7.78-7.78 2.81-2.81c.8-.78.8-2.07 0-2.86zM5.41 20L4 18.59l7.72-7.72 1.47 1.35L5.41 20z\"/>\n",
              "  </svg>\n",
              "      </button>\n",
              "      \n",
              "  <style>\n",
              "    .colab-df-container {\n",
              "      display:flex;\n",
              "      flex-wrap:wrap;\n",
              "      gap: 12px;\n",
              "    }\n",
              "\n",
              "    .colab-df-convert {\n",
              "      background-color: #E8F0FE;\n",
              "      border: none;\n",
              "      border-radius: 50%;\n",
              "      cursor: pointer;\n",
              "      display: none;\n",
              "      fill: #1967D2;\n",
              "      height: 32px;\n",
              "      padding: 0 0 0 0;\n",
              "      width: 32px;\n",
              "    }\n",
              "\n",
              "    .colab-df-convert:hover {\n",
              "      background-color: #E2EBFA;\n",
              "      box-shadow: 0px 1px 2px rgba(60, 64, 67, 0.3), 0px 1px 3px 1px rgba(60, 64, 67, 0.15);\n",
              "      fill: #174EA6;\n",
              "    }\n",
              "\n",
              "    [theme=dark] .colab-df-convert {\n",
              "      background-color: #3B4455;\n",
              "      fill: #D2E3FC;\n",
              "    }\n",
              "\n",
              "    [theme=dark] .colab-df-convert:hover {\n",
              "      background-color: #434B5C;\n",
              "      box-shadow: 0px 1px 3px 1px rgba(0, 0, 0, 0.15);\n",
              "      filter: drop-shadow(0px 1px 2px rgba(0, 0, 0, 0.3));\n",
              "      fill: #FFFFFF;\n",
              "    }\n",
              "  </style>\n",
              "\n",
              "      <script>\n",
              "        const buttonEl =\n",
              "          document.querySelector('#df-782f57a6-c8a5-41e8-b73c-3b1369e5d20a button.colab-df-convert');\n",
              "        buttonEl.style.display =\n",
              "          google.colab.kernel.accessAllowed ? 'block' : 'none';\n",
              "\n",
              "        async function convertToInteractive(key) {\n",
              "          const element = document.querySelector('#df-782f57a6-c8a5-41e8-b73c-3b1369e5d20a');\n",
              "          const dataTable =\n",
              "            await google.colab.kernel.invokeFunction('convertToInteractive',\n",
              "                                                     [key], {});\n",
              "          if (!dataTable) return;\n",
              "\n",
              "          const docLinkHtml = 'Like what you see? Visit the ' +\n",
              "            '<a target=\"_blank\" href=https://colab.research.google.com/notebooks/data_table.ipynb>data table notebook</a>'\n",
              "            + ' to learn more about interactive tables.';\n",
              "          element.innerHTML = '';\n",
              "          dataTable['output_type'] = 'display_data';\n",
              "          await google.colab.output.renderOutput(dataTable, element);\n",
              "          const docLink = document.createElement('div');\n",
              "          docLink.innerHTML = docLinkHtml;\n",
              "          element.appendChild(docLink);\n",
              "        }\n",
              "      </script>\n",
              "    </div>\n",
              "  </div>\n",
              "  "
            ]
          },
          "metadata": {},
          "execution_count": 8
        }
      ],
      "source": [
        "df0"
      ]
    },
    {
      "cell_type": "code",
      "source": [
        "df = df0[:80000]"
      ],
      "metadata": {
        "id": "CzmTFcmLAgGC"
      },
      "id": "CzmTFcmLAgGC",
      "execution_count": null,
      "outputs": []
    },
    {
      "cell_type": "code",
      "source": [
        "df"
      ],
      "metadata": {
        "colab": {
          "base_uri": "https://localhost:8080/",
          "height": 424
        },
        "id": "LdALo_bgA2Oy",
        "outputId": "2b0ceb0e-bf10-4007-acdc-89ad3cd7dd4f"
      },
      "id": "LdALo_bgA2Oy",
      "execution_count": null,
      "outputs": [
        {
          "output_type": "execute_result",
          "data": {
            "text/plain": [
              "                             0              1  \\\n",
              "0       <Jesús_Rivera_Sánchez>   <isLeaderOf>   \n",
              "1               <Elizabeth_II>   <isLeaderOf>   \n",
              "2           <Richard_Stallman>   <isLeaderOf>   \n",
              "3             <Keith_Peterson>   <isLeaderOf>   \n",
              "4      <William_H._Seward_Jr.>   <isLeaderOf>   \n",
              "...                        ...            ...   \n",
              "79995      <fr/Keisuke_Sasaki>  <isCitizenOf>   \n",
              "79996           <Irene_Rozema>  <isCitizenOf>   \n",
              "79997           <Sara_Zandieh>  <isCitizenOf>   \n",
              "79998   <Cellestine_Hannemann>  <isCitizenOf>   \n",
              "79999    <de/Mike_Gommeringer>  <isCitizenOf>   \n",
              "\n",
              "                                             2  \n",
              "0                        <Pueblo_of_Naranjito>  \n",
              "1                   <Royal_Numismatic_Society>  \n",
              "2                   <Free_Software_Foundation>  \n",
              "3                              <Cambridge_Bay>  \n",
              "4      <9th_New_York_Heavy_Artillery_Regiment>  \n",
              "...                                        ...  \n",
              "79995                                  <Japan>  \n",
              "79996                                <Germany>  \n",
              "79997                                   <Iran>  \n",
              "79998                          <United_States>  \n",
              "79999                                <Germany>  \n",
              "\n",
              "[80000 rows x 3 columns]"
            ],
            "text/html": [
              "\n",
              "  <div id=\"df-a4daf337-a543-46e0-8c8d-f36934241193\">\n",
              "    <div class=\"colab-df-container\">\n",
              "      <div>\n",
              "<style scoped>\n",
              "    .dataframe tbody tr th:only-of-type {\n",
              "        vertical-align: middle;\n",
              "    }\n",
              "\n",
              "    .dataframe tbody tr th {\n",
              "        vertical-align: top;\n",
              "    }\n",
              "\n",
              "    .dataframe thead th {\n",
              "        text-align: right;\n",
              "    }\n",
              "</style>\n",
              "<table border=\"1\" class=\"dataframe\">\n",
              "  <thead>\n",
              "    <tr style=\"text-align: right;\">\n",
              "      <th></th>\n",
              "      <th>0</th>\n",
              "      <th>1</th>\n",
              "      <th>2</th>\n",
              "    </tr>\n",
              "  </thead>\n",
              "  <tbody>\n",
              "    <tr>\n",
              "      <th>0</th>\n",
              "      <td>&lt;Jesús_Rivera_Sánchez&gt;</td>\n",
              "      <td>&lt;isLeaderOf&gt;</td>\n",
              "      <td>&lt;Pueblo_of_Naranjito&gt;</td>\n",
              "    </tr>\n",
              "    <tr>\n",
              "      <th>1</th>\n",
              "      <td>&lt;Elizabeth_II&gt;</td>\n",
              "      <td>&lt;isLeaderOf&gt;</td>\n",
              "      <td>&lt;Royal_Numismatic_Society&gt;</td>\n",
              "    </tr>\n",
              "    <tr>\n",
              "      <th>2</th>\n",
              "      <td>&lt;Richard_Stallman&gt;</td>\n",
              "      <td>&lt;isLeaderOf&gt;</td>\n",
              "      <td>&lt;Free_Software_Foundation&gt;</td>\n",
              "    </tr>\n",
              "    <tr>\n",
              "      <th>3</th>\n",
              "      <td>&lt;Keith_Peterson&gt;</td>\n",
              "      <td>&lt;isLeaderOf&gt;</td>\n",
              "      <td>&lt;Cambridge_Bay&gt;</td>\n",
              "    </tr>\n",
              "    <tr>\n",
              "      <th>4</th>\n",
              "      <td>&lt;William_H._Seward_Jr.&gt;</td>\n",
              "      <td>&lt;isLeaderOf&gt;</td>\n",
              "      <td>&lt;9th_New_York_Heavy_Artillery_Regiment&gt;</td>\n",
              "    </tr>\n",
              "    <tr>\n",
              "      <th>...</th>\n",
              "      <td>...</td>\n",
              "      <td>...</td>\n",
              "      <td>...</td>\n",
              "    </tr>\n",
              "    <tr>\n",
              "      <th>79995</th>\n",
              "      <td>&lt;fr/Keisuke_Sasaki&gt;</td>\n",
              "      <td>&lt;isCitizenOf&gt;</td>\n",
              "      <td>&lt;Japan&gt;</td>\n",
              "    </tr>\n",
              "    <tr>\n",
              "      <th>79996</th>\n",
              "      <td>&lt;Irene_Rozema&gt;</td>\n",
              "      <td>&lt;isCitizenOf&gt;</td>\n",
              "      <td>&lt;Germany&gt;</td>\n",
              "    </tr>\n",
              "    <tr>\n",
              "      <th>79997</th>\n",
              "      <td>&lt;Sara_Zandieh&gt;</td>\n",
              "      <td>&lt;isCitizenOf&gt;</td>\n",
              "      <td>&lt;Iran&gt;</td>\n",
              "    </tr>\n",
              "    <tr>\n",
              "      <th>79998</th>\n",
              "      <td>&lt;Cellestine_Hannemann&gt;</td>\n",
              "      <td>&lt;isCitizenOf&gt;</td>\n",
              "      <td>&lt;United_States&gt;</td>\n",
              "    </tr>\n",
              "    <tr>\n",
              "      <th>79999</th>\n",
              "      <td>&lt;de/Mike_Gommeringer&gt;</td>\n",
              "      <td>&lt;isCitizenOf&gt;</td>\n",
              "      <td>&lt;Germany&gt;</td>\n",
              "    </tr>\n",
              "  </tbody>\n",
              "</table>\n",
              "<p>80000 rows × 3 columns</p>\n",
              "</div>\n",
              "      <button class=\"colab-df-convert\" onclick=\"convertToInteractive('df-a4daf337-a543-46e0-8c8d-f36934241193')\"\n",
              "              title=\"Convert this dataframe to an interactive table.\"\n",
              "              style=\"display:none;\">\n",
              "        \n",
              "  <svg xmlns=\"http://www.w3.org/2000/svg\" height=\"24px\"viewBox=\"0 0 24 24\"\n",
              "       width=\"24px\">\n",
              "    <path d=\"M0 0h24v24H0V0z\" fill=\"none\"/>\n",
              "    <path d=\"M18.56 5.44l.94 2.06.94-2.06 2.06-.94-2.06-.94-.94-2.06-.94 2.06-2.06.94zm-11 1L8.5 8.5l.94-2.06 2.06-.94-2.06-.94L8.5 2.5l-.94 2.06-2.06.94zm10 10l.94 2.06.94-2.06 2.06-.94-2.06-.94-.94-2.06-.94 2.06-2.06.94z\"/><path d=\"M17.41 7.96l-1.37-1.37c-.4-.4-.92-.59-1.43-.59-.52 0-1.04.2-1.43.59L10.3 9.45l-7.72 7.72c-.78.78-.78 2.05 0 2.83L4 21.41c.39.39.9.59 1.41.59.51 0 1.02-.2 1.41-.59l7.78-7.78 2.81-2.81c.8-.78.8-2.07 0-2.86zM5.41 20L4 18.59l7.72-7.72 1.47 1.35L5.41 20z\"/>\n",
              "  </svg>\n",
              "      </button>\n",
              "      \n",
              "  <style>\n",
              "    .colab-df-container {\n",
              "      display:flex;\n",
              "      flex-wrap:wrap;\n",
              "      gap: 12px;\n",
              "    }\n",
              "\n",
              "    .colab-df-convert {\n",
              "      background-color: #E8F0FE;\n",
              "      border: none;\n",
              "      border-radius: 50%;\n",
              "      cursor: pointer;\n",
              "      display: none;\n",
              "      fill: #1967D2;\n",
              "      height: 32px;\n",
              "      padding: 0 0 0 0;\n",
              "      width: 32px;\n",
              "    }\n",
              "\n",
              "    .colab-df-convert:hover {\n",
              "      background-color: #E2EBFA;\n",
              "      box-shadow: 0px 1px 2px rgba(60, 64, 67, 0.3), 0px 1px 3px 1px rgba(60, 64, 67, 0.15);\n",
              "      fill: #174EA6;\n",
              "    }\n",
              "\n",
              "    [theme=dark] .colab-df-convert {\n",
              "      background-color: #3B4455;\n",
              "      fill: #D2E3FC;\n",
              "    }\n",
              "\n",
              "    [theme=dark] .colab-df-convert:hover {\n",
              "      background-color: #434B5C;\n",
              "      box-shadow: 0px 1px 3px 1px rgba(0, 0, 0, 0.15);\n",
              "      filter: drop-shadow(0px 1px 2px rgba(0, 0, 0, 0.3));\n",
              "      fill: #FFFFFF;\n",
              "    }\n",
              "  </style>\n",
              "\n",
              "      <script>\n",
              "        const buttonEl =\n",
              "          document.querySelector('#df-a4daf337-a543-46e0-8c8d-f36934241193 button.colab-df-convert');\n",
              "        buttonEl.style.display =\n",
              "          google.colab.kernel.accessAllowed ? 'block' : 'none';\n",
              "\n",
              "        async function convertToInteractive(key) {\n",
              "          const element = document.querySelector('#df-a4daf337-a543-46e0-8c8d-f36934241193');\n",
              "          const dataTable =\n",
              "            await google.colab.kernel.invokeFunction('convertToInteractive',\n",
              "                                                     [key], {});\n",
              "          if (!dataTable) return;\n",
              "\n",
              "          const docLinkHtml = 'Like what you see? Visit the ' +\n",
              "            '<a target=\"_blank\" href=https://colab.research.google.com/notebooks/data_table.ipynb>data table notebook</a>'\n",
              "            + ' to learn more about interactive tables.';\n",
              "          element.innerHTML = '';\n",
              "          dataTable['output_type'] = 'display_data';\n",
              "          await google.colab.output.renderOutput(dataTable, element);\n",
              "          const docLink = document.createElement('div');\n",
              "          docLink.innerHTML = docLinkHtml;\n",
              "          element.appendChild(docLink);\n",
              "        }\n",
              "      </script>\n",
              "    </div>\n",
              "  </div>\n",
              "  "
            ]
          },
          "metadata": {},
          "execution_count": 10
        }
      ]
    },
    {
      "cell_type": "code",
      "execution_count": null,
      "id": "f21f0527",
      "metadata": {
        "id": "f21f0527"
      },
      "outputs": [],
      "source": [
        "mapping = {df.columns[0]: 'entity1', df.columns[1]: 'relation', df.columns[2]: 'entity2'}\n",
        "df1 = df.rename(columns=mapping)"
      ]
    },
    {
      "cell_type": "code",
      "execution_count": null,
      "id": "64d706c0",
      "metadata": {
        "colab": {
          "base_uri": "https://localhost:8080/",
          "height": 206
        },
        "id": "64d706c0",
        "outputId": "9681f8aa-cf19-4c20-e35b-47ccbda85b88"
      },
      "outputs": [
        {
          "output_type": "execute_result",
          "data": {
            "text/plain": [
              "                   entity1      relation  \\\n",
              "0   <Jesús_Rivera_Sánchez>  <isLeaderOf>   \n",
              "1           <Elizabeth_II>  <isLeaderOf>   \n",
              "2       <Richard_Stallman>  <isLeaderOf>   \n",
              "3         <Keith_Peterson>  <isLeaderOf>   \n",
              "4  <William_H._Seward_Jr.>  <isLeaderOf>   \n",
              "\n",
              "                                   entity2  \n",
              "0                    <Pueblo_of_Naranjito>  \n",
              "1               <Royal_Numismatic_Society>  \n",
              "2               <Free_Software_Foundation>  \n",
              "3                          <Cambridge_Bay>  \n",
              "4  <9th_New_York_Heavy_Artillery_Regiment>  "
            ],
            "text/html": [
              "\n",
              "  <div id=\"df-addfed76-438e-426e-a52c-d51548e608f7\">\n",
              "    <div class=\"colab-df-container\">\n",
              "      <div>\n",
              "<style scoped>\n",
              "    .dataframe tbody tr th:only-of-type {\n",
              "        vertical-align: middle;\n",
              "    }\n",
              "\n",
              "    .dataframe tbody tr th {\n",
              "        vertical-align: top;\n",
              "    }\n",
              "\n",
              "    .dataframe thead th {\n",
              "        text-align: right;\n",
              "    }\n",
              "</style>\n",
              "<table border=\"1\" class=\"dataframe\">\n",
              "  <thead>\n",
              "    <tr style=\"text-align: right;\">\n",
              "      <th></th>\n",
              "      <th>entity1</th>\n",
              "      <th>relation</th>\n",
              "      <th>entity2</th>\n",
              "    </tr>\n",
              "  </thead>\n",
              "  <tbody>\n",
              "    <tr>\n",
              "      <th>0</th>\n",
              "      <td>&lt;Jesús_Rivera_Sánchez&gt;</td>\n",
              "      <td>&lt;isLeaderOf&gt;</td>\n",
              "      <td>&lt;Pueblo_of_Naranjito&gt;</td>\n",
              "    </tr>\n",
              "    <tr>\n",
              "      <th>1</th>\n",
              "      <td>&lt;Elizabeth_II&gt;</td>\n",
              "      <td>&lt;isLeaderOf&gt;</td>\n",
              "      <td>&lt;Royal_Numismatic_Society&gt;</td>\n",
              "    </tr>\n",
              "    <tr>\n",
              "      <th>2</th>\n",
              "      <td>&lt;Richard_Stallman&gt;</td>\n",
              "      <td>&lt;isLeaderOf&gt;</td>\n",
              "      <td>&lt;Free_Software_Foundation&gt;</td>\n",
              "    </tr>\n",
              "    <tr>\n",
              "      <th>3</th>\n",
              "      <td>&lt;Keith_Peterson&gt;</td>\n",
              "      <td>&lt;isLeaderOf&gt;</td>\n",
              "      <td>&lt;Cambridge_Bay&gt;</td>\n",
              "    </tr>\n",
              "    <tr>\n",
              "      <th>4</th>\n",
              "      <td>&lt;William_H._Seward_Jr.&gt;</td>\n",
              "      <td>&lt;isLeaderOf&gt;</td>\n",
              "      <td>&lt;9th_New_York_Heavy_Artillery_Regiment&gt;</td>\n",
              "    </tr>\n",
              "  </tbody>\n",
              "</table>\n",
              "</div>\n",
              "      <button class=\"colab-df-convert\" onclick=\"convertToInteractive('df-addfed76-438e-426e-a52c-d51548e608f7')\"\n",
              "              title=\"Convert this dataframe to an interactive table.\"\n",
              "              style=\"display:none;\">\n",
              "        \n",
              "  <svg xmlns=\"http://www.w3.org/2000/svg\" height=\"24px\"viewBox=\"0 0 24 24\"\n",
              "       width=\"24px\">\n",
              "    <path d=\"M0 0h24v24H0V0z\" fill=\"none\"/>\n",
              "    <path d=\"M18.56 5.44l.94 2.06.94-2.06 2.06-.94-2.06-.94-.94-2.06-.94 2.06-2.06.94zm-11 1L8.5 8.5l.94-2.06 2.06-.94-2.06-.94L8.5 2.5l-.94 2.06-2.06.94zm10 10l.94 2.06.94-2.06 2.06-.94-2.06-.94-.94-2.06-.94 2.06-2.06.94z\"/><path d=\"M17.41 7.96l-1.37-1.37c-.4-.4-.92-.59-1.43-.59-.52 0-1.04.2-1.43.59L10.3 9.45l-7.72 7.72c-.78.78-.78 2.05 0 2.83L4 21.41c.39.39.9.59 1.41.59.51 0 1.02-.2 1.41-.59l7.78-7.78 2.81-2.81c.8-.78.8-2.07 0-2.86zM5.41 20L4 18.59l7.72-7.72 1.47 1.35L5.41 20z\"/>\n",
              "  </svg>\n",
              "      </button>\n",
              "      \n",
              "  <style>\n",
              "    .colab-df-container {\n",
              "      display:flex;\n",
              "      flex-wrap:wrap;\n",
              "      gap: 12px;\n",
              "    }\n",
              "\n",
              "    .colab-df-convert {\n",
              "      background-color: #E8F0FE;\n",
              "      border: none;\n",
              "      border-radius: 50%;\n",
              "      cursor: pointer;\n",
              "      display: none;\n",
              "      fill: #1967D2;\n",
              "      height: 32px;\n",
              "      padding: 0 0 0 0;\n",
              "      width: 32px;\n",
              "    }\n",
              "\n",
              "    .colab-df-convert:hover {\n",
              "      background-color: #E2EBFA;\n",
              "      box-shadow: 0px 1px 2px rgba(60, 64, 67, 0.3), 0px 1px 3px 1px rgba(60, 64, 67, 0.15);\n",
              "      fill: #174EA6;\n",
              "    }\n",
              "\n",
              "    [theme=dark] .colab-df-convert {\n",
              "      background-color: #3B4455;\n",
              "      fill: #D2E3FC;\n",
              "    }\n",
              "\n",
              "    [theme=dark] .colab-df-convert:hover {\n",
              "      background-color: #434B5C;\n",
              "      box-shadow: 0px 1px 3px 1px rgba(0, 0, 0, 0.15);\n",
              "      filter: drop-shadow(0px 1px 2px rgba(0, 0, 0, 0.3));\n",
              "      fill: #FFFFFF;\n",
              "    }\n",
              "  </style>\n",
              "\n",
              "      <script>\n",
              "        const buttonEl =\n",
              "          document.querySelector('#df-addfed76-438e-426e-a52c-d51548e608f7 button.colab-df-convert');\n",
              "        buttonEl.style.display =\n",
              "          google.colab.kernel.accessAllowed ? 'block' : 'none';\n",
              "\n",
              "        async function convertToInteractive(key) {\n",
              "          const element = document.querySelector('#df-addfed76-438e-426e-a52c-d51548e608f7');\n",
              "          const dataTable =\n",
              "            await google.colab.kernel.invokeFunction('convertToInteractive',\n",
              "                                                     [key], {});\n",
              "          if (!dataTable) return;\n",
              "\n",
              "          const docLinkHtml = 'Like what you see? Visit the ' +\n",
              "            '<a target=\"_blank\" href=https://colab.research.google.com/notebooks/data_table.ipynb>data table notebook</a>'\n",
              "            + ' to learn more about interactive tables.';\n",
              "          element.innerHTML = '';\n",
              "          dataTable['output_type'] = 'display_data';\n",
              "          await google.colab.output.renderOutput(dataTable, element);\n",
              "          const docLink = document.createElement('div');\n",
              "          docLink.innerHTML = docLinkHtml;\n",
              "          element.appendChild(docLink);\n",
              "        }\n",
              "      </script>\n",
              "    </div>\n",
              "  </div>\n",
              "  "
            ]
          },
          "metadata": {},
          "execution_count": 12
        }
      ],
      "source": [
        "df1.head()"
      ]
    },
    {
      "cell_type": "code",
      "source": [
        "df1['relation'].unique()"
      ],
      "metadata": {
        "colab": {
          "base_uri": "https://localhost:8080/"
        },
        "id": "scCympGr2mjS",
        "outputId": "b86fc501-2ab3-4c71-cfd8-ad5dc6b712ea"
      },
      "id": "scCympGr2mjS",
      "execution_count": null,
      "outputs": [
        {
          "output_type": "execute_result",
          "data": {
            "text/plain": [
              "array(['<isLeaderOf>', '<owns>', '<isCitizenOf>'], dtype=object)"
            ]
          },
          "metadata": {},
          "execution_count": 13
        }
      ]
    },
    {
      "cell_type": "code",
      "source": [
        "leader = \"<is_the_leader_of>\"\n",
        "citizen = \"<is_a_citizen_of>\""
      ],
      "metadata": {
        "id": "FFKVHNyS2wxB"
      },
      "id": "FFKVHNyS2wxB",
      "execution_count": null,
      "outputs": []
    },
    {
      "cell_type": "code",
      "source": [
        "df1['relation'] = df1['relation'].str.replace('<isLeaderOf>',leader)\n",
        "df1['relation'] = df1['relation'].str.replace('<isCitizenOf>',citizen)"
      ],
      "metadata": {
        "id": "-ZpeioIT4HQv"
      },
      "id": "-ZpeioIT4HQv",
      "execution_count": null,
      "outputs": []
    },
    {
      "cell_type": "code",
      "source": [
        "df1.head()"
      ],
      "metadata": {
        "colab": {
          "base_uri": "https://localhost:8080/",
          "height": 206
        },
        "id": "7PjidEip4HK5",
        "outputId": "a14aa8d5-13f8-46dd-ebd8-be88541edc50"
      },
      "id": "7PjidEip4HK5",
      "execution_count": null,
      "outputs": [
        {
          "output_type": "execute_result",
          "data": {
            "text/plain": [
              "                   entity1            relation  \\\n",
              "0   <Jesús_Rivera_Sánchez>  <is_the_leader_of>   \n",
              "1           <Elizabeth_II>  <is_the_leader_of>   \n",
              "2       <Richard_Stallman>  <is_the_leader_of>   \n",
              "3         <Keith_Peterson>  <is_the_leader_of>   \n",
              "4  <William_H._Seward_Jr.>  <is_the_leader_of>   \n",
              "\n",
              "                                   entity2  \n",
              "0                    <Pueblo_of_Naranjito>  \n",
              "1               <Royal_Numismatic_Society>  \n",
              "2               <Free_Software_Foundation>  \n",
              "3                          <Cambridge_Bay>  \n",
              "4  <9th_New_York_Heavy_Artillery_Regiment>  "
            ],
            "text/html": [
              "\n",
              "  <div id=\"df-10c9549c-7ff1-42d8-a155-a08169e4add2\">\n",
              "    <div class=\"colab-df-container\">\n",
              "      <div>\n",
              "<style scoped>\n",
              "    .dataframe tbody tr th:only-of-type {\n",
              "        vertical-align: middle;\n",
              "    }\n",
              "\n",
              "    .dataframe tbody tr th {\n",
              "        vertical-align: top;\n",
              "    }\n",
              "\n",
              "    .dataframe thead th {\n",
              "        text-align: right;\n",
              "    }\n",
              "</style>\n",
              "<table border=\"1\" class=\"dataframe\">\n",
              "  <thead>\n",
              "    <tr style=\"text-align: right;\">\n",
              "      <th></th>\n",
              "      <th>entity1</th>\n",
              "      <th>relation</th>\n",
              "      <th>entity2</th>\n",
              "    </tr>\n",
              "  </thead>\n",
              "  <tbody>\n",
              "    <tr>\n",
              "      <th>0</th>\n",
              "      <td>&lt;Jesús_Rivera_Sánchez&gt;</td>\n",
              "      <td>&lt;is_the_leader_of&gt;</td>\n",
              "      <td>&lt;Pueblo_of_Naranjito&gt;</td>\n",
              "    </tr>\n",
              "    <tr>\n",
              "      <th>1</th>\n",
              "      <td>&lt;Elizabeth_II&gt;</td>\n",
              "      <td>&lt;is_the_leader_of&gt;</td>\n",
              "      <td>&lt;Royal_Numismatic_Society&gt;</td>\n",
              "    </tr>\n",
              "    <tr>\n",
              "      <th>2</th>\n",
              "      <td>&lt;Richard_Stallman&gt;</td>\n",
              "      <td>&lt;is_the_leader_of&gt;</td>\n",
              "      <td>&lt;Free_Software_Foundation&gt;</td>\n",
              "    </tr>\n",
              "    <tr>\n",
              "      <th>3</th>\n",
              "      <td>&lt;Keith_Peterson&gt;</td>\n",
              "      <td>&lt;is_the_leader_of&gt;</td>\n",
              "      <td>&lt;Cambridge_Bay&gt;</td>\n",
              "    </tr>\n",
              "    <tr>\n",
              "      <th>4</th>\n",
              "      <td>&lt;William_H._Seward_Jr.&gt;</td>\n",
              "      <td>&lt;is_the_leader_of&gt;</td>\n",
              "      <td>&lt;9th_New_York_Heavy_Artillery_Regiment&gt;</td>\n",
              "    </tr>\n",
              "  </tbody>\n",
              "</table>\n",
              "</div>\n",
              "      <button class=\"colab-df-convert\" onclick=\"convertToInteractive('df-10c9549c-7ff1-42d8-a155-a08169e4add2')\"\n",
              "              title=\"Convert this dataframe to an interactive table.\"\n",
              "              style=\"display:none;\">\n",
              "        \n",
              "  <svg xmlns=\"http://www.w3.org/2000/svg\" height=\"24px\"viewBox=\"0 0 24 24\"\n",
              "       width=\"24px\">\n",
              "    <path d=\"M0 0h24v24H0V0z\" fill=\"none\"/>\n",
              "    <path d=\"M18.56 5.44l.94 2.06.94-2.06 2.06-.94-2.06-.94-.94-2.06-.94 2.06-2.06.94zm-11 1L8.5 8.5l.94-2.06 2.06-.94-2.06-.94L8.5 2.5l-.94 2.06-2.06.94zm10 10l.94 2.06.94-2.06 2.06-.94-2.06-.94-.94-2.06-.94 2.06-2.06.94z\"/><path d=\"M17.41 7.96l-1.37-1.37c-.4-.4-.92-.59-1.43-.59-.52 0-1.04.2-1.43.59L10.3 9.45l-7.72 7.72c-.78.78-.78 2.05 0 2.83L4 21.41c.39.39.9.59 1.41.59.51 0 1.02-.2 1.41-.59l7.78-7.78 2.81-2.81c.8-.78.8-2.07 0-2.86zM5.41 20L4 18.59l7.72-7.72 1.47 1.35L5.41 20z\"/>\n",
              "  </svg>\n",
              "      </button>\n",
              "      \n",
              "  <style>\n",
              "    .colab-df-container {\n",
              "      display:flex;\n",
              "      flex-wrap:wrap;\n",
              "      gap: 12px;\n",
              "    }\n",
              "\n",
              "    .colab-df-convert {\n",
              "      background-color: #E8F0FE;\n",
              "      border: none;\n",
              "      border-radius: 50%;\n",
              "      cursor: pointer;\n",
              "      display: none;\n",
              "      fill: #1967D2;\n",
              "      height: 32px;\n",
              "      padding: 0 0 0 0;\n",
              "      width: 32px;\n",
              "    }\n",
              "\n",
              "    .colab-df-convert:hover {\n",
              "      background-color: #E2EBFA;\n",
              "      box-shadow: 0px 1px 2px rgba(60, 64, 67, 0.3), 0px 1px 3px 1px rgba(60, 64, 67, 0.15);\n",
              "      fill: #174EA6;\n",
              "    }\n",
              "\n",
              "    [theme=dark] .colab-df-convert {\n",
              "      background-color: #3B4455;\n",
              "      fill: #D2E3FC;\n",
              "    }\n",
              "\n",
              "    [theme=dark] .colab-df-convert:hover {\n",
              "      background-color: #434B5C;\n",
              "      box-shadow: 0px 1px 3px 1px rgba(0, 0, 0, 0.15);\n",
              "      filter: drop-shadow(0px 1px 2px rgba(0, 0, 0, 0.3));\n",
              "      fill: #FFFFFF;\n",
              "    }\n",
              "  </style>\n",
              "\n",
              "      <script>\n",
              "        const buttonEl =\n",
              "          document.querySelector('#df-10c9549c-7ff1-42d8-a155-a08169e4add2 button.colab-df-convert');\n",
              "        buttonEl.style.display =\n",
              "          google.colab.kernel.accessAllowed ? 'block' : 'none';\n",
              "\n",
              "        async function convertToInteractive(key) {\n",
              "          const element = document.querySelector('#df-10c9549c-7ff1-42d8-a155-a08169e4add2');\n",
              "          const dataTable =\n",
              "            await google.colab.kernel.invokeFunction('convertToInteractive',\n",
              "                                                     [key], {});\n",
              "          if (!dataTable) return;\n",
              "\n",
              "          const docLinkHtml = 'Like what you see? Visit the ' +\n",
              "            '<a target=\"_blank\" href=https://colab.research.google.com/notebooks/data_table.ipynb>data table notebook</a>'\n",
              "            + ' to learn more about interactive tables.';\n",
              "          element.innerHTML = '';\n",
              "          dataTable['output_type'] = 'display_data';\n",
              "          await google.colab.output.renderOutput(dataTable, element);\n",
              "          const docLink = document.createElement('div');\n",
              "          docLink.innerHTML = docLinkHtml;\n",
              "          element.appendChild(docLink);\n",
              "        }\n",
              "      </script>\n",
              "    </div>\n",
              "  </div>\n",
              "  "
            ]
          },
          "metadata": {},
          "execution_count": 16
        }
      ]
    },
    {
      "cell_type": "code",
      "source": [
        "df1['relation'].unique()"
      ],
      "metadata": {
        "colab": {
          "base_uri": "https://localhost:8080/"
        },
        "id": "WwghcrW-4lL6",
        "outputId": "a28f5033-b274-4e60-cf41-075895ef781b"
      },
      "id": "WwghcrW-4lL6",
      "execution_count": null,
      "outputs": [
        {
          "output_type": "execute_result",
          "data": {
            "text/plain": [
              "array(['<is_the_leader_of>', '<owns>', '<is_a_citizen_of>'], dtype=object)"
            ]
          },
          "metadata": {},
          "execution_count": 17
        }
      ]
    },
    {
      "cell_type": "code",
      "execution_count": null,
      "id": "35492a20",
      "metadata": {
        "colab": {
          "base_uri": "https://localhost:8080/"
        },
        "id": "35492a20",
        "outputId": "ff79975a-e731-4af0-a75f-32cf5063baf1"
      },
      "outputs": [
        {
          "output_type": "stream",
          "name": "stdout",
          "text": [
            "['entity1', 'relation', 'entity2']\n"
          ]
        }
      ],
      "source": [
        "columns = list(df1)\n",
        "print(columns)"
      ]
    },
    {
      "cell_type": "code",
      "source": [
        "# columns = ['entity1', 'entity2']"
      ],
      "metadata": {
        "id": "bbgCz42e15Ss"
      },
      "id": "bbgCz42e15Ss",
      "execution_count": null,
      "outputs": []
    },
    {
      "cell_type": "code",
      "execution_count": null,
      "id": "a3a3f729",
      "metadata": {
        "colab": {
          "base_uri": "https://localhost:8080/"
        },
        "id": "a3a3f729",
        "outputId": "76a07df1-7252-4f09-fe9c-2acfac0dee0a"
      },
      "outputs": [
        {
          "output_type": "stream",
          "name": "stderr",
          "text": [
            "100%|██████████| 80000/80000 [00:01<00:00, 49260.79it/s]\n"
          ]
        }
      ],
      "source": [
        "data = []\n",
        "\n",
        "for i in tqdm(range(df1.shape[0])):\n",
        "    str1 = \"\"\n",
        "    for j in range(len(columns)):\n",
        "        s = df1[columns[j]][i]\n",
        "        str1 = str1 + \" \" + s[1:(len(s)-1)]\n",
        "        \n",
        "    str2 = str1.replace(\"_\", \" \")\n",
        "    str2 = str2 + \".\" \n",
        "        \n",
        "    data.append(str2[1:])"
      ]
    },
    {
      "cell_type": "code",
      "execution_count": null,
      "id": "60a664e2",
      "metadata": {
        "colab": {
          "base_uri": "https://localhost:8080/",
          "height": 36
        },
        "id": "60a664e2",
        "outputId": "41f22bd9-1166-44d4-e053-715385686367"
      },
      "outputs": [
        {
          "output_type": "execute_result",
          "data": {
            "text/plain": [
              "'Jesús Rivera Sánchez is the leader of Pueblo of Naranjito.'"
            ],
            "application/vnd.google.colaboratory.intrinsic+json": {
              "type": "string"
            }
          },
          "metadata": {},
          "execution_count": 21
        }
      ],
      "source": [
        "data[0]"
      ]
    },
    {
      "cell_type": "code",
      "source": [
        "len(data)"
      ],
      "metadata": {
        "colab": {
          "base_uri": "https://localhost:8080/"
        },
        "id": "vF-1uDqvpkdI",
        "outputId": "902d9798-a8d4-46f4-f9b0-a52a9d7299dc"
      },
      "id": "vF-1uDqvpkdI",
      "execution_count": null,
      "outputs": [
        {
          "output_type": "execute_result",
          "data": {
            "text/plain": [
              "80000"
            ]
          },
          "metadata": {},
          "execution_count": 22
        }
      ]
    },
    {
      "cell_type": "code",
      "execution_count": null,
      "id": "ebcb59c5",
      "metadata": {
        "id": "ebcb59c5"
      },
      "outputs": [],
      "source": [
        "paras = []\n",
        "\n",
        "i = 0\n",
        "while i < len(data):\n",
        "  c = 0\n",
        "  s = \"\"\n",
        "  while c < 500:\n",
        "    s = s + \" \" + data[i]\n",
        "    i += 1\n",
        "    c += 1\n",
        "\n",
        "  paras.append(s[1:])"
      ]
    },
    {
      "cell_type": "code",
      "execution_count": null,
      "id": "b4897e3b",
      "metadata": {
        "colab": {
          "base_uri": "https://localhost:8080/",
          "height": 109
        },
        "id": "b4897e3b",
        "outputId": "1c02fa22-9357-45df-9bd5-5c5cfaaba6bd"
      },
      "outputs": [
        {
          "output_type": "execute_result",
          "data": {
            "text/plain": [
              "'Jesús Rivera Sánchez is the leader of Pueblo of Naranjito. Elizabeth II is the leader of Royal Numismatic Society. Richard Stallman is the leader of Free Software Foundation. Keith Peterson is the leader of Cambridge Bay. William H. Seward Jr. is the leader of 9th New York Heavy Artillery Regiment. Andranik is the leader of Armenian fedayi. Ramasamy Palanisamy is the leader of Democratic Action Party (Malaysia). Matt Bevin is the leader of Kentucky Air National Guard. Leonard Leo is the leader of Federalist Society. James Vincent Cleary is the leader of Bennington, New Hampshire. Amjad Bashir is the leader of Khushab District. Tushar Amarsinh Chaudhary is the leader of Mota, Gujarat. Yiannis Boutaris is the leader of Thessaloniki. Margaret Chew Barringer is the leader of American INSIGHT. Oscar Braynon is the leader of Allapattah. Margrethe II of Denmark is the leader of Greenland. Fernando Álvarez de Toledo, 3rd Duke of Alba is the leader of Army of Flanders. Om Birla is the leader of Kota, Rajasthan. Shamsuzzaman Khan is the leader of Bangla Academy. Perry Trimper is the leader of North West River. Keiji Kokuta is the leader of Japanese Communist Party. Linda Miller (politician) is the leader of Bettendorf, Iowa. Jean Cloutier is the leader of Alta Vista, Ottawa. Oriol Junqueras is the leader of Sant Vicenç dels Horts. Morton Blackwell is the leader of Leadership Institute. Spencer Chandra Herbert is the leader of Vancouver. Leander Starr Jameson is the leader of Unionist Party (South Africa). Adriana Fuentes Cortés is the leader of Querétaro. Michel Noël is the leader of Durham-Sud. Christian Homburg is the leader of Institute for Market-oriented Management. Margaret Bazley is the leader of Canterbury, New Zealand. Alexander Papagos is the leader of Greek Rally. Mohand Laenser is the leader of Popular Movement (Morocco). Marc Serré is the leader of Parry Sound District. Ed Levine is the leader of International Boxing Organization. Juha Sipilä is the leader of Centre Party (Finland). James Chiswell is the leader of United Kingdom Special Forces. Ben Lear is the leader of Central Defense Command. Frank Dermody is the leader of Pennsylvania Democratic Party. Nathan Deal is the leader of Georgia Air National Guard. Pratyusha Rajeshwari Singh is the leader of Kandhamal district. Paul Wynnyk is the leader of Canadian Army. Winston Field is the leader of Rhodesian Front. Dileep K Nair is the leader of The Automobile Society India. Miguel Cabrera is the leader of Carey, Ohio. Kimberly A. Lightford is the leader of Illinois Legislative Black Caucus. José Manuel de la Sota is the leader of United for a New Alternative. Margrethe II of Denmark is the leader of Denmark. Nawzad Hadi Mawlood is the leader of Erbil. Stephen Hillier is the leader of Royal Air Force Football Association. David Kaiser is the leader of Romulus, New York. Adriano Bernardini is the leader of Catholic Church in Italy. Kenneth E. Tovo is the leader of United States Army Special Operations Command. Ana Álvarez is the leader of Oakland Park, Florida. Bhaskar Chakravorti is the leader of Institute for Business in the Global Context. Michel Temer is the leader of Brazilian Army. Alfredo Covelli is the leader of Italian Democratic Party of Monarchist Unity. Ricardo Galvão is the leader of National Institute for Space Research. Whitney Rawlings is the leader of McComb, Mississippi. Catherine Fife is the leader of Waterloo, Ontario. Click Bishop is the leader of Gulkana, Alaska. Thakur Mool Chand Chauhan is the leader of Uttar Pradesh Tourism. Dave Cull is the leader of Dunedin. Glorioso Miranda is the leader of Philippine Army. Wali-ur-Rehman is the leader of Eidak. Steven W. Mosher is the leader of Population Research Institute. Larcenia Bullard is the leader of Miami Design District. Mufutau Adesanya Kasali is the leader of Itele. Viktor Fainberg is the leader of Campaign Against Psychiatric Abuse. Rodrigo Pérez-Alonso González is the leader of Nuevo León. George Darouze is the leader of Osgoode Ward. Das Williams is the leader of Meiners Oaks, California. William Legge, 10th Earl of Dartmouth is the leader of UK Independence Party. Mohamoud Ali Shire is the leader of Durduri District. Norayr Sargsyan is the leader of Yeghvard. Ben Henderson (politician) is the leader of McKernan, Edmonton. Emomali Rahmon is the leader of Military of Tajikistan. Francisco Becerra Posada is the leader of Pan American Health Organization. Fernando Romeo Lucas García is the leader of National Liberation Movement (Guatemala). Andrés Bonifacio is the leader of Tracey Emin. Constantin Argetoianu is the leader of National Renaissance Front. Berta Gardner is the leader of Anchorage, Alaska. Heber Jentzsch is the leader of Church of Scientology International. Brian Lamb is the leader of C-SPAN. Mark Meckler is the leader of Tea Party Patriots. Lorenzo Berardinetti is the leader of Birch Cliff. Pete Buttigieg is the leader of South Bend, Indiana. Noel Grealish is the leader of Progressive Democrats. Yves Krattinger is the leader of Haute-Saône. Randy Winkler is the leader of Rifle, Colorado. Reza Moridi is the leader of Richmond Hill, Ontario. Denis Verdini is the leader of The People of Freedom. Matthias Corvinus is the leader of Black Army of Hungary. Siripala Gamalath is the leader of Polonnaruwa District. Qasem Soleimani is the leader of Quds Force. Don Rusnak is the leader of Thunder Bay District. Kathryn Barger is the leader of Los Angeles County, California. Alfredo Rocco is the leader of Italian Nationalist Association. August Willich is the leader of 32nd Indiana Infantry Regiment. Arthur Potts (politician) is the leader of Upper Beaches. Richard Lee (Canadian politician) is the leader of Greater Vancouver. Carl Gustaf Armfeldt is the leader of Military of the Swedish Empire. Brianne Nadeau is the leader of Washington, D.C.. Mohammad bin Salman Al Saud is the leader of Royal Saudi Strategic Missile Force. Jim Desmond is the leader of San Marcos, California. Raúl Castro is the leader of Cuba. Willem-Alexander of the Netherlands is the leader of Aruba. Mike O-Brien (Canadian politician) is the leader of Fredericton. Bert Stedman is the leader of Hyder, Alaska. Michel Duval is the leader of Latulipe-et-Gaboury, Quebec. Ang Wei Neng is the leader of Jurong East. Tracy MacCharles is the leader of West Rouge. Don Iveson is the leader of Kaskitayo, Edmonton. Richard H. Anderson is the leader of Third Corps, Army of Northern Virginia. Torbjørn Røe Isaksen is the leader of Sogn Studentby. Vladimir Margaryan is the leader of Sevkar. Reggie Fullwood is the leader of Southbank (Jacksonville). Ellen Tauscher is the leader of Alliance of Democrats. Nik Powell is the leader of European Film Academy. Stephanie Schriock is the leader of EMILY-s List. Ruffy Biazon is the leader of Muntinlupa. Muhammad Baqir al-Sadr is the leader of Islamic Dawa Party. Chris Evans (British politician) is the leader of Caerphilly County Borough. Lee Richardson (politician) is the leader of Division No. 6, Alberta. Dejan Kovačević is the leader of Gornji Milanovac. Les Gara is the leader of Anchorage, Alaska. Michael Lulume Bayigga is the leader of Buikwe. Muhammad Iqbal is the leader of All-India Muslim League. Alexander E. Steen is the leader of 10th Missouri Infantry Regiment (Confederate). Jati Sidhu is the leader of Abbotsford, British Columbia. David Anderson (British politician) is the leader of Metropolitan Borough of Gateshead. Yakubu Dogara is the leader of Nigeria. Amit Ghoda is the leader of Palghar. Achille Lauro is the leader of People-s Monarchist Party (Italy). Larry Maguire is the leader of Bradwardine, Manitoba. Mike Navarre is the leader of Salamatof, Alaska. Kelly Block is the leader of Outlook, Saskatchewan. James Ajonga Mawut is the leader of Sudan People-s Liberation Army. Matthew Parr (Royal Navy officer) is the leader of 6th Frigate Squadron (United Kingdom). Anne, Princess Royal is the leader of Royal Scottish Geographical Society. Trond Helleland is the leader of Conservative Party (Norway). Karin Wanngård is the leader of Stockholm Municipality. Sergey Shoygu is the leader of Unity (Russian political party). Michael McLeod (politician) is the leader of Tuktoyaktuk. Wayne Elhard is the leader of Maple Creek, Saskatchewan. Oluwarotimi Odunayo Akeredolu is the leader of Ondo State. Candice Bergen (politician) is the leader of Rosebank, Manitoba. Phil Goff is the leader of Manukau City. Andrzej Duda is the leader of Poland. Ernest Jackson is the leader of Crockett, Texas. William Steinberg is the leader of Hampstead, Quebec. Stanislav Ivanov (footballer, born 1980) is the leader of Dalgodeltsi. Raphaël Bouton is the leader of Section des sourds et malentendants socialistes. Plínio Salgado is the leader of Brazilian Integralist Action. Mitch McConnell is the leader of Republican Party (United States). Miyeegombyn Enkhbold is the leader of Mongolian People-s Party. Confúcio Moura is the leader of Rondônia. Dorothy Stoneman is the leader of YouthBuild. Ángel María Villar is the leader of FIFA. Victor Montagliani is the leader of CONCACAF. Gadde Ramamohan is the leader of Vijayawada. Nitin Gadkari is the leader of Nagpur. Eduardo Año is the leader of Philippine Navy. Riaz Ahmed Gohar Shahi is the leader of Messiah Foundation International. Member of the Legislative Assembly is the leader of Green Party in Northern Ireland. Shafiq Qaadri is the leader of Clairville, Toronto. John Campbell (Ontario politician) is the leader of Kingsview Village. Maria Eagle is the leader of Metropolitan Borough of Knowsley. John Weyant is the leader of Energy Modeling Forum. Tom Nevakshonoff is the leader of Lundar, Manitoba. Jim Messina (political staffer) is the leader of Just a Yes. Ramón Luis Rivera Jr. is the leader of Santa Olaya. Ri Myong-su is the leader of Korean People-s Army Ground Force. Mariarosaria Rossi is the leader of Forza Italia (2013). Angela Smith (Sheffield MP) is the leader of Metropolitan Borough of Barnsley. Zainal Sapari is the leader of Pasir Ris. Philip Levine (politician) is the leader of Miami Beach, Florida. Jim Diodati is the leader of Niagara Falls, Ontario. Fernando Martín García is the leader of Puerto Rican Independence Party. Jorge Serrano Elías is the leader of Revolutionary Party (Guatemala). Kellie Leitch is the leader of Collingwood, Ontario. Denzil Minnan-Wong is the leader of North York. Paul Evan Peters is the leader of Open Access Scholarly Publishers Association. Kathy Corrigan is the leader of Greater Vancouver. Metin Lütfi Baydar is the leader of NATO Parliamentary Assembly. Rabsaris is the leader of Sennacherib. Lyudmila Ivanova is the leader of Kanash. Laura Albanese is the leader of Lambton, Toronto. Edward Stevens (general) is the leader of Culpeper Minutemen. Deborah Drever is the leader of Calgary. Marc Serré is the leader of Timiskaming District. Katie Hobbs is the leader of Arizona Democratic Party. Saud bin Nayef Al Saud is the leader of Khobar. Željko Turk is the leader of Zaprešić. Frano Getaldić-Gundulić is the leader of Autonomist Party. Greg Rickford is the leader of Redditt. Jay Aspin is the leader of Temagami. Bob Hancock is the leader of Kennett, Missouri. Amir Khan (MQM) is the leader of Muttahida Quami Movement Pakistan. Mhd Amin Nordin Abdul Aziz is the leader of Kuala Lumpur. Julia Munro is the leader of Bradford West Gwillimbury. Denis Herard is the leader of Division No. 6, Alberta. Alexander Brash is the leader of Connecticut Audubon Society. Trần Đại Quang is the leader of Vietnam Coast Guard. Jim Kern is the leader of Dedham, Massachusetts. Mauricio Vila Dosal is the leader of Mérida, Yucatán. Édouard Herriot is the leader of Cartel des Gauches. Dhiman Roy is the leader of Ashoknagar, North 24 Parganas. Herbert Scott is the leader of Athens, Ontario. Ted Gaines is the leader of Rocklin, California. Agostino Depretis is the leader of Historical Left. Víctor García Garzena is the leader of National Party (Chile, 1966). Charles Sumner is the leader of Radical Republican. Lucy Worsley is the leader of Historic Royal Palaces. Judy Turner is the leader of Whakatane. U Razak is the leader of Burma Muslim Congress. Andrew O-Donnell is the leader of Glasgow Filmmakers Alliance. Michael Langone is the leader of International Cultic Studies Association. Sivanesathurai Chandrakanthan is the leader of Batticaloa District. Wobine Buijs-Glaudemans is the leader of Oss. Bryan Thao Worra is the leader of Science Fiction Poetry Association. Queen Elizabeth The Queen Mother is the leader of Queen-s Own Hussars. Isa Mustafa is the leader of Kosovo. Click Bishop is the leader of Central, Alaska. Henry Ramos Allup is the leader of Democratic Action (Venezuela). Simon Bolivar Buckner Jr. is the leader of Alaska Defense Command. Rick Nicholls is the leader of Leamington, Ontario. Gordon Holmes Alexander MacMillan is the leader of Palestine Command. Jyotsana Srivastava is the leader of Bhelupur, Varanasi. Tyler Allen is the leader of 8664. Anthony Eden is the leader of No. 500 Squadron RAF. Anna Kuliscioff is the leader of Italian Socialist Party. Riccardo Schicchi is the leader of South Eastern Railway (Russia). Nitish Kumar is the leader of Derhgaon. Sandro Pertini is the leader of Action Party (Italy). H. M. M. Harees is the leader of Ampara District. Jim Gray (American politician) is the leader of Lexington, Kentucky. Vladimir Serov is the leader of Sudak. John Converse Starkweather is the leader of 1st Wisconsin Volunteer Infantry Regiment (3 Months). Dean Westlake is the leader of Kiwalik, Alaska. Paul Seaton is the leader of Happy Valley, Alaska. Tengku Adnan is the leader of Federal Territories (Malaysia). Oleg Betin is the leader of Tambov Oblast. Cato the Younger is the leader of Optimates. Greg Clark (Canadian politician) is the leader of Calgary. Léon Blum is the leader of French Section of the Workers- International. Elizabeth II is the leader of Pitcairn Islands. Rajendra Devlekar is the leader of Kalyan. Doug Armstrong is the leader of Whitewood, Saskatchewan. Salma Zahid is the leader of Wexford, Toronto. Teo Ser Luck is the leader of Sengkang. Vitali Klitschko is the leader of Kiev City State Administration. Roberto Salcedo Sr. is the leader of Nuevo Arroyo Hondo. Arthur Leonard is the leader of Chincoteague, Virginia. Sugianto Sabran is the leader of Central Kalimantan. Director-general is the leader of Indian Coast Guard. Ellen G. White is the leader of Ossipee, New Hampshire. Violeta Ivanov is the leader of Party of Communists of the Republic of Moldova. Karen Goh is the leader of Bakersfield, California. Larry Maguire is the leader of Woodnorth, Manitoba. Brad Moore is the leader of Benton, Arkansas. Sharon White (civil servant) is the leader of Ofcom. Han Polman is the leader of Zeeland. Paul Daley is the leader of Fultonville, New York. Itamar Marcus is the leader of Palestinian Media Watch. Cindy Forster is the leader of St. Catharines. Jón Bjarnason is the leader of Heimssýn. Mohamed Farrah Aidid is the leader of Somali National Alliance. Bob Bailey (politician) is the leader of Sarnia. Mark Lowcock is the leader of United Nations Office for the Coordination of Humanitarian Affairs. Ragnhild Hennum is the leader of Norwegian Women-s Lobby. Don Iveson is the leader of Skyrattler, Edmonton. William Gabula is the leader of Busoga. Manuel Oribe is the leader of National Party (Uruguay). Piotr Kuczera is the leader of Rybnik. Bryce Edgmon is the leader of South Naknek, Alaska. Paula Bennett is the leader of New Zealand National Party. Binna Choi is the leader of Casco (Utrecht). Hrant Markarian is the leader of Armenian Revolutionary Federation. Steven Marshall is the leader of Liberal Party of Australia (South Australian Division). Mohammed Khaled Al-Khadher is the leader of Chief of the General Staff (Kuwait). Ben Oquist is the leader of The Australia Institute. Vinod Kumar Boianapalli is the leader of Rajalingampet. Harpal Brar is the leader of Communist Party of Great Britain (Marxist–Leninist). Maurice Saatchi, Baron Saatchi is the leader of Centre for Policy Studies. Brad Trost is the leader of Silverspring, Saskatoon. Charles Merritt is the leader of The Saskatchewan Border Regiment. Yu Haiyan is the leader of Lanzhou. Zoltán Németh is the leader of Győr-Moson-Sopron County. Prince Philip, Duke of Edinburgh is the leader of Army Cadet Force. Basheer Segu Dawood is the leader of Batticaloa District. Brian Campbell is the leader of Rancho Palos Verdes, California. Alan Duncan is the leader of British Overseas Territories. Michel Ney is the leader of Army of the Danube. George E. Campsen III is the leader of Edisto Beach, South Carolina. Hani Al-Mulki is the leader of Aqaba. Htin Kyaw is the leader of Myanmar. Deputy mayor is the leader of San Anselmo, California. David Guttenberg is the leader of Goldstream, Alaska. C. Vidyasagar Rao is the leader of Maharashtra. Jack Draper is the leader of Anniston, Alabama. Amelia Kyambadde is the leader of Muduuma. Wang Chuanjun is the leader of National Junior Classical League. Alok Sharma is the leader of Bhopal Municipal Corporation. Vasundhara Raje is the leader of Rajasthan. Aimé Picquet du Boisguy is the leader of Chouannerie. Tom Marino is the leader of Starrucca, Pennsylvania. Catherine McKenna is the leader of Westboro, Ottawa. Loni Hancock is the leader of Marina Bay, Richmond, California. Roland Drew is the leader of Arundel, Maine. Roel Degamo is the leader of Negros Oriental. Georgi Dimitrov is the leader of Karnobat. Herbert Nakimayak is the leader of Tuktoyaktuk. Ted Falk is the leader of Lorette, Manitoba. Róisín Shortall is the leader of Social Democrats (Ireland). Benhur Salimbangon is the leader of Madridejos, Cebu. Borislav Pelević is the leader of Serb Volunteer Guard. Patrick Nyamvumba is the leader of Rwandan Defence Forces. Dave Talerico is the leader of Gulkana, Alaska. Wasantha Senanayake is the leader of Polonnaruwa District. Roy Ashburn is the leader of Derby Acres, California. Muriel Bowser is the leader of Washington, D.C.. John Jorritsma is the leader of Eindhoven. Dave Talerico is the leader of Alcan Border, Alaska. Boško Obradović is the leader of Dveri. Wes Jackson is the leader of The Land Institute. Peter I of Serbia is the leader of Banat Republic. Jesús Rivera Sánchez is the leader of Minillas (Bayamón). Mark Amodei is the leader of Congressional Gaming Caucus. Artur Axmann is the leader of Hitler Youth. Mantas Adomėnas is the leader of Homeland Union. Amanda Nevill is the leader of British Film Institute. Jay Costa is the leader of Pennsylvania Democratic Party. Sak Sutsakhan is the leader of Liberal Democratic Party (Cambodia). Selina Robinson is the leader of Coquitlam. Nathaniel Erskine-Smith is the leader of Upper Beaches. Gabriela Firea is the leader of Bucharest. Tom Berryhill is the leader of North Woodbridge, California. Deb Schulte is the leader of Vaughan. Toby Barrett is the leader of Hillcrest, Norfolk County, Ontario. Laurie Scott (politician) is the leader of Highlands East, Ontario. Eddie Joyce is the leader of Humber Arm South. Lisa Baker (Pennsylvania politician) is the leader of Starrucca, Pennsylvania. María Lucero Saldaña is the leader of Puebla. Klaudia Szemerey-Pataki is the leader of Kecskemét. Patty Wetterling is the leader of National Center for Missing & Exploited Children. Miguel Ángel Pichetto is the leader of Justicialist Party. Sanjay Kumar Das Burma is the leader of Parikud. Jay Hill is the leader of Fort Nelson, British Columbia. Miguel Miramón is the leader of Conservative Party (Mexico). Jon Lord (politician) is the leader of Division No. 6, Alberta. José Javier Rodríguez is the leader of Little Havana. Joan Kerr is the leader of Dubuc, Saskatchewan. Dennis Daugaard is the leader of South Dakota Air National Guard. Luis Fortuño is the leader of Palmas (Cataño). Denise Phua is the leader of Serangoon. Saud bin Rashid Al Mu-alla is the leader of Al Dini. Sarah Doucette is the leader of Old Mill, Toronto. Donald Trump is the leader of Massachusetts Air National Guard. Ninong Ering is the leader of Mirem Village. Peter Cosgrove is the leader of Christmas Island. Nicole Ménard is the leader of Greenfield Park, Quebec. David Puttnam is the leader of FOCAL International. Nabih Berri is the leader of Amal Movement. Mam Sonando is the leader of Beehive Social Democratic Party. Andrew Cuomo is the leader of New York Air National Guard. Ugo Intini is the leader of Socialist Party (Italy, 1996). Mike Navarre is the leader of Kasilof, Alaska. Wan Gang is the leader of China Zhi Gong Party. John Wagner is the leader of Rural Municipality of Piapot No. 110. Yahya Abdulrahman is the leader of Bareq. Ed Komarnicki is the leader of Fertile, Saskatchewan. Rhun ap Iorwerth is the leader of Anglesey. Donald Trump is the leader of Virgin Islands Air National Guard. Gary Bikman is the leader of Magrath. Chen Tiexin is the leader of Chaoyang, Liaoning. Sylvia Pinel is the leader of Radical Party of the Left. Xi Jinping is the leader of People-s Liberation Army militia. Antonio López de Santa Anna is the leader of Liberal Party (Mexico). Mounir Bouchenaki is the leader of Arab Regional Centre for World Heritage. Marshal of Yugoslavia is the leader of Yugoslav People-s Army. Aengus Finnan is the leader of Folk Alliance International. Scott Andrews (politician) is the leader of Admirals Beach. Bernard Généreux is the leader of Le Domaine-du-Roy. George Monck, 1st Duke of Albemarle is the leader of Scots Army. Ludwig Hoffmann von Rumerstein is the leader of Sovereign Military Order of Malta. Stephen Schneider is the leader of Enfield, New Hampshire. John Holman (chemist) is the leader of Royal Society of Chemistry. Peng Dehuai is the leader of Eighth Route Army. John Fraser (Ontario MPP) is the leader of Alta Vista, Ottawa. Greg Garner is the leader of Weston, Idaho. Don Feder is the leader of Jews Against Anti-Christian Defamation. Rod Phillips is the leader of International Rogaining Federation. Nicolae Dumitru is the leader of Blăjani. Paul Quassa is the leader of Igloolik. Gianfranco Fini is the leader of National Alliance (Italy). Elizabeth II is the leader of Gibraltar. Pinarayi Vijayan is the leader of Kerala Sahitya Akademi. Dariush Homayoon is the leader of Constitutionalist Party of Iran. Juan León Mera is the leader of Conservative Party (Ecuador). Ronald Eddy is the leader of County of Brant. Cliff Rosenberger is the leader of Ohio Republican Party. Glenn van Dijken is the leader of Barrhead, Alberta. Alpha Condé is the leader of Republican Guard (Guinea). Robert Fudge is the leader of Cedarville, Ohio. S. M. Ranjith is the leader of Polonnaruwa District. Pierre Moreau is the leader of Kahnawake. Vetukuri Venkata Siva Rama Raju is the leader of Malavanitippa. Richard Leese is the leader of Didsbury West (ward). Chris Stephens (politician) is the leader of Glasgow. Gudie Hutchings is the leader of Burgeo. Karl Hermann Frank is the leader of Sudetendeutsches Freikorps. Mario Martín Delgado is the leader of Mexico City. Roy Ashburn is the leader of Fellows, California. John Gioia is the leader of San Pablo, California. Graham Ford is the leader of Surf Life Saving Australia. Donny Olson is the leader of Prudhoe Bay, Alaska. M. K. Shivajilingam is the leader of Jaffna District. Siddhanta Mahapatra is the leader of Ganjam district. Moshe Koppel is the leader of Kohelet Policy Forum. Linda Sloan is the leader of Suder Greens, Edmonton. Kathleen Ryan is the leader of Institute for Global Maritime Studies. Nicole Goehring is the leader of Edmonton. Józef Haller is the leader of Blue Army (Poland). István Fodor is the leader of Bodoc. Antonio Ingroia is the leader of Orange Movement. Thomas Robinet is the leader of Lapeer, Michigan. Roderick Wright (politician) is the leader of Watts, Los Angeles. Sarah Doucette is the leader of Lambton, Toronto. Gerry Ritz is the leader of Landis, Saskatchewan. Regina Leung is the leader of Hong Kong Army Cadets Association Limited. Ramon Durano VI is the leader of Pilar, Cebu. Andy Watson (mayor) is the leader of Taihape. Helena Jaczek is the leader of King Creek, Ontario. Alexander Nimmo is the leader of 109th Illinois Volunteer Infantry Regiment. Muhammad Hatta Ali is the leader of Indonesia. Harold Albrecht is the leader of Regional Municipality of Waterloo. Karen Leibovici is the leader of The Hamptons, Edmonton. Frédérique Petrides is the leader of West Side Orchestral Concerts. Suranjit Sengupta is the leader of Derai Upazila. Majid Jowhari is the leader of Richmond Hill, Ontario. Alan Doss is the leader of Kofi Annan Foundation. Juan Bautista Molina is the leader of Nationalist Liberation Alliance. Lucy Evans is the leader of Shelburne, New Hampshire. Lyman Hoffman is the leader of Aleknagik, Alaska. Giovanni Malagodi is the leader of Italian Liberal Party. Charles Huxtable (British Army officer) is the leader of 10th Battalion, Ulster Defence Regiment. Andrés Pastrana Arango is the leader of Centrist Democrat International. Joseph Ward is the leader of Eel Ground First Nation. A. Visalakshi is the leader of Tiruppur. Marcelo Rebelo de Sousa is the leader of Portuguese Armed Forces. Enrique Orellana is the leader of Famaillá Department, Tucumán. Debbie Wasserman Schultz is the leader of City Center (Miami Beach). Gérard Collomb is the leader of Metropolitan Lyon. Pablo Martínez is the leader of Gregory, Texas. Bernardo Márquez García is the leader of Toa Baja, Puerto Rico. Otumfuo Nana Osei Tutu II is the leader of Bantama. Gary Stevens (politician) is the leader of Kasilof, Alaska. Jason Stein is the leader of Cleveland Heights, Ohio. Selina Hayat Ivy is the leader of Narayanganj. John Anderson (British Army officer) is the leader of 10th Battalion, Ulster Defence Regiment. Jill Evans is the leader of Newport, Wales. Xiong Xiling is the leader of Unity Party (China). Elly Blanksma-van den Heuvel is the leader of Helmond. Donny Olson is the leader of Nunam Iqua, Alaska. Marc Bernier is the leader of United Republic. Jim Steineke is the leader of Republican Party of Wisconsin. Donald Trump is the leader of Connecticut Air National Guard. Maria Norrfalk is the leader of Dalarna County. Mulatu Teshome is the leader of Ethiopia. Bill Olner is the leader of The Independent Game Developers- Association. Susan Thompson is the leader of Aberdeen, Saskatchewan. Stephen Kinnock is the leader of Neath Port Talbot. Han Dong (politician) is the leader of Grange Park (neighbourhood). Dorin Chirtoacă is the leader of Liberal Party (Moldova). Vijitha Herath is the leader of Democratic National Alliance (Sri Lanka). Matt Thorn is the leader of OutServe-SLDN. Larry Goldenberg is the leader of Vancouver Prostate Centre. Cathay Wagantall is the leader of Archerwill. Hossam El-Gheriany is the leader of National Council for Human Rights. Pranab Basu is the leader of Midnapore. Dick Durbin is the leader of Senate Ukraine Caucus. Andrea Levin is the leader of Committee for Accuracy in Middle East Reporting in America. Colin Munro MacLeod is the leader of International Centre for Diarrhoeal Disease Research, Bangladesh. Denise Lewis is the leader of Commonwealth Games England. Gavin St Pier is the leader of Guernsey. Han Dong (politician) is the leader of Harbourfront (Toronto). Geert Bourgeois is the leader of Flemish Region. Jargaltulgyn Erdenebat is the leader of Mongolia. Joko Widodo is the leader of Indonesian Army. Arthur Potts (politician) is the leader of East Danforth. Walter Torres Maldonado is the leader of Peñuelas, Puerto Rico. Saud bin Nayef Al Saud is the leader of Saihat. Fred Bradshaw is the leader of Tisdale, Saskatchewan. Robert Murphy Mayo is the leader of 47th Virginia Infantry. Rick Shangraw is the leader of ASU Enterprise Partners. Yin Yicui is the leader of Shanghai. Ron Kostyshyn is the leader of Mafeking, Manitoba. Ted Lieu is the leader of Venice, Los Angeles. Luiz Fernando Pezão is the leader of Rio de Janeiro (state).'"
            ],
            "application/vnd.google.colaboratory.intrinsic+json": {
              "type": "string"
            }
          },
          "metadata": {},
          "execution_count": 24
        }
      ],
      "source": [
        "paras[0]"
      ]
    },
    {
      "cell_type": "code",
      "execution_count": null,
      "id": "affdcd6d",
      "metadata": {
        "colab": {
          "base_uri": "https://localhost:8080/"
        },
        "id": "affdcd6d",
        "outputId": "38b788ef-36d0-441d-acc6-2a63d6abbae6"
      },
      "outputs": [
        {
          "output_type": "execute_result",
          "data": {
            "text/plain": [
              "160"
            ]
          },
          "metadata": {},
          "execution_count": 25
        }
      ],
      "source": [
        "len(paras)"
      ]
    },
    {
      "cell_type": "markdown",
      "source": [
        "## Loading Allen NLP NER Model"
      ],
      "metadata": {
        "id": "ykwqSJTi0N9I"
      },
      "id": "ykwqSJTi0N9I"
    },
    {
      "cell_type": "code",
      "source": [
        "predictor_ner = Predictor.from_path(\"https://storage.googleapis.com/allennlp-public-models/ner-elmo.2021-02-12.tar.gz\")"
      ],
      "metadata": {
        "colab": {
          "base_uri": "https://localhost:8080/"
        },
        "id": "QzILUuk40CgC",
        "outputId": "8802ad0f-f25c-403a-c049-b530e379130e"
      },
      "id": "QzILUuk40CgC",
      "execution_count": null,
      "outputs": [
        {
          "output_type": "stream",
          "name": "stderr",
          "text": [
            "[nltk_data] Downloading package punkt to /root/nltk_data...\n",
            "[nltk_data]   Unzipping tokenizers/punkt.zip.\n",
            "[nltk_data] Downloading package wordnet to /root/nltk_data...\n",
            "downloading: 100%|##########| 365340283/365340283 [00:05<00:00, 62786895.30B/s]\n",
            "downloading: 100%|##########| 336/336 [00:00<00:00, 617836.98B/s]\n",
            "downloading: 100%|##########| 374434792/374434792 [00:12<00:00, 30359135.42B/s]\n",
            "/usr/local/lib/python3.8/dist-packages/torch/nn/modules/container.py:435: UserWarning: Setting attributes on ParameterList is not supported.\n",
            "  warnings.warn(\"Setting attributes on ParameterList is not supported.\")\n"
          ]
        }
      ]
    },
    {
      "cell_type": "code",
      "source": [
        "predictor_ner"
      ],
      "metadata": {
        "colab": {
          "base_uri": "https://localhost:8080/"
        },
        "id": "Wqfpxzh10Clt",
        "outputId": "0aca2599-6c3c-438e-b74a-499320811017"
      },
      "id": "Wqfpxzh10Clt",
      "execution_count": null,
      "outputs": [
        {
          "output_type": "execute_result",
          "data": {
            "text/plain": [
              "<allennlp.predictors.sentence_tagger.SentenceTaggerPredictor at 0x7fbe45731e20>"
            ]
          },
          "metadata": {},
          "execution_count": 27
        }
      ]
    },
    {
      "cell_type": "markdown",
      "source": [
        "## Running NER on Yago"
      ],
      "metadata": {
        "id": "so2kN9MC0S1D"
      },
      "id": "so2kN9MC0S1D"
    },
    {
      "cell_type": "code",
      "source": [
        "dict1 = {}"
      ],
      "metadata": {
        "id": "YasD-fI_s1yi"
      },
      "id": "YasD-fI_s1yi",
      "execution_count": null,
      "outputs": []
    },
    {
      "cell_type": "code",
      "source": [
        "# results = predictor_ner.predict(\n",
        "#     sentence=paras[0]\n",
        "#   )"
      ],
      "metadata": {
        "id": "nQ4PPUSvCBL6"
      },
      "id": "nQ4PPUSvCBL6",
      "execution_count": null,
      "outputs": []
    },
    {
      "cell_type": "code",
      "source": [
        "# lst = []\n",
        "\n",
        "# for word, tag in zip(results['words'], results['tags']):\n",
        "#   tpl = (word, tag)\n",
        "#   lst.append(tpl)\n",
        "\n",
        "# lst"
      ],
      "metadata": {
        "id": "_Z93tkFQCZAt"
      },
      "id": "_Z93tkFQCZAt",
      "execution_count": null,
      "outputs": []
    },
    {
      "cell_type": "code",
      "execution_count": null,
      "id": "ed97548d",
      "metadata": {
        "colab": {
          "base_uri": "https://localhost:8080/"
        },
        "id": "ed97548d",
        "outputId": "34f6b2e2-0687-455b-831a-c6e5c6252fab"
      },
      "outputs": [
        {
          "output_type": "stream",
          "name": "stderr",
          "text": [
            "100%|██████████| 160/160 [5:45:39<00:00, 129.62s/it]\n"
          ]
        }
      ],
      "source": [
        "for sq_para in tqdm(paras):\n",
        "  data = sq_para\n",
        "\n",
        "  results = predictor_ner.predict(\n",
        "    sentence=data\n",
        "  )\n",
        "\n",
        "  lst = []\n",
        "\n",
        "  for word, tag in zip(results['words'], results['tags']):\n",
        "    tpl = (word, tag)\n",
        "    lst.append(tpl)\n",
        "\n",
        "  # **** Creating entity to tag mapping by removing prefixes. ****\n",
        "  final_lst = []\n",
        "  i = 0\n",
        "  n = len(lst)\n",
        "  s = \"\"\n",
        "  prev_tag = \"\"\n",
        "  while i < n:\n",
        "    ps = lst[i][0]\n",
        "    pt = lst[i][1]\n",
        "\n",
        "    if pt[0] == 'B':\n",
        "      if s != \"\":\n",
        "        tpl = (s, prev_tag)\n",
        "        final_lst.append(tpl)\n",
        "      s = ps\n",
        "      prev_tag = pt[2:]\n",
        "\n",
        "    elif pt[0] == 'I': \n",
        "      s = s + \" \" + ps\n",
        "      prev_tag = pt[2:]\n",
        "\n",
        "    elif pt[0] == 'L':\n",
        "      s = s + \" \" + ps\n",
        "      tpl = (s, pt[2:])\n",
        "      final_lst.append(tpl)\n",
        "      s=\"\"\n",
        "\n",
        "    elif pt[0] == 'U':\n",
        "      if s!=\"\":\n",
        "        tpl = (s, prev_tag)\n",
        "        final_lst.append(tpl)\n",
        "      tpl1 = (ps, pt[2:])\n",
        "      final_lst.append(tpl1)\n",
        "      s=\"\"\n",
        "      prev_tag=\"\"\n",
        "\n",
        "    elif pt == \"O\":\n",
        "      if(prev_tag == \"O\"):\n",
        "        if ps == '.' or ps == ',':\n",
        "          s = s+ps\n",
        "        else:\n",
        "          s = s + \" \" + ps\n",
        "      else:\n",
        "        if s!=\"\":\n",
        "          tpl = (s, prev_tag)\n",
        "          final_lst.append(tpl)\n",
        "        s = ps\n",
        "      prev_tag = pt\n",
        "\n",
        "    i+=1\n",
        "\n",
        "  if s!=\"\":\n",
        "    tpl = (s, prev_tag)\n",
        "    final_lst.append(tpl)\n",
        "\n",
        "  # print(final_lst)\n",
        "\n",
        "  # **** Inserting underscores to the named entities ****\n",
        "  i = 0\n",
        "  for tpl in final_lst:\n",
        "    word = \"\"\n",
        "    if tpl[1] != 'O':\n",
        "      word = tpl[0].replace(' ', '_')\n",
        "      if word not in dict1.keys():\n",
        "        dict1[word] = tpl[1]"
      ]
    },
    {
      "cell_type": "code",
      "source": [
        "# dict1"
      ],
      "metadata": {
        "id": "P4K2hyYLrbYn"
      },
      "id": "P4K2hyYLrbYn",
      "execution_count": null,
      "outputs": []
    },
    {
      "cell_type": "code",
      "source": [
        "new_relations = []\n",
        "\n",
        "keys = dict1.keys()\n",
        "\n",
        "for key in keys:\n",
        "  lst = []\n",
        "  lst.append(\"<\" + key + \">\")\n",
        "  lst.append('<is_a>')\n",
        "  lst.append(\"<\" + dict1[key] + \">\")\n",
        "  new_relations.append(lst)\n",
        "  lst = []\n",
        "  lst.append(\"<\" + dict1[key] + \">\")\n",
        "  lst.append('<contains>')\n",
        "  lst.append(\"<\" + key + \">\")"
      ],
      "metadata": {
        "id": "DuPPhMlj7zcj"
      },
      "id": "DuPPhMlj7zcj",
      "execution_count": null,
      "outputs": []
    },
    {
      "cell_type": "code",
      "source": [
        "new_relations[:5]"
      ],
      "metadata": {
        "id": "VeOmi8c98eWv",
        "colab": {
          "base_uri": "https://localhost:8080/"
        },
        "outputId": "d3e68350-a3b4-4eb7-bff8-2567439cd5c8"
      },
      "id": "VeOmi8c98eWv",
      "execution_count": null,
      "outputs": [
        {
          "output_type": "execute_result",
          "data": {
            "text/plain": [
              "[['<Jesús_Rivera_Sánchez>', '<is_a>', '<PER>'],\n",
              " ['<Pueblo>', '<is_a>', '<LOC>'],\n",
              " ['<Naranjito>', '<is_a>', '<LOC>'],\n",
              " ['<Elizabeth_II>', '<is_a>', '<PER>'],\n",
              " ['<Royal_Numismatic_Society>', '<is_a>', '<ORG>']]"
            ]
          },
          "metadata": {},
          "execution_count": 34
        }
      ]
    },
    {
      "cell_type": "code",
      "source": [
        "len(new_relations)"
      ],
      "metadata": {
        "id": "aHsr5yfNAM6i",
        "colab": {
          "base_uri": "https://localhost:8080/"
        },
        "outputId": "9690a70f-a1d7-4e0e-cf7b-aeb4229d20ff"
      },
      "id": "aHsr5yfNAM6i",
      "execution_count": null,
      "outputs": [
        {
          "output_type": "execute_result",
          "data": {
            "text/plain": [
              "92848"
            ]
          },
          "metadata": {},
          "execution_count": 35
        }
      ]
    },
    {
      "cell_type": "code",
      "execution_count": null,
      "id": "59d5d5f5",
      "metadata": {
        "id": "59d5d5f5"
      },
      "outputs": [],
      "source": [
        "df2 = df1\n",
        "\n",
        "for lst in new_relations:\n",
        "  # print(\"a\")\n",
        "  df2 = df2.append(pd.DataFrame([lst], columns=['entity1', 'relation', 'entity2']), ignore_index = True)"
      ]
    },
    {
      "cell_type": "code",
      "execution_count": null,
      "id": "2bc46cd1",
      "metadata": {
        "id": "2bc46cd1",
        "colab": {
          "base_uri": "https://localhost:8080/",
          "height": 424
        },
        "outputId": "3c040baf-f8b1-4bbf-91ad-1ebfbd0b7f2b"
      },
      "outputs": [
        {
          "output_type": "execute_result",
          "data": {
            "text/plain": [
              "                        entity1            relation  \\\n",
              "0        <Jesús_Rivera_Sánchez>  <is_the_leader_of>   \n",
              "1                <Elizabeth_II>  <is_the_leader_of>   \n",
              "2            <Richard_Stallman>  <is_the_leader_of>   \n",
              "3              <Keith_Peterson>  <is_the_leader_of>   \n",
              "4       <William_H._Seward_Jr.>  <is_the_leader_of>   \n",
              "...                         ...                 ...   \n",
              "172843         <Keisuke_Sasaki>              <is_a>   \n",
              "172844           <Irene_Rozema>              <is_a>   \n",
              "172845           <Sara_Zandieh>              <is_a>   \n",
              "172846   <Cellestine_Hannemann>              <is_a>   \n",
              "172847       <Mike_Gommeringer>              <is_a>   \n",
              "\n",
              "                                        entity2  \n",
              "0                         <Pueblo_of_Naranjito>  \n",
              "1                    <Royal_Numismatic_Society>  \n",
              "2                    <Free_Software_Foundation>  \n",
              "3                               <Cambridge_Bay>  \n",
              "4       <9th_New_York_Heavy_Artillery_Regiment>  \n",
              "...                                         ...  \n",
              "172843                                    <PER>  \n",
              "172844                                    <PER>  \n",
              "172845                                    <PER>  \n",
              "172846                                    <PER>  \n",
              "172847                                    <PER>  \n",
              "\n",
              "[172848 rows x 3 columns]"
            ],
            "text/html": [
              "\n",
              "  <div id=\"df-d309b4cc-b2f4-40ee-9e95-0f14eafa9205\">\n",
              "    <div class=\"colab-df-container\">\n",
              "      <div>\n",
              "<style scoped>\n",
              "    .dataframe tbody tr th:only-of-type {\n",
              "        vertical-align: middle;\n",
              "    }\n",
              "\n",
              "    .dataframe tbody tr th {\n",
              "        vertical-align: top;\n",
              "    }\n",
              "\n",
              "    .dataframe thead th {\n",
              "        text-align: right;\n",
              "    }\n",
              "</style>\n",
              "<table border=\"1\" class=\"dataframe\">\n",
              "  <thead>\n",
              "    <tr style=\"text-align: right;\">\n",
              "      <th></th>\n",
              "      <th>entity1</th>\n",
              "      <th>relation</th>\n",
              "      <th>entity2</th>\n",
              "    </tr>\n",
              "  </thead>\n",
              "  <tbody>\n",
              "    <tr>\n",
              "      <th>0</th>\n",
              "      <td>&lt;Jesús_Rivera_Sánchez&gt;</td>\n",
              "      <td>&lt;is_the_leader_of&gt;</td>\n",
              "      <td>&lt;Pueblo_of_Naranjito&gt;</td>\n",
              "    </tr>\n",
              "    <tr>\n",
              "      <th>1</th>\n",
              "      <td>&lt;Elizabeth_II&gt;</td>\n",
              "      <td>&lt;is_the_leader_of&gt;</td>\n",
              "      <td>&lt;Royal_Numismatic_Society&gt;</td>\n",
              "    </tr>\n",
              "    <tr>\n",
              "      <th>2</th>\n",
              "      <td>&lt;Richard_Stallman&gt;</td>\n",
              "      <td>&lt;is_the_leader_of&gt;</td>\n",
              "      <td>&lt;Free_Software_Foundation&gt;</td>\n",
              "    </tr>\n",
              "    <tr>\n",
              "      <th>3</th>\n",
              "      <td>&lt;Keith_Peterson&gt;</td>\n",
              "      <td>&lt;is_the_leader_of&gt;</td>\n",
              "      <td>&lt;Cambridge_Bay&gt;</td>\n",
              "    </tr>\n",
              "    <tr>\n",
              "      <th>4</th>\n",
              "      <td>&lt;William_H._Seward_Jr.&gt;</td>\n",
              "      <td>&lt;is_the_leader_of&gt;</td>\n",
              "      <td>&lt;9th_New_York_Heavy_Artillery_Regiment&gt;</td>\n",
              "    </tr>\n",
              "    <tr>\n",
              "      <th>...</th>\n",
              "      <td>...</td>\n",
              "      <td>...</td>\n",
              "      <td>...</td>\n",
              "    </tr>\n",
              "    <tr>\n",
              "      <th>172843</th>\n",
              "      <td>&lt;Keisuke_Sasaki&gt;</td>\n",
              "      <td>&lt;is_a&gt;</td>\n",
              "      <td>&lt;PER&gt;</td>\n",
              "    </tr>\n",
              "    <tr>\n",
              "      <th>172844</th>\n",
              "      <td>&lt;Irene_Rozema&gt;</td>\n",
              "      <td>&lt;is_a&gt;</td>\n",
              "      <td>&lt;PER&gt;</td>\n",
              "    </tr>\n",
              "    <tr>\n",
              "      <th>172845</th>\n",
              "      <td>&lt;Sara_Zandieh&gt;</td>\n",
              "      <td>&lt;is_a&gt;</td>\n",
              "      <td>&lt;PER&gt;</td>\n",
              "    </tr>\n",
              "    <tr>\n",
              "      <th>172846</th>\n",
              "      <td>&lt;Cellestine_Hannemann&gt;</td>\n",
              "      <td>&lt;is_a&gt;</td>\n",
              "      <td>&lt;PER&gt;</td>\n",
              "    </tr>\n",
              "    <tr>\n",
              "      <th>172847</th>\n",
              "      <td>&lt;Mike_Gommeringer&gt;</td>\n",
              "      <td>&lt;is_a&gt;</td>\n",
              "      <td>&lt;PER&gt;</td>\n",
              "    </tr>\n",
              "  </tbody>\n",
              "</table>\n",
              "<p>172848 rows × 3 columns</p>\n",
              "</div>\n",
              "      <button class=\"colab-df-convert\" onclick=\"convertToInteractive('df-d309b4cc-b2f4-40ee-9e95-0f14eafa9205')\"\n",
              "              title=\"Convert this dataframe to an interactive table.\"\n",
              "              style=\"display:none;\">\n",
              "        \n",
              "  <svg xmlns=\"http://www.w3.org/2000/svg\" height=\"24px\"viewBox=\"0 0 24 24\"\n",
              "       width=\"24px\">\n",
              "    <path d=\"M0 0h24v24H0V0z\" fill=\"none\"/>\n",
              "    <path d=\"M18.56 5.44l.94 2.06.94-2.06 2.06-.94-2.06-.94-.94-2.06-.94 2.06-2.06.94zm-11 1L8.5 8.5l.94-2.06 2.06-.94-2.06-.94L8.5 2.5l-.94 2.06-2.06.94zm10 10l.94 2.06.94-2.06 2.06-.94-2.06-.94-.94-2.06-.94 2.06-2.06.94z\"/><path d=\"M17.41 7.96l-1.37-1.37c-.4-.4-.92-.59-1.43-.59-.52 0-1.04.2-1.43.59L10.3 9.45l-7.72 7.72c-.78.78-.78 2.05 0 2.83L4 21.41c.39.39.9.59 1.41.59.51 0 1.02-.2 1.41-.59l7.78-7.78 2.81-2.81c.8-.78.8-2.07 0-2.86zM5.41 20L4 18.59l7.72-7.72 1.47 1.35L5.41 20z\"/>\n",
              "  </svg>\n",
              "      </button>\n",
              "      \n",
              "  <style>\n",
              "    .colab-df-container {\n",
              "      display:flex;\n",
              "      flex-wrap:wrap;\n",
              "      gap: 12px;\n",
              "    }\n",
              "\n",
              "    .colab-df-convert {\n",
              "      background-color: #E8F0FE;\n",
              "      border: none;\n",
              "      border-radius: 50%;\n",
              "      cursor: pointer;\n",
              "      display: none;\n",
              "      fill: #1967D2;\n",
              "      height: 32px;\n",
              "      padding: 0 0 0 0;\n",
              "      width: 32px;\n",
              "    }\n",
              "\n",
              "    .colab-df-convert:hover {\n",
              "      background-color: #E2EBFA;\n",
              "      box-shadow: 0px 1px 2px rgba(60, 64, 67, 0.3), 0px 1px 3px 1px rgba(60, 64, 67, 0.15);\n",
              "      fill: #174EA6;\n",
              "    }\n",
              "\n",
              "    [theme=dark] .colab-df-convert {\n",
              "      background-color: #3B4455;\n",
              "      fill: #D2E3FC;\n",
              "    }\n",
              "\n",
              "    [theme=dark] .colab-df-convert:hover {\n",
              "      background-color: #434B5C;\n",
              "      box-shadow: 0px 1px 3px 1px rgba(0, 0, 0, 0.15);\n",
              "      filter: drop-shadow(0px 1px 2px rgba(0, 0, 0, 0.3));\n",
              "      fill: #FFFFFF;\n",
              "    }\n",
              "  </style>\n",
              "\n",
              "      <script>\n",
              "        const buttonEl =\n",
              "          document.querySelector('#df-d309b4cc-b2f4-40ee-9e95-0f14eafa9205 button.colab-df-convert');\n",
              "        buttonEl.style.display =\n",
              "          google.colab.kernel.accessAllowed ? 'block' : 'none';\n",
              "\n",
              "        async function convertToInteractive(key) {\n",
              "          const element = document.querySelector('#df-d309b4cc-b2f4-40ee-9e95-0f14eafa9205');\n",
              "          const dataTable =\n",
              "            await google.colab.kernel.invokeFunction('convertToInteractive',\n",
              "                                                     [key], {});\n",
              "          if (!dataTable) return;\n",
              "\n",
              "          const docLinkHtml = 'Like what you see? Visit the ' +\n",
              "            '<a target=\"_blank\" href=https://colab.research.google.com/notebooks/data_table.ipynb>data table notebook</a>'\n",
              "            + ' to learn more about interactive tables.';\n",
              "          element.innerHTML = '';\n",
              "          dataTable['output_type'] = 'display_data';\n",
              "          await google.colab.output.renderOutput(dataTable, element);\n",
              "          const docLink = document.createElement('div');\n",
              "          docLink.innerHTML = docLinkHtml;\n",
              "          element.appendChild(docLink);\n",
              "        }\n",
              "      </script>\n",
              "    </div>\n",
              "  </div>\n",
              "  "
            ]
          },
          "metadata": {},
          "execution_count": 37
        }
      ],
      "source": [
        "df2"
      ]
    },
    {
      "cell_type": "code",
      "source": [
        "df2.to_csv('final_input1.csv')"
      ],
      "metadata": {
        "id": "9ajMYN97-FuA"
      },
      "id": "9ajMYN97-FuA",
      "execution_count": null,
      "outputs": []
    },
    {
      "cell_type": "code",
      "source": [],
      "metadata": {
        "id": "kwgO-5uAAiF7"
      },
      "id": "kwgO-5uAAiF7",
      "execution_count": null,
      "outputs": []
    }
  ],
  "metadata": {
    "kernelspec": {
      "display_name": "Python 3 (ipykernel)",
      "language": "python",
      "name": "python3"
    },
    "language_info": {
      "codemirror_mode": {
        "name": "ipython",
        "version": 3
      },
      "file_extension": ".py",
      "mimetype": "text/x-python",
      "name": "python",
      "nbconvert_exporter": "python",
      "pygments_lexer": "ipython3",
      "version": "3.9.13"
    },
    "colab": {
      "provenance": [],
      "collapsed_sections": [
        "9JfEst-Srsm3"
      ]
    }
  },
  "nbformat": 4,
  "nbformat_minor": 5
}