{
 "cells": [
  {
   "cell_type": "code",
   "execution_count": 1,
   "id": "e94fb0f6",
   "metadata": {
    "execution": {
     "iopub.execute_input": "2022-08-08T13:40:01.455491Z",
     "iopub.status.busy": "2022-08-08T13:40:01.455006Z",
     "iopub.status.idle": "2022-08-08T13:41:02.663607Z",
     "shell.execute_reply": "2022-08-08T13:41:02.662478Z"
    },
    "papermill": {
     "duration": 61.228498,
     "end_time": "2022-08-08T13:41:02.666448",
     "exception": false,
     "start_time": "2022-08-08T13:40:01.437950",
     "status": "completed"
    },
    "tags": []
   },
   "outputs": [
    {
     "name": "stdout",
     "output_type": "stream",
     "text": [
      "Collecting pyspark\r\n",
      "  Downloading pyspark-3.3.0.tar.gz (281.3 MB)\r\n",
      "\u001b[2K     \u001b[90m━━━━━━━━━━━━━━━━━━━━━━━━━━━━━━━━━━━━━━━\u001b[0m \u001b[32m281.3/281.3 MB\u001b[0m \u001b[31m3.4 MB/s\u001b[0m eta \u001b[36m0:00:00\u001b[0m\r\n",
      "\u001b[?25h  Preparing metadata (setup.py) ... \u001b[?25l-\b \b\\\b \bdone\r\n",
      "\u001b[?25hRequirement already satisfied: py4j==0.10.9.5 in /opt/conda/lib/python3.7/site-packages (from pyspark) (0.10.9.5)\r\n",
      "Building wheels for collected packages: pyspark\r\n",
      "  Building wheel for pyspark (setup.py) ... \u001b[?25l-\b \b\\\b \b|\b \b/\b \b-\b \b\\\b \b|\b \b/\b \b-\b \b\\\b \b|\b \b/\b \b-\b \b\\\b \b|\b \b/\b \b-\b \b\\\b \b|\b \b/\b \b-\b \b\\\b \b|\b \b/\b \b-\b \b\\\b \b|\b \b/\b \b-\b \b\\\b \b|\b \b/\b \b-\b \b\\\b \b|\b \b/\b \b-\b \b\\\b \b|\b \b/\b \b-\b \b\\\b \b|\b \b/\b \b-\b \b\\\b \b|\b \b/\b \b-\b \b\\\b \b|\b \b/\b \b-\b \b\\\b \b|\b \b/\b \b-\b \b\\\b \bdone\r\n",
      "\u001b[?25h  Created wheel for pyspark: filename=pyspark-3.3.0-py2.py3-none-any.whl size=281764026 sha256=011c6f875556facb31e4d52615c38fe5525465ed2b8080b50937ede9ddb2cc4d\r\n",
      "  Stored in directory: /root/.cache/pip/wheels/7a/8e/1b/f73a52650d2e5f337708d9f6a1750d451a7349a867f928b885\r\n",
      "Successfully built pyspark\r\n",
      "Installing collected packages: pyspark\r\n",
      "Successfully installed pyspark-3.3.0\r\n",
      "\u001b[33mWARNING: Running pip as the 'root' user can result in broken permissions and conflicting behaviour with the system package manager. It is recommended to use a virtual environment instead: https://pip.pypa.io/warnings/venv\u001b[0m\u001b[33m\r\n",
      "\u001b[0m"
     ]
    }
   ],
   "source": [
    "!pip install pyspark"
   ]
  },
  {
   "cell_type": "code",
   "execution_count": 2,
   "id": "ac550e85",
   "metadata": {
    "execution": {
     "iopub.execute_input": "2022-08-08T13:41:02.751819Z",
     "iopub.status.busy": "2022-08-08T13:41:02.751361Z",
     "iopub.status.idle": "2022-08-08T13:41:02.822372Z",
     "shell.execute_reply": "2022-08-08T13:41:02.821425Z"
    },
    "papermill": {
     "duration": 0.116195,
     "end_time": "2022-08-08T13:41:02.825048",
     "exception": false,
     "start_time": "2022-08-08T13:41:02.708853",
     "status": "completed"
    },
    "tags": []
   },
   "outputs": [],
   "source": [
    "import pandas as pd\n",
    "from pyspark.sql import SparkSession\n",
    "from pyspark import SparkContext, SparkConf"
   ]
  },
  {
   "cell_type": "code",
   "execution_count": 3,
   "id": "9e7d6ba8",
   "metadata": {
    "execution": {
     "iopub.execute_input": "2022-08-08T13:41:02.909280Z",
     "iopub.status.busy": "2022-08-08T13:41:02.908821Z",
     "iopub.status.idle": "2022-08-08T13:41:09.946042Z",
     "shell.execute_reply": "2022-08-08T13:41:09.944545Z"
    },
    "papermill": {
     "duration": 7.084192,
     "end_time": "2022-08-08T13:41:09.950513",
     "exception": false,
     "start_time": "2022-08-08T13:41:02.866321",
     "status": "completed"
    },
    "tags": []
   },
   "outputs": [
    {
     "name": "stderr",
     "output_type": "stream",
     "text": [
      "Setting default log level to \"WARN\".\n",
      "To adjust logging level use sc.setLogLevel(newLevel). For SparkR, use setLogLevel(newLevel).\n"
     ]
    },
    {
     "name": "stdout",
     "output_type": "stream",
     "text": [
      "22/08/08 13:41:06 WARN NativeCodeLoader: Unable to load native-hadoop library for your platform... using builtin-java classes where applicable\n",
      "22/08/08 13:41:09 WARN SQLConf: The SQL config 'spark.sql.execution.arrow.enabled' has been deprecated in Spark v3.0 and may be removed in the future. Use 'spark.sql.execution.arrow.pyspark.enabled' instead of it.\n"
     ]
    }
   ],
   "source": [
    "sc = SparkContext(conf=SparkConf().setMaster('local[8]'))\n",
    "spark = SparkSession.builder.getOrCreate()\n",
    "spark.conf.set(\"spark.sql.execution.arrow.enabled\", \"true\")"
   ]
  },
  {
   "cell_type": "code",
   "execution_count": 4,
   "id": "bea727cb",
   "metadata": {
    "execution": {
     "iopub.execute_input": "2022-08-08T13:41:10.040450Z",
     "iopub.status.busy": "2022-08-08T13:41:10.039919Z",
     "iopub.status.idle": "2022-08-08T13:41:15.500166Z",
     "shell.execute_reply": "2022-08-08T13:41:15.499077Z"
    },
    "papermill": {
     "duration": 5.507394,
     "end_time": "2022-08-08T13:41:15.503823",
     "exception": false,
     "start_time": "2022-08-08T13:41:09.996429",
     "status": "completed"
    },
    "scrolled": true,
    "tags": []
   },
   "outputs": [],
   "source": [
    "# df = pd.read_csv('../input/yago-full-clean/yago_full_clean.txt',sep = ' ', header=None) \n",
    "df1 = spark.read.csv(\"../input/small-dataset/small_input.txt\", sep = ' ', header=None)"
   ]
  },
  {
   "cell_type": "code",
   "execution_count": 5,
   "id": "ca96aa72",
   "metadata": {
    "execution": {
     "iopub.execute_input": "2022-08-08T13:41:15.632218Z",
     "iopub.status.busy": "2022-08-08T13:41:15.631240Z",
     "iopub.status.idle": "2022-08-08T13:41:16.957234Z",
     "shell.execute_reply": "2022-08-08T13:41:16.955371Z"
    },
    "papermill": {
     "duration": 1.392211,
     "end_time": "2022-08-08T13:41:16.959614",
     "exception": false,
     "start_time": "2022-08-08T13:41:15.567403",
     "status": "completed"
    },
    "tags": []
   },
   "outputs": [
    {
     "name": "stderr",
     "output_type": "stream",
     "text": [
      "[Stage 1:>                                                          (0 + 4) / 4]\r"
     ]
    },
    {
     "name": "stdout",
     "output_type": "stream",
     "text": [
      "(300000, 3)\n"
     ]
    },
    {
     "name": "stderr",
     "output_type": "stream",
     "text": [
      "                                                                                \r"
     ]
    }
   ],
   "source": [
    "print((df1.count(), len(df1.columns)))"
   ]
  },
  {
   "cell_type": "code",
   "execution_count": 6,
   "id": "65acf256",
   "metadata": {
    "execution": {
     "iopub.execute_input": "2022-08-08T13:41:17.045170Z",
     "iopub.status.busy": "2022-08-08T13:41:17.043947Z",
     "iopub.status.idle": "2022-08-08T13:41:17.251889Z",
     "shell.execute_reply": "2022-08-08T13:41:17.250720Z"
    },
    "papermill": {
     "duration": 0.254517,
     "end_time": "2022-08-08T13:41:17.255260",
     "exception": false,
     "start_time": "2022-08-08T13:41:17.000743",
     "status": "completed"
    },
    "tags": []
   },
   "outputs": [
    {
     "name": "stdout",
     "output_type": "stream",
     "text": [
      "+--------------------+------------+--------------------+\n",
      "|                 _c0|         _c1|                 _c2|\n",
      "+--------------------+------------+--------------------+\n",
      "|<Jesús_Rivera_Sán...|<isLeaderOf>|<Pueblo_of_Naranj...|\n",
      "|      <Elizabeth_II>|<isLeaderOf>|<Royal_Numismatic...|\n",
      "|  <Richard_Stallman>|<isLeaderOf>|<Free_Software_Fo...|\n",
      "|    <Keith_Peterson>|<isLeaderOf>|     <Cambridge_Bay>|\n",
      "|<William_H._Sewar...|<isLeaderOf>|<9th_New_York_Hea...|\n",
      "|          <Andranik>|<isLeaderOf>|   <Armenian_fedayi>|\n",
      "|<Ramasamy_Palanis...|<isLeaderOf>|<Democratic_Actio...|\n",
      "|        <Matt_Bevin>|<isLeaderOf>|<Kentucky_Air_Nat...|\n",
      "|       <Leonard_Leo>|<isLeaderOf>|<Federalist_Society>|\n",
      "|<James_Vincent_Cl...|<isLeaderOf>|<Bennington,_New_...|\n",
      "|      <Amjad_Bashir>|<isLeaderOf>|  <Khushab_District>|\n",
      "|<Tushar_Amarsinh_...|<isLeaderOf>|     <Mota,_Gujarat>|\n",
      "|  <Yiannis_Boutaris>|<isLeaderOf>|      <Thessaloniki>|\n",
      "|<Margaret_Chew_Ba...|<isLeaderOf>|  <American_INSIGHT>|\n",
      "|     <Oscar_Braynon>|<isLeaderOf>|        <Allapattah>|\n",
      "|<Margrethe_II_of_...|<isLeaderOf>|         <Greenland>|\n",
      "|<Fernando_Álvarez...|<isLeaderOf>|  <Army_of_Flanders>|\n",
      "|          <Om_Birla>|<isLeaderOf>|   <Kota,_Rajasthan>|\n",
      "| <Shamsuzzaman_Khan>|<isLeaderOf>|    <Bangla_Academy>|\n",
      "|     <Perry_Trimper>|<isLeaderOf>|  <North_West_River>|\n",
      "+--------------------+------------+--------------------+\n",
      "only showing top 20 rows\n",
      "\n"
     ]
    }
   ],
   "source": [
    "df1.show()"
   ]
  },
  {
   "cell_type": "code",
   "execution_count": 7,
   "id": "5cee0b5a",
   "metadata": {
    "execution": {
     "iopub.execute_input": "2022-08-08T13:41:17.342809Z",
     "iopub.status.busy": "2022-08-08T13:41:17.341603Z",
     "iopub.status.idle": "2022-08-08T13:41:17.346918Z",
     "shell.execute_reply": "2022-08-08T13:41:17.345877Z"
    },
    "papermill": {
     "duration": 0.050973,
     "end_time": "2022-08-08T13:41:17.348934",
     "exception": false,
     "start_time": "2022-08-08T13:41:17.297961",
     "status": "completed"
    },
    "tags": []
   },
   "outputs": [],
   "source": [
    "# df = df1.sample(False, 0.01)\n",
    "df = df1"
   ]
  },
  {
   "cell_type": "code",
   "execution_count": 8,
   "id": "065945db",
   "metadata": {
    "execution": {
     "iopub.execute_input": "2022-08-08T13:41:17.435427Z",
     "iopub.status.busy": "2022-08-08T13:41:17.434877Z",
     "iopub.status.idle": "2022-08-08T13:41:18.022151Z",
     "shell.execute_reply": "2022-08-08T13:41:18.021042Z"
    },
    "papermill": {
     "duration": 0.634537,
     "end_time": "2022-08-08T13:41:18.025632",
     "exception": false,
     "start_time": "2022-08-08T13:41:17.391095",
     "status": "completed"
    },
    "tags": []
   },
   "outputs": [
    {
     "name": "stdout",
     "output_type": "stream",
     "text": [
      "(300000, 3)\n"
     ]
    }
   ],
   "source": [
    "print((df.count(), len(df.columns)))"
   ]
  },
  {
   "cell_type": "code",
   "execution_count": 9,
   "id": "81071e7d",
   "metadata": {
    "execution": {
     "iopub.execute_input": "2022-08-08T13:41:18.122581Z",
     "iopub.status.busy": "2022-08-08T13:41:18.121562Z",
     "iopub.status.idle": "2022-08-08T13:41:18.292068Z",
     "shell.execute_reply": "2022-08-08T13:41:18.291023Z"
    },
    "papermill": {
     "duration": 0.224778,
     "end_time": "2022-08-08T13:41:18.294466",
     "exception": false,
     "start_time": "2022-08-08T13:41:18.069688",
     "status": "completed"
    },
    "tags": []
   },
   "outputs": [
    {
     "name": "stdout",
     "output_type": "stream",
     "text": [
      "+--------------------+------------+--------------------+\n",
      "|                 _c0|         _c1|                 _c2|\n",
      "+--------------------+------------+--------------------+\n",
      "|<Jesús_Rivera_Sán...|<isLeaderOf>|<Pueblo_of_Naranj...|\n",
      "|      <Elizabeth_II>|<isLeaderOf>|<Royal_Numismatic...|\n",
      "|  <Richard_Stallman>|<isLeaderOf>|<Free_Software_Fo...|\n",
      "|    <Keith_Peterson>|<isLeaderOf>|     <Cambridge_Bay>|\n",
      "|<William_H._Sewar...|<isLeaderOf>|<9th_New_York_Hea...|\n",
      "|          <Andranik>|<isLeaderOf>|   <Armenian_fedayi>|\n",
      "|<Ramasamy_Palanis...|<isLeaderOf>|<Democratic_Actio...|\n",
      "|        <Matt_Bevin>|<isLeaderOf>|<Kentucky_Air_Nat...|\n",
      "|       <Leonard_Leo>|<isLeaderOf>|<Federalist_Society>|\n",
      "|<James_Vincent_Cl...|<isLeaderOf>|<Bennington,_New_...|\n",
      "|      <Amjad_Bashir>|<isLeaderOf>|  <Khushab_District>|\n",
      "|<Tushar_Amarsinh_...|<isLeaderOf>|     <Mota,_Gujarat>|\n",
      "|  <Yiannis_Boutaris>|<isLeaderOf>|      <Thessaloniki>|\n",
      "|<Margaret_Chew_Ba...|<isLeaderOf>|  <American_INSIGHT>|\n",
      "|     <Oscar_Braynon>|<isLeaderOf>|        <Allapattah>|\n",
      "|<Margrethe_II_of_...|<isLeaderOf>|         <Greenland>|\n",
      "|<Fernando_Álvarez...|<isLeaderOf>|  <Army_of_Flanders>|\n",
      "|          <Om_Birla>|<isLeaderOf>|   <Kota,_Rajasthan>|\n",
      "| <Shamsuzzaman_Khan>|<isLeaderOf>|    <Bangla_Academy>|\n",
      "|     <Perry_Trimper>|<isLeaderOf>|  <North_West_River>|\n",
      "+--------------------+------------+--------------------+\n",
      "only showing top 20 rows\n",
      "\n"
     ]
    }
   ],
   "source": [
    "df.show()"
   ]
  },
  {
   "cell_type": "code",
   "execution_count": 10,
   "id": "cdc7f2dd",
   "metadata": {
    "execution": {
     "iopub.execute_input": "2022-08-08T13:41:18.381069Z",
     "iopub.status.busy": "2022-08-08T13:41:18.380387Z",
     "iopub.status.idle": "2022-08-08T13:41:18.408629Z",
     "shell.execute_reply": "2022-08-08T13:41:18.407488Z"
    },
    "papermill": {
     "duration": 0.074415,
     "end_time": "2022-08-08T13:41:18.411706",
     "exception": false,
     "start_time": "2022-08-08T13:41:18.337291",
     "status": "completed"
    },
    "tags": []
   },
   "outputs": [],
   "source": [
    "df = df.withColumnRenamed(\"_c0\",\"entity1\")\n",
    "df = df.withColumnRenamed(\"_c1\",\"relation\")\n",
    "df = df.withColumnRenamed(\"_c2\",\"entity2\")"
   ]
  },
  {
   "cell_type": "code",
   "execution_count": 11,
   "id": "8c0061bc",
   "metadata": {
    "execution": {
     "iopub.execute_input": "2022-08-08T13:41:18.502214Z",
     "iopub.status.busy": "2022-08-08T13:41:18.501620Z",
     "iopub.status.idle": "2022-08-08T13:41:18.704825Z",
     "shell.execute_reply": "2022-08-08T13:41:18.703798Z"
    },
    "papermill": {
     "duration": 0.250147,
     "end_time": "2022-08-08T13:41:18.708828",
     "exception": false,
     "start_time": "2022-08-08T13:41:18.458681",
     "status": "completed"
    },
    "tags": []
   },
   "outputs": [
    {
     "name": "stdout",
     "output_type": "stream",
     "text": [
      "+--------------------+------------+--------------------+\n",
      "|             entity1|    relation|             entity2|\n",
      "+--------------------+------------+--------------------+\n",
      "|<Jesús_Rivera_Sán...|<isLeaderOf>|<Pueblo_of_Naranj...|\n",
      "|      <Elizabeth_II>|<isLeaderOf>|<Royal_Numismatic...|\n",
      "|  <Richard_Stallman>|<isLeaderOf>|<Free_Software_Fo...|\n",
      "|    <Keith_Peterson>|<isLeaderOf>|     <Cambridge_Bay>|\n",
      "|<William_H._Sewar...|<isLeaderOf>|<9th_New_York_Hea...|\n",
      "|          <Andranik>|<isLeaderOf>|   <Armenian_fedayi>|\n",
      "|<Ramasamy_Palanis...|<isLeaderOf>|<Democratic_Actio...|\n",
      "|        <Matt_Bevin>|<isLeaderOf>|<Kentucky_Air_Nat...|\n",
      "|       <Leonard_Leo>|<isLeaderOf>|<Federalist_Society>|\n",
      "|<James_Vincent_Cl...|<isLeaderOf>|<Bennington,_New_...|\n",
      "|      <Amjad_Bashir>|<isLeaderOf>|  <Khushab_District>|\n",
      "|<Tushar_Amarsinh_...|<isLeaderOf>|     <Mota,_Gujarat>|\n",
      "|  <Yiannis_Boutaris>|<isLeaderOf>|      <Thessaloniki>|\n",
      "|<Margaret_Chew_Ba...|<isLeaderOf>|  <American_INSIGHT>|\n",
      "|     <Oscar_Braynon>|<isLeaderOf>|        <Allapattah>|\n",
      "|<Margrethe_II_of_...|<isLeaderOf>|         <Greenland>|\n",
      "|<Fernando_Álvarez...|<isLeaderOf>|  <Army_of_Flanders>|\n",
      "|          <Om_Birla>|<isLeaderOf>|   <Kota,_Rajasthan>|\n",
      "| <Shamsuzzaman_Khan>|<isLeaderOf>|    <Bangla_Academy>|\n",
      "|     <Perry_Trimper>|<isLeaderOf>|  <North_West_River>|\n",
      "+--------------------+------------+--------------------+\n",
      "only showing top 20 rows\n",
      "\n"
     ]
    }
   ],
   "source": [
    "df.show()"
   ]
  },
  {
   "cell_type": "code",
   "execution_count": 12,
   "id": "7dae96e8",
   "metadata": {
    "execution": {
     "iopub.execute_input": "2022-08-08T13:41:18.796626Z",
     "iopub.status.busy": "2022-08-08T13:41:18.796178Z",
     "iopub.status.idle": "2022-08-08T13:41:18.800825Z",
     "shell.execute_reply": "2022-08-08T13:41:18.799821Z"
    },
    "papermill": {
     "duration": 0.051077,
     "end_time": "2022-08-08T13:41:18.803163",
     "exception": false,
     "start_time": "2022-08-08T13:41:18.752086",
     "status": "completed"
    },
    "tags": []
   },
   "outputs": [],
   "source": [
    "t1 = df\n",
    "t2 = df"
   ]
  },
  {
   "cell_type": "code",
   "execution_count": 13,
   "id": "743150c3",
   "metadata": {
    "execution": {
     "iopub.execute_input": "2022-08-08T13:41:18.891628Z",
     "iopub.status.busy": "2022-08-08T13:41:18.890841Z",
     "iopub.status.idle": "2022-08-08T13:41:18.898689Z",
     "shell.execute_reply": "2022-08-08T13:41:18.897660Z"
    },
    "papermill": {
     "duration": 0.054962,
     "end_time": "2022-08-08T13:41:18.901749",
     "exception": false,
     "start_time": "2022-08-08T13:41:18.846787",
     "status": "completed"
    },
    "tags": []
   },
   "outputs": [
    {
     "name": "stdout",
     "output_type": "stream",
     "text": [
      "root\n",
      " |-- entity1: string (nullable = true)\n",
      " |-- relation: string (nullable = true)\n",
      " |-- entity2: string (nullable = true)\n",
      "\n"
     ]
    }
   ],
   "source": [
    "t2.printSchema()"
   ]
  },
  {
   "cell_type": "code",
   "execution_count": 14,
   "id": "c3d423e1",
   "metadata": {
    "execution": {
     "iopub.execute_input": "2022-08-08T13:41:18.990128Z",
     "iopub.status.busy": "2022-08-08T13:41:18.989240Z",
     "iopub.status.idle": "2022-08-08T13:41:19.038627Z",
     "shell.execute_reply": "2022-08-08T13:41:19.037783Z"
    },
    "papermill": {
     "duration": 0.097036,
     "end_time": "2022-08-08T13:41:19.041918",
     "exception": false,
     "start_time": "2022-08-08T13:41:18.944882",
     "status": "completed"
    },
    "tags": []
   },
   "outputs": [],
   "source": [
    "t_2 = t2.selectExpr(\"entity1 as entity3\", \"relation as relation2\", \"entity2 as entity4\")"
   ]
  },
  {
   "cell_type": "code",
   "execution_count": 15,
   "id": "6015db58",
   "metadata": {
    "execution": {
     "iopub.execute_input": "2022-08-08T13:41:19.174138Z",
     "iopub.status.busy": "2022-08-08T13:41:19.173570Z",
     "iopub.status.idle": "2022-08-08T13:41:19.341553Z",
     "shell.execute_reply": "2022-08-08T13:41:19.340503Z"
    },
    "papermill": {
     "duration": 0.23543,
     "end_time": "2022-08-08T13:41:19.345179",
     "exception": false,
     "start_time": "2022-08-08T13:41:19.109749",
     "status": "completed"
    },
    "tags": []
   },
   "outputs": [
    {
     "name": "stdout",
     "output_type": "stream",
     "text": [
      "+--------------------+------------+--------------------+\n",
      "|             entity3|   relation2|             entity4|\n",
      "+--------------------+------------+--------------------+\n",
      "|<Jesús_Rivera_Sán...|<isLeaderOf>|<Pueblo_of_Naranj...|\n",
      "|      <Elizabeth_II>|<isLeaderOf>|<Royal_Numismatic...|\n",
      "|  <Richard_Stallman>|<isLeaderOf>|<Free_Software_Fo...|\n",
      "|    <Keith_Peterson>|<isLeaderOf>|     <Cambridge_Bay>|\n",
      "|<William_H._Sewar...|<isLeaderOf>|<9th_New_York_Hea...|\n",
      "|          <Andranik>|<isLeaderOf>|   <Armenian_fedayi>|\n",
      "|<Ramasamy_Palanis...|<isLeaderOf>|<Democratic_Actio...|\n",
      "|        <Matt_Bevin>|<isLeaderOf>|<Kentucky_Air_Nat...|\n",
      "|       <Leonard_Leo>|<isLeaderOf>|<Federalist_Society>|\n",
      "|<James_Vincent_Cl...|<isLeaderOf>|<Bennington,_New_...|\n",
      "|      <Amjad_Bashir>|<isLeaderOf>|  <Khushab_District>|\n",
      "|<Tushar_Amarsinh_...|<isLeaderOf>|     <Mota,_Gujarat>|\n",
      "|  <Yiannis_Boutaris>|<isLeaderOf>|      <Thessaloniki>|\n",
      "|<Margaret_Chew_Ba...|<isLeaderOf>|  <American_INSIGHT>|\n",
      "|     <Oscar_Braynon>|<isLeaderOf>|        <Allapattah>|\n",
      "|<Margrethe_II_of_...|<isLeaderOf>|         <Greenland>|\n",
      "|<Fernando_Álvarez...|<isLeaderOf>|  <Army_of_Flanders>|\n",
      "|          <Om_Birla>|<isLeaderOf>|   <Kota,_Rajasthan>|\n",
      "| <Shamsuzzaman_Khan>|<isLeaderOf>|    <Bangla_Academy>|\n",
      "|     <Perry_Trimper>|<isLeaderOf>|  <North_West_River>|\n",
      "+--------------------+------------+--------------------+\n",
      "only showing top 20 rows\n",
      "\n"
     ]
    }
   ],
   "source": [
    "t_2.show()"
   ]
  },
  {
   "cell_type": "code",
   "execution_count": 16,
   "id": "dc1928db",
   "metadata": {
    "execution": {
     "iopub.execute_input": "2022-08-08T13:41:19.471317Z",
     "iopub.status.busy": "2022-08-08T13:41:19.470105Z",
     "iopub.status.idle": "2022-08-08T13:41:19.532952Z",
     "shell.execute_reply": "2022-08-08T13:41:19.531854Z"
    },
    "papermill": {
     "duration": 0.129858,
     "end_time": "2022-08-08T13:41:19.536545",
     "exception": false,
     "start_time": "2022-08-08T13:41:19.406687",
     "status": "completed"
    },
    "tags": []
   },
   "outputs": [],
   "source": [
    "df_join = t1.join(t_2, t1['entity2']==t_2['entity3'])"
   ]
  },
  {
   "cell_type": "code",
   "execution_count": 17,
   "id": "7f24b8e2",
   "metadata": {
    "execution": {
     "iopub.execute_input": "2022-08-08T13:41:19.623423Z",
     "iopub.status.busy": "2022-08-08T13:41:19.623005Z",
     "iopub.status.idle": "2022-08-08T13:41:23.353735Z",
     "shell.execute_reply": "2022-08-08T13:41:23.352761Z"
    },
    "papermill": {
     "duration": 3.779769,
     "end_time": "2022-08-08T13:41:23.359863",
     "exception": false,
     "start_time": "2022-08-08T13:41:19.580094",
     "status": "completed"
    },
    "tags": []
   },
   "outputs": [
    {
     "name": "stderr",
     "output_type": "stream",
     "text": [
      "[Stage 11:=========>        (2 + 2) / 4][Stage 12:====>             (1 + 3) / 4]\r"
     ]
    },
    {
     "name": "stdout",
     "output_type": "stream",
     "text": [
      "+--------------------+------------+--------------------+--------------------+-------------+--------------------+\n",
      "|             entity1|    relation|             entity2|             entity3|    relation2|             entity4|\n",
      "+--------------------+------------+--------------------+--------------------+-------------+--------------------+\n",
      "|       <ITV_Studios>|      <owns>|       <3SixtyMedia>|       <3SixtyMedia>|       <owns>|   <Granada_Studios>|\n",
      "|      <Talen_Energy>|      <owns>|        <A._J._Ayer>|        <A._J._Ayer>|<isCitizenOf>|           <England>|\n",
      "|      <Talen_Energy>|      <owns>|        <A._J._Ayer>|        <A._J._Ayer>|<isCitizenOf>|       <Switzerland>|\n",
      "|<Mansour_bin_Zaye...|      <owns>|<Abu_Dhabi_United...|<Abu_Dhabi_United...|       <owns>|<City_Football_Gr...|\n",
      "|    <Zaini_Abdullah>|<isLeaderOf>|              <Aceh>|              <Aceh>|       <owns>|<Harapan_Bangsa_S...|\n",
      "|<Advance_Publicat...|      <owns>|   <Advance_Digital>|   <Advance_Digital>|       <owns>|            <NJ.com>|\n",
      "|<Atlantia_(company)>|      <owns>| <Aeroporti_di_Roma>| <Aeroporti_di_Roma>|       <owns>|         <SkyBridge>|\n",
      "|<Camera_di_Commer...|      <owns>| <Aeroporti_di_Roma>| <Aeroporti_di_Roma>|       <owns>|         <SkyBridge>|\n",
      "|<Martín_Orozco_Sa...|<isLeaderOf>|    <Aguascalientes>|    <Aguascalientes>|       <owns>|  <Estadio_Victoria>|\n",
      "|<Margarita_Galleg...|<isLeaderOf>|    <Aguascalientes>|    <Aguascalientes>|       <owns>|  <Estadio_Victoria>|\n",
      "|<Nancy_González_U...|<isLeaderOf>|    <Aguascalientes>|    <Aguascalientes>|       <owns>|  <Estadio_Victoria>|\n",
      "|<David_Hernández_...|<isLeaderOf>|    <Aguascalientes>|    <Aguascalientes>|       <owns>|  <Estadio_Victoria>|\n",
      "|   <Felipe_González>|<isLeaderOf>|    <Aguascalientes>|    <Aguascalientes>|       <owns>|  <Estadio_Victoria>|\n",
      "|     <Çalık_Holding>|      <owns>|        <Albtelecom>|        <Albtelecom>|       <owns>|      <Eagle_Mobile>|\n",
      "|      <Türk_Telekom>|      <owns>|        <Albtelecom>|        <Albtelecom>|       <owns>|      <Eagle_Mobile>|\n",
      "|<Anheuser-Busch_I...|      <owns>|             <AmBev>|             <AmBev>|       <owns>|<Cervecería_Nacio...|\n",
      "|<Anheuser-Busch_I...|      <owns>|             <AmBev>|             <AmBev>|       <owns>|   <Cerveza_Quilmes>|\n",
      "|     <Salomon_Group>|      <owns>|       <Amer_Sports>|       <Amer_Sports>|       <owns>|          <DeMarini>|\n",
      "|     <Salomon_Group>|      <owns>|       <Amer_Sports>|       <Amer_Sports>|       <owns>|             <Mavic>|\n",
      "| <Edward_John_Noble>|      <owns>|<American_Broadca...|<American_Broadca...|       <owns>|<Cumulus_Media_Ne...|\n",
      "+--------------------+------------+--------------------+--------------------+-------------+--------------------+\n",
      "only showing top 20 rows\n",
      "\n"
     ]
    },
    {
     "name": "stderr",
     "output_type": "stream",
     "text": [
      "                                                                                \r"
     ]
    }
   ],
   "source": [
    "df_join.show()"
   ]
  },
  {
   "cell_type": "code",
   "execution_count": 18,
   "id": "1f0a3d60",
   "metadata": {
    "execution": {
     "iopub.execute_input": "2022-08-08T13:41:23.456117Z",
     "iopub.status.busy": "2022-08-08T13:41:23.455653Z",
     "iopub.status.idle": "2022-08-08T13:41:23.469945Z",
     "shell.execute_reply": "2022-08-08T13:41:23.468883Z"
    },
    "papermill": {
     "duration": 0.060692,
     "end_time": "2022-08-08T13:41:23.472358",
     "exception": false,
     "start_time": "2022-08-08T13:41:23.411666",
     "status": "completed"
    },
    "tags": []
   },
   "outputs": [],
   "source": [
    "df_join = df_join.drop(\"entity3\")"
   ]
  },
  {
   "cell_type": "code",
   "execution_count": 19,
   "id": "dcd5888f",
   "metadata": {
    "execution": {
     "iopub.execute_input": "2022-08-08T13:41:23.558929Z",
     "iopub.status.busy": "2022-08-08T13:41:23.558037Z",
     "iopub.status.idle": "2022-08-08T13:41:25.775916Z",
     "shell.execute_reply": "2022-08-08T13:41:25.774925Z"
    },
    "papermill": {
     "duration": 2.267631,
     "end_time": "2022-08-08T13:41:25.782256",
     "exception": false,
     "start_time": "2022-08-08T13:41:23.514625",
     "status": "completed"
    },
    "tags": []
   },
   "outputs": [
    {
     "name": "stderr",
     "output_type": "stream",
     "text": [
      "[Stage 16:=============>    (3 + 1) / 4][Stage 17:====>             (1 + 3) / 4]\r"
     ]
    },
    {
     "name": "stdout",
     "output_type": "stream",
     "text": [
      "+--------------------+------------+--------------------+-------------+--------------------+\n",
      "|             entity1|    relation|             entity2|    relation2|             entity4|\n",
      "+--------------------+------------+--------------------+-------------+--------------------+\n",
      "|       <ITV_Studios>|      <owns>|       <3SixtyMedia>|       <owns>|   <Granada_Studios>|\n",
      "|      <Talen_Energy>|      <owns>|        <A._J._Ayer>|<isCitizenOf>|           <England>|\n",
      "|      <Talen_Energy>|      <owns>|        <A._J._Ayer>|<isCitizenOf>|       <Switzerland>|\n",
      "|<Mansour_bin_Zaye...|      <owns>|<Abu_Dhabi_United...|       <owns>|<City_Football_Gr...|\n",
      "|    <Zaini_Abdullah>|<isLeaderOf>|              <Aceh>|       <owns>|<Harapan_Bangsa_S...|\n",
      "|<Advance_Publicat...|      <owns>|   <Advance_Digital>|       <owns>|            <NJ.com>|\n",
      "|<Atlantia_(company)>|      <owns>| <Aeroporti_di_Roma>|       <owns>|         <SkyBridge>|\n",
      "|<Camera_di_Commer...|      <owns>| <Aeroporti_di_Roma>|       <owns>|         <SkyBridge>|\n",
      "|<Martín_Orozco_Sa...|<isLeaderOf>|    <Aguascalientes>|       <owns>|  <Estadio_Victoria>|\n",
      "|<Margarita_Galleg...|<isLeaderOf>|    <Aguascalientes>|       <owns>|  <Estadio_Victoria>|\n",
      "|<Nancy_González_U...|<isLeaderOf>|    <Aguascalientes>|       <owns>|  <Estadio_Victoria>|\n",
      "|<David_Hernández_...|<isLeaderOf>|    <Aguascalientes>|       <owns>|  <Estadio_Victoria>|\n",
      "|   <Felipe_González>|<isLeaderOf>|    <Aguascalientes>|       <owns>|  <Estadio_Victoria>|\n",
      "|     <Çalık_Holding>|      <owns>|        <Albtelecom>|       <owns>|      <Eagle_Mobile>|\n",
      "|      <Türk_Telekom>|      <owns>|        <Albtelecom>|       <owns>|      <Eagle_Mobile>|\n",
      "|<Anheuser-Busch_I...|      <owns>|             <AmBev>|       <owns>|<Cervecería_Nacio...|\n",
      "|<Anheuser-Busch_I...|      <owns>|             <AmBev>|       <owns>|   <Cerveza_Quilmes>|\n",
      "|     <Salomon_Group>|      <owns>|       <Amer_Sports>|       <owns>|          <DeMarini>|\n",
      "|     <Salomon_Group>|      <owns>|       <Amer_Sports>|       <owns>|             <Mavic>|\n",
      "| <Edward_John_Noble>|      <owns>|<American_Broadca...|       <owns>|<Cumulus_Media_Ne...|\n",
      "+--------------------+------------+--------------------+-------------+--------------------+\n",
      "only showing top 20 rows\n",
      "\n"
     ]
    },
    {
     "name": "stderr",
     "output_type": "stream",
     "text": [
      "                                                                                \r"
     ]
    }
   ],
   "source": [
    "df_join.show()"
   ]
  },
  {
   "cell_type": "code",
   "execution_count": 20,
   "id": "e12760bb",
   "metadata": {
    "execution": {
     "iopub.execute_input": "2022-08-08T13:41:25.912371Z",
     "iopub.status.busy": "2022-08-08T13:41:25.911907Z",
     "iopub.status.idle": "2022-08-08T13:41:25.924544Z",
     "shell.execute_reply": "2022-08-08T13:41:25.923427Z"
    },
    "papermill": {
     "duration": 0.080928,
     "end_time": "2022-08-08T13:41:25.927582",
     "exception": false,
     "start_time": "2022-08-08T13:41:25.846654",
     "status": "completed"
    },
    "tags": []
   },
   "outputs": [
    {
     "data": {
      "text/plain": [
       "[('entity1', 'string'),\n",
       " ('relation', 'string'),\n",
       " ('entity2', 'string'),\n",
       " ('relation2', 'string'),\n",
       " ('entity4', 'string')]"
      ]
     },
     "execution_count": 20,
     "metadata": {},
     "output_type": "execute_result"
    }
   ],
   "source": [
    "# columns = list(df_join1)\n",
    "# print(columns)\n",
    "df_join.dtypes"
   ]
  },
  {
   "cell_type": "code",
   "execution_count": 21,
   "id": "68bee17d",
   "metadata": {
    "execution": {
     "iopub.execute_input": "2022-08-08T13:41:26.017880Z",
     "iopub.status.busy": "2022-08-08T13:41:26.017446Z",
     "iopub.status.idle": "2022-08-08T13:41:26.022836Z",
     "shell.execute_reply": "2022-08-08T13:41:26.022028Z"
    },
    "papermill": {
     "duration": 0.052451,
     "end_time": "2022-08-08T13:41:26.024935",
     "exception": false,
     "start_time": "2022-08-08T13:41:25.972484",
     "status": "completed"
    },
    "tags": []
   },
   "outputs": [],
   "source": [
    "from pyspark.sql.functions import regexp_replace\n",
    "from pyspark.sql.functions import when"
   ]
  },
  {
   "cell_type": "code",
   "execution_count": 22,
   "id": "d87a2f65",
   "metadata": {
    "execution": {
     "iopub.execute_input": "2022-08-08T13:41:26.115787Z",
     "iopub.status.busy": "2022-08-08T13:41:26.115047Z",
     "iopub.status.idle": "2022-08-08T13:41:26.119886Z",
     "shell.execute_reply": "2022-08-08T13:41:26.119120Z"
    },
    "papermill": {
     "duration": 0.052875,
     "end_time": "2022-08-08T13:41:26.121997",
     "exception": false,
     "start_time": "2022-08-08T13:41:26.069122",
     "status": "completed"
    },
    "tags": []
   },
   "outputs": [],
   "source": [
    "# def removes(cols, df_join):\n",
    "#     for col in cols:\n",
    "#         df_join = df_join.withColumn(col, \n",
    "#         when(df_join.col.startswith('<'),regexp_replace(df_join.col,'<',''))\\\n",
    "#        .otherwise(df_join.col)) \\\n",
    "#        .toDF(\"entity1\",\"relation\",\"entity2\", \"relation2\", \"entity4\")\n",
    "\n",
    "#         df_join = df_join.withColumn(col, \n",
    "#         when(df_join.col.endswith('>'),regexp_replace(df_join.col,'>',''))\\\n",
    "#        .otherwise(df_join.col)) \\\n",
    "#        .toDF(\"entity1\",\"relation\",\"entity2\", \"relation2\", \"entity4\")\n",
    "        \n",
    "#     return df_join"
   ]
  },
  {
   "cell_type": "code",
   "execution_count": 23,
   "id": "6bf2039a",
   "metadata": {
    "execution": {
     "iopub.execute_input": "2022-08-08T13:41:26.212184Z",
     "iopub.status.busy": "2022-08-08T13:41:26.211486Z",
     "iopub.status.idle": "2022-08-08T13:41:26.216846Z",
     "shell.execute_reply": "2022-08-08T13:41:26.216140Z"
    },
    "papermill": {
     "duration": 0.05343,
     "end_time": "2022-08-08T13:41:26.219333",
     "exception": false,
     "start_time": "2022-08-08T13:41:26.165903",
     "status": "completed"
    },
    "tags": []
   },
   "outputs": [],
   "source": [
    "# cols = [\"entity1\",\"relation\",\"entity2\", \"relation2\", \"entity4\"]\n",
    "# df_join = removes(cols, df_join)"
   ]
  },
  {
   "cell_type": "code",
   "execution_count": 24,
   "id": "79aba67c",
   "metadata": {
    "execution": {
     "iopub.execute_input": "2022-08-08T13:41:26.307085Z",
     "iopub.status.busy": "2022-08-08T13:41:26.306236Z",
     "iopub.status.idle": "2022-08-08T13:41:26.395942Z",
     "shell.execute_reply": "2022-08-08T13:41:26.395204Z"
    },
    "papermill": {
     "duration": 0.13632,
     "end_time": "2022-08-08T13:41:26.398247",
     "exception": false,
     "start_time": "2022-08-08T13:41:26.261927",
     "status": "completed"
    },
    "tags": []
   },
   "outputs": [],
   "source": [
    "df_join = df_join.withColumn('entity1', \n",
    "    when(df_join.entity1.startswith('<'),regexp_replace(df_join.entity1,'<',''))\\\n",
    "   .otherwise(df_join.entity1)) \\\n",
    "   .toDF(\"entity1\",\"relation\",\"entity2\", \"relation2\", \"entity4\")\n",
    "\n",
    "df_join = df_join.withColumn('entity1', \n",
    "    when(df_join.entity1.endswith('>'),regexp_replace(df_join.entity1,'>',''))\\\n",
    "   .otherwise(df_join.entity1)) \\\n",
    "   .toDF(\"entity1\",\"relation\",\"entity2\", \"relation2\", \"entity4\")"
   ]
  },
  {
   "cell_type": "code",
   "execution_count": 25,
   "id": "209ded36",
   "metadata": {
    "execution": {
     "iopub.execute_input": "2022-08-08T13:41:26.485142Z",
     "iopub.status.busy": "2022-08-08T13:41:26.484721Z",
     "iopub.status.idle": "2022-08-08T13:41:26.550497Z",
     "shell.execute_reply": "2022-08-08T13:41:26.549393Z"
    },
    "papermill": {
     "duration": 0.111977,
     "end_time": "2022-08-08T13:41:26.552897",
     "exception": false,
     "start_time": "2022-08-08T13:41:26.440920",
     "status": "completed"
    },
    "tags": []
   },
   "outputs": [],
   "source": [
    "df_join = df_join.withColumn('entity2', \n",
    "    when(df_join.entity2.startswith('<'),regexp_replace(df_join.entity2,'<',''))\\\n",
    "   .otherwise(df_join.entity2)) \\\n",
    "   .toDF(\"entity1\",\"relation\",\"entity2\", \"relation2\", \"entity4\")\n",
    "\n",
    "df_join = df_join.withColumn('entity2', \n",
    "    when(df_join.entity2.endswith('>'),regexp_replace(df_join.entity2,'>',''))\\\n",
    "   .otherwise(df_join.entity2)) \\\n",
    "   .toDF(\"entity1\",\"relation\",\"entity2\", \"relation2\", \"entity4\")"
   ]
  },
  {
   "cell_type": "code",
   "execution_count": 26,
   "id": "3d290806",
   "metadata": {
    "execution": {
     "iopub.execute_input": "2022-08-08T13:41:26.642347Z",
     "iopub.status.busy": "2022-08-08T13:41:26.641767Z",
     "iopub.status.idle": "2022-08-08T13:41:26.708048Z",
     "shell.execute_reply": "2022-08-08T13:41:26.706840Z"
    },
    "papermill": {
     "duration": 0.115179,
     "end_time": "2022-08-08T13:41:26.711096",
     "exception": false,
     "start_time": "2022-08-08T13:41:26.595917",
     "status": "completed"
    },
    "tags": []
   },
   "outputs": [],
   "source": [
    "df_join = df_join.withColumn('relation', \n",
    "    when(df_join.relation.startswith('<'),regexp_replace(df_join.relation,'<',''))\\\n",
    "   .otherwise(df_join.relation)) \\\n",
    "   .toDF(\"entity1\",\"relation\",\"entity2\", \"relation2\", \"entity4\")\n",
    "\n",
    "df_join = df_join.withColumn('relation', \n",
    "    when(df_join.relation.endswith('>'),regexp_replace(df_join.relation,'>',''))\\\n",
    "   .otherwise(df_join.relation)) \\\n",
    "   .toDF(\"entity1\",\"relation\",\"entity2\", \"relation2\", \"entity4\")"
   ]
  },
  {
   "cell_type": "code",
   "execution_count": 27,
   "id": "0d0f4941",
   "metadata": {
    "execution": {
     "iopub.execute_input": "2022-08-08T13:41:26.813927Z",
     "iopub.status.busy": "2022-08-08T13:41:26.813535Z",
     "iopub.status.idle": "2022-08-08T13:41:26.884768Z",
     "shell.execute_reply": "2022-08-08T13:41:26.883520Z"
    },
    "papermill": {
     "duration": 0.118919,
     "end_time": "2022-08-08T13:41:26.887596",
     "exception": false,
     "start_time": "2022-08-08T13:41:26.768677",
     "status": "completed"
    },
    "tags": []
   },
   "outputs": [],
   "source": [
    "df_join = df_join.withColumn('relation2', \n",
    "    when(df_join.relation2.startswith('<'),regexp_replace(df_join.relation2,'<',''))\\\n",
    "   .otherwise(df_join.relation2)) \\\n",
    "   .toDF(\"entity1\",\"relation\",\"entity2\", \"relation2\", \"entity4\")\n",
    "\n",
    "df_join = df_join.withColumn('relation2', \n",
    "    when(df_join.relation2.endswith('>'),regexp_replace(df_join.relation2,'>',''))\\\n",
    "   .otherwise(df_join.relation2)) \\\n",
    "   .toDF(\"entity1\",\"relation\",\"entity2\", \"relation2\", \"entity4\")"
   ]
  },
  {
   "cell_type": "code",
   "execution_count": 28,
   "id": "8edb0dd1",
   "metadata": {
    "execution": {
     "iopub.execute_input": "2022-08-08T13:41:26.976669Z",
     "iopub.status.busy": "2022-08-08T13:41:26.976219Z",
     "iopub.status.idle": "2022-08-08T13:41:27.044749Z",
     "shell.execute_reply": "2022-08-08T13:41:27.043610Z"
    },
    "papermill": {
     "duration": 0.116015,
     "end_time": "2022-08-08T13:41:27.047488",
     "exception": false,
     "start_time": "2022-08-08T13:41:26.931473",
     "status": "completed"
    },
    "tags": []
   },
   "outputs": [],
   "source": [
    "df_join = df_join.withColumn('entity4', \n",
    "    when(df_join.entity4.startswith('<'),regexp_replace(df_join.entity4,'<',''))\\\n",
    "   .otherwise(df_join.entity4)) \\\n",
    "   .toDF(\"entity1\",\"relation\",\"entity2\", \"relation2\", \"entity4\")\n",
    "\n",
    "df_join = df_join.withColumn('entity4', \n",
    "    when(df_join.entity4.endswith('>'),regexp_replace(df_join.entity4,'>',''))\\\n",
    "   .otherwise(df_join.entity4)) \\\n",
    "   .toDF(\"entity1\",\"relation\",\"entity2\", \"relation2\", \"entity4\")"
   ]
  },
  {
   "cell_type": "code",
   "execution_count": 29,
   "id": "0369bf70",
   "metadata": {
    "execution": {
     "iopub.execute_input": "2022-08-08T13:41:27.143189Z",
     "iopub.status.busy": "2022-08-08T13:41:27.142726Z",
     "iopub.status.idle": "2022-08-08T13:41:29.458503Z",
     "shell.execute_reply": "2022-08-08T13:41:29.457498Z"
    },
    "papermill": {
     "duration": 2.363288,
     "end_time": "2022-08-08T13:41:29.461423",
     "exception": false,
     "start_time": "2022-08-08T13:41:27.098135",
     "status": "completed"
    },
    "tags": []
   },
   "outputs": [
    {
     "name": "stderr",
     "output_type": "stream",
     "text": [
      "                                                                                \r"
     ]
    },
    {
     "name": "stdout",
     "output_type": "stream",
     "text": [
      "(3296930, 5)\n"
     ]
    }
   ],
   "source": [
    "print((df_join.count(), len(df_join.columns)))"
   ]
  },
  {
   "cell_type": "code",
   "execution_count": 30,
   "id": "fc204e15",
   "metadata": {
    "execution": {
     "iopub.execute_input": "2022-08-08T13:41:29.589152Z",
     "iopub.status.busy": "2022-08-08T13:41:29.588708Z",
     "iopub.status.idle": "2022-08-08T13:41:31.784705Z",
     "shell.execute_reply": "2022-08-08T13:41:31.783045Z"
    },
    "papermill": {
     "duration": 2.261122,
     "end_time": "2022-08-08T13:41:31.788474",
     "exception": false,
     "start_time": "2022-08-08T13:41:29.527352",
     "status": "completed"
    },
    "tags": []
   },
   "outputs": [
    {
     "name": "stderr",
     "output_type": "stream",
     "text": [
      "[Stage 25:====>             (1 + 3) / 4][Stage 26:====>             (1 + 3) / 4]\r"
     ]
    },
    {
     "name": "stdout",
     "output_type": "stream",
     "text": [
      "+--------------------+----------+--------------------+-----------+--------------------+\n",
      "|             entity1|  relation|             entity2|  relation2|             entity4|\n",
      "+--------------------+----------+--------------------+-----------+--------------------+\n",
      "|         ITV_Studios|      owns|         3SixtyMedia|       owns|     Granada_Studios|\n",
      "|        Talen_Energy|      owns|          A._J._Ayer|isCitizenOf|             England|\n",
      "|        Talen_Energy|      owns|          A._J._Ayer|isCitizenOf|         Switzerland|\n",
      "|Mansour_bin_Zayed...|      owns|Abu_Dhabi_United_...|       owns| City_Football_Group|\n",
      "|      Zaini_Abdullah|isLeaderOf|                Aceh|       owns|Harapan_Bangsa_St...|\n",
      "|Advance_Publications|      owns|     Advance_Digital|       owns|              NJ.com|\n",
      "|  Atlantia_(company)|      owns|   Aeroporti_di_Roma|       owns|           SkyBridge|\n",
      "|Camera_di_Commerc...|      owns|   Aeroporti_di_Roma|       owns|           SkyBridge|\n",
      "|Martín_Orozco_San...|isLeaderOf|      Aguascalientes|       owns|    Estadio_Victoria|\n",
      "|Margarita_Gallego...|isLeaderOf|      Aguascalientes|       owns|    Estadio_Victoria|\n",
      "|Nancy_González_Ulloa|isLeaderOf|      Aguascalientes|       owns|    Estadio_Victoria|\n",
      "|David_Hernández_V...|isLeaderOf|      Aguascalientes|       owns|    Estadio_Victoria|\n",
      "|     Felipe_González|isLeaderOf|      Aguascalientes|       owns|    Estadio_Victoria|\n",
      "|       Çalık_Holding|      owns|          Albtelecom|       owns|        Eagle_Mobile|\n",
      "|        Türk_Telekom|      owns|          Albtelecom|       owns|        Eagle_Mobile|\n",
      "|Anheuser-Busch_InBev|      owns|               AmBev|       owns|Cervecería_Nacion...|\n",
      "|Anheuser-Busch_InBev|      owns|               AmBev|       owns|     Cerveza_Quilmes|\n",
      "|       Salomon_Group|      owns|         Amer_Sports|       owns|            DeMarini|\n",
      "|       Salomon_Group|      owns|         Amer_Sports|       owns|               Mavic|\n",
      "|   Edward_John_Noble|      owns|American_Broadcas...|       owns|Cumulus_Media_Net...|\n",
      "+--------------------+----------+--------------------+-----------+--------------------+\n",
      "only showing top 20 rows\n",
      "\n"
     ]
    },
    {
     "name": "stderr",
     "output_type": "stream",
     "text": [
      "                                                                                \r"
     ]
    }
   ],
   "source": [
    "df_join.show()"
   ]
  },
  {
   "cell_type": "code",
   "execution_count": 31,
   "id": "5ffbbe27",
   "metadata": {
    "execution": {
     "iopub.execute_input": "2022-08-08T13:41:31.901511Z",
     "iopub.status.busy": "2022-08-08T13:41:31.900952Z",
     "iopub.status.idle": "2022-08-08T13:41:31.960148Z",
     "shell.execute_reply": "2022-08-08T13:41:31.959289Z"
    },
    "papermill": {
     "duration": 0.10669,
     "end_time": "2022-08-08T13:41:31.962929",
     "exception": false,
     "start_time": "2022-08-08T13:41:31.856239",
     "status": "completed"
    },
    "tags": []
   },
   "outputs": [],
   "source": [
    "import pyspark.sql.functions as f\n",
    "\n",
    "columns = [f.col(\"entity1\"), f.col(\"relation\"), f.col(\"entity2\"), f.col(\"relation2\"), f.col(\"entity4\")] \n",
    "\n",
    "output = df_join.withColumn(\"tokens\", f.array(columns)).select(\"tokens\")"
   ]
  },
  {
   "cell_type": "code",
   "execution_count": 32,
   "id": "0ded7f71",
   "metadata": {
    "execution": {
     "iopub.execute_input": "2022-08-08T13:41:32.054206Z",
     "iopub.status.busy": "2022-08-08T13:41:32.053762Z",
     "iopub.status.idle": "2022-08-08T13:41:34.035763Z",
     "shell.execute_reply": "2022-08-08T13:41:34.034784Z"
    },
    "papermill": {
     "duration": 2.03118,
     "end_time": "2022-08-08T13:41:34.039351",
     "exception": false,
     "start_time": "2022-08-08T13:41:32.008171",
     "status": "completed"
    },
    "tags": []
   },
   "outputs": [
    {
     "name": "stderr",
     "output_type": "stream",
     "text": [
      "[Stage 30:====>             (1 + 3) / 4][Stage 31:====>             (1 + 3) / 4]\r"
     ]
    },
    {
     "name": "stdout",
     "output_type": "stream",
     "text": [
      "+-----------------------------------------------------------------------------------------------------+\n",
      "|tokens                                                                                               |\n",
      "+-----------------------------------------------------------------------------------------------------+\n",
      "|[ITV_Studios, owns, 3SixtyMedia, owns, Granada_Studios]                                              |\n",
      "|[Talen_Energy, owns, A._J._Ayer, isCitizenOf, England]                                               |\n",
      "|[Talen_Energy, owns, A._J._Ayer, isCitizenOf, Switzerland]                                           |\n",
      "|[Mansour_bin_Zayed_Al_Nahyan, owns, Abu_Dhabi_United_Group, owns, City_Football_Group]               |\n",
      "|[Zaini_Abdullah, isLeaderOf, Aceh, owns, Harapan_Bangsa_Stadium]                                     |\n",
      "|[Advance_Publications, owns, Advance_Digital, owns, NJ.com]                                          |\n",
      "|[Atlantia_(company), owns, Aeroporti_di_Roma, owns, SkyBridge]                                       |\n",
      "|[Camera_di_Commercio,_Industria,_Agricoltura_e_Artigianato, owns, Aeroporti_di_Roma, owns, SkyBridge]|\n",
      "|[Martín_Orozco_Sandoval, isLeaderOf, Aguascalientes, owns, Estadio_Victoria]                         |\n",
      "|[Margarita_Gallegos_Soto, isLeaderOf, Aguascalientes, owns, Estadio_Victoria]                        |\n",
      "|[Nancy_González_Ulloa, isLeaderOf, Aguascalientes, owns, Estadio_Victoria]                           |\n",
      "|[David_Hernández_Vallín, isLeaderOf, Aguascalientes, owns, Estadio_Victoria]                         |\n",
      "|[Felipe_González, isLeaderOf, Aguascalientes, owns, Estadio_Victoria]                                |\n",
      "|[Çalık_Holding, owns, Albtelecom, owns, Eagle_Mobile]                                                |\n",
      "|[Türk_Telekom, owns, Albtelecom, owns, Eagle_Mobile]                                                 |\n",
      "|[Anheuser-Busch_InBev, owns, AmBev, owns, Cervecería_Nacional_Dominicana]                            |\n",
      "|[Anheuser-Busch_InBev, owns, AmBev, owns, Cerveza_Quilmes]                                           |\n",
      "|[Salomon_Group, owns, Amer_Sports, owns, DeMarini]                                                   |\n",
      "|[Salomon_Group, owns, Amer_Sports, owns, Mavic]                                                      |\n",
      "|[Edward_John_Noble, owns, American_Broadcasting-Paramount_Theatres, owns, Cumulus_Media_Networks]    |\n",
      "+-----------------------------------------------------------------------------------------------------+\n",
      "only showing top 20 rows\n",
      "\n"
     ]
    },
    {
     "name": "stderr",
     "output_type": "stream",
     "text": [
      "                                                                                \r"
     ]
    }
   ],
   "source": [
    "output.show(truncate=False)"
   ]
  },
  {
   "cell_type": "code",
   "execution_count": 33,
   "id": "7b511f18",
   "metadata": {
    "execution": {
     "iopub.execute_input": "2022-08-08T13:41:34.156756Z",
     "iopub.status.busy": "2022-08-08T13:41:34.156360Z",
     "iopub.status.idle": "2022-08-08T13:41:35.936501Z",
     "shell.execute_reply": "2022-08-08T13:41:35.934170Z"
    },
    "papermill": {
     "duration": 1.835597,
     "end_time": "2022-08-08T13:41:35.940729",
     "exception": false,
     "start_time": "2022-08-08T13:41:34.105132",
     "status": "completed"
    },
    "tags": []
   },
   "outputs": [
    {
     "name": "stderr",
     "output_type": "stream",
     "text": [
      "                                                                                \r"
     ]
    },
    {
     "name": "stdout",
     "output_type": "stream",
     "text": [
      "(3296930, 1)\n"
     ]
    }
   ],
   "source": [
    "print((output.count(), len(output.columns)))"
   ]
  },
  {
   "cell_type": "code",
   "execution_count": 34,
   "id": "1c4495da",
   "metadata": {
    "execution": {
     "iopub.execute_input": "2022-08-08T13:41:36.056365Z",
     "iopub.status.busy": "2022-08-08T13:41:36.055916Z",
     "iopub.status.idle": "2022-08-08T13:41:36.075405Z",
     "shell.execute_reply": "2022-08-08T13:41:36.074235Z"
    },
    "papermill": {
     "duration": 0.083199,
     "end_time": "2022-08-08T13:41:36.078449",
     "exception": false,
     "start_time": "2022-08-08T13:41:35.995250",
     "status": "completed"
    },
    "tags": []
   },
   "outputs": [],
   "source": [
    "tokens = output.select(\"tokens\")"
   ]
  },
  {
   "cell_type": "code",
   "execution_count": 35,
   "id": "add93cb0",
   "metadata": {
    "execution": {
     "iopub.execute_input": "2022-08-08T13:41:36.169130Z",
     "iopub.status.busy": "2022-08-08T13:41:36.168421Z",
     "iopub.status.idle": "2022-08-08T13:41:37.791040Z",
     "shell.execute_reply": "2022-08-08T13:41:37.789023Z"
    },
    "papermill": {
     "duration": 1.673611,
     "end_time": "2022-08-08T13:41:37.797052",
     "exception": false,
     "start_time": "2022-08-08T13:41:36.123441",
     "status": "completed"
    },
    "tags": []
   },
   "outputs": [
    {
     "name": "stderr",
     "output_type": "stream",
     "text": [
      "[Stage 39:=============>    (3 + 1) / 4][Stage 40:=========>        (2 + 2) / 4]\r"
     ]
    },
    {
     "name": "stdout",
     "output_type": "stream",
     "text": [
      "+--------------------+\n",
      "|              tokens|\n",
      "+--------------------+\n",
      "|[ITV_Studios, own...|\n",
      "|[Talen_Energy, ow...|\n",
      "|[Talen_Energy, ow...|\n",
      "|[Mansour_bin_Zaye...|\n",
      "|[Zaini_Abdullah, ...|\n",
      "|[Advance_Publicat...|\n",
      "|[Atlantia_(compan...|\n",
      "|[Camera_di_Commer...|\n",
      "|[Martín_Orozco_Sa...|\n",
      "|[Margarita_Galleg...|\n",
      "|[Nancy_González_U...|\n",
      "|[David_Hernández_...|\n",
      "|[Felipe_González,...|\n",
      "|[Çalık_Holding, o...|\n",
      "|[Türk_Telekom, ow...|\n",
      "|[Anheuser-Busch_I...|\n",
      "|[Anheuser-Busch_I...|\n",
      "|[Salomon_Group, o...|\n",
      "|[Salomon_Group, o...|\n",
      "|[Edward_John_Nobl...|\n",
      "+--------------------+\n",
      "only showing top 20 rows\n",
      "\n"
     ]
    },
    {
     "name": "stderr",
     "output_type": "stream",
     "text": [
      "                                                                                \r"
     ]
    }
   ],
   "source": [
    "tokens.show()"
   ]
  },
  {
   "cell_type": "code",
   "execution_count": 36,
   "id": "0bf0ef1f",
   "metadata": {
    "execution": {
     "iopub.execute_input": "2022-08-08T13:41:37.916924Z",
     "iopub.status.busy": "2022-08-08T13:41:37.916415Z",
     "iopub.status.idle": "2022-08-08T13:41:37.923586Z",
     "shell.execute_reply": "2022-08-08T13:41:37.922541Z"
    },
    "papermill": {
     "duration": 0.064448,
     "end_time": "2022-08-08T13:41:37.925712",
     "exception": false,
     "start_time": "2022-08-08T13:41:37.861264",
     "status": "completed"
    },
    "tags": []
   },
   "outputs": [
    {
     "data": {
      "text/plain": [
       "pyspark.sql.dataframe.DataFrame"
      ]
     },
     "execution_count": 36,
     "metadata": {},
     "output_type": "execute_result"
    }
   ],
   "source": [
    "type(tokens)"
   ]
  },
  {
   "cell_type": "code",
   "execution_count": 37,
   "id": "bd2cc500",
   "metadata": {
    "execution": {
     "iopub.execute_input": "2022-08-08T13:41:38.017326Z",
     "iopub.status.busy": "2022-08-08T13:41:38.016562Z",
     "iopub.status.idle": "2022-08-08T13:42:29.017834Z",
     "shell.execute_reply": "2022-08-08T13:42:29.016850Z"
    },
    "papermill": {
     "duration": 51.050329,
     "end_time": "2022-08-08T13:42:29.020372",
     "exception": false,
     "start_time": "2022-08-08T13:41:37.970043",
     "status": "completed"
    },
    "tags": []
   },
   "outputs": [
    {
     "name": "stderr",
     "output_type": "stream",
     "text": [
      "[Stage 44:=========>        (2 + 2) / 4][Stage 45:=========>        (2 + 2) / 4]\r"
     ]
    },
    {
     "name": "stdout",
     "output_type": "stream",
     "text": [
      "22/08/08 13:41:39 WARN SQLConf: The SQL config 'spark.sql.execution.arrow.enabled' has been deprecated in Spark v3.0 and may be removed in the future. Use 'spark.sql.execution.arrow.pyspark.enabled' instead of it.\n",
      "22/08/08 13:41:39 WARN SQLConf: The SQL config 'spark.sql.execution.arrow.enabled' has been deprecated in Spark v3.0 and may be removed in the future. Use 'spark.sql.execution.arrow.pyspark.enabled' instead of it.\n",
      "22/08/08 13:41:39 WARN SQLConf: The SQL config 'spark.sql.execution.arrow.enabled' has been deprecated in Spark v3.0 and may be removed in the future. Use 'spark.sql.execution.arrow.pyspark.enabled' instead of it.\n",
      "22/08/08 13:41:39 WARN SQLConf: The SQL config 'spark.sql.execution.arrow.enabled' has been deprecated in Spark v3.0 and may be removed in the future. Use 'spark.sql.execution.arrow.pyspark.enabled' instead of it.\n",
      "22/08/08 13:41:39 WARN SQLConf: The SQL config 'spark.sql.execution.arrow.enabled' has been deprecated in Spark v3.0 and may be removed in the future. Use 'spark.sql.execution.arrow.pyspark.enabled' instead of it.\n",
      "22/08/08 13:41:39 WARN SQLConf: The SQL config 'spark.sql.execution.arrow.enabled' has been deprecated in Spark v3.0 and may be removed in the future. Use 'spark.sql.execution.arrow.pyspark.enabled' instead of it.\n",
      "22/08/08 13:41:39 WARN SQLConf: The SQL config 'spark.sql.execution.arrow.enabled' has been deprecated in Spark v3.0 and may be removed in the future. Use 'spark.sql.execution.arrow.pyspark.enabled' instead of it.\n",
      "22/08/08 13:41:39 WARN SQLConf: The SQL config 'spark.sql.execution.arrow.enabled' has been deprecated in Spark v3.0 and may be removed in the future. Use 'spark.sql.execution.arrow.pyspark.enabled' instead of it.\n"
     ]
    },
    {
     "name": "stderr",
     "output_type": "stream",
     "text": [
      "                                                                                \r"
     ]
    }
   ],
   "source": [
    "inp_list = output.select('tokens').rdd.flatMap(lambda x: x).collect()"
   ]
  },
  {
   "cell_type": "code",
   "execution_count": 38,
   "id": "0cf89518",
   "metadata": {
    "execution": {
     "iopub.execute_input": "2022-08-08T13:42:29.116377Z",
     "iopub.status.busy": "2022-08-08T13:42:29.114622Z",
     "iopub.status.idle": "2022-08-08T13:42:29.121852Z",
     "shell.execute_reply": "2022-08-08T13:42:29.121127Z"
    },
    "papermill": {
     "duration": 0.057941,
     "end_time": "2022-08-08T13:42:29.123859",
     "exception": false,
     "start_time": "2022-08-08T13:42:29.065918",
     "status": "completed"
    },
    "tags": []
   },
   "outputs": [
    {
     "data": {
      "text/plain": [
       "3296930"
      ]
     },
     "execution_count": 38,
     "metadata": {},
     "output_type": "execute_result"
    }
   ],
   "source": [
    "len(inp_list)"
   ]
  },
  {
   "cell_type": "code",
   "execution_count": 39,
   "id": "4116d54b",
   "metadata": {
    "execution": {
     "iopub.execute_input": "2022-08-08T13:42:29.216343Z",
     "iopub.status.busy": "2022-08-08T13:42:29.215696Z",
     "iopub.status.idle": "2022-08-08T13:42:29.220376Z",
     "shell.execute_reply": "2022-08-08T13:42:29.219380Z"
    },
    "papermill": {
     "duration": 0.052862,
     "end_time": "2022-08-08T13:42:29.222365",
     "exception": false,
     "start_time": "2022-08-08T13:42:29.169503",
     "status": "completed"
    },
    "tags": []
   },
   "outputs": [],
   "source": [
    "# output.select(\"tokens\").collect()[0]"
   ]
  },
  {
   "cell_type": "code",
   "execution_count": 40,
   "id": "74a2c8c8",
   "metadata": {
    "execution": {
     "iopub.execute_input": "2022-08-08T13:42:29.313684Z",
     "iopub.status.busy": "2022-08-08T13:42:29.312748Z",
     "iopub.status.idle": "2022-08-08T13:42:29.316878Z",
     "shell.execute_reply": "2022-08-08T13:42:29.316027Z"
    },
    "papermill": {
     "duration": 0.051859,
     "end_time": "2022-08-08T13:42:29.318948",
     "exception": false,
     "start_time": "2022-08-08T13:42:29.267089",
     "status": "completed"
    },
    "tags": []
   },
   "outputs": [],
   "source": [
    "# input_list = []\n",
    "# for rows in output.select(\"tokens\").collect():\n",
    "#     input_list.append(rows[0])"
   ]
  },
  {
   "cell_type": "code",
   "execution_count": 41,
   "id": "b3be6de2",
   "metadata": {
    "execution": {
     "iopub.execute_input": "2022-08-08T13:42:29.411120Z",
     "iopub.status.busy": "2022-08-08T13:42:29.410665Z",
     "iopub.status.idle": "2022-08-08T13:42:30.438466Z",
     "shell.execute_reply": "2022-08-08T13:42:30.437567Z"
    },
    "papermill": {
     "duration": 1.076769,
     "end_time": "2022-08-08T13:42:30.440891",
     "exception": false,
     "start_time": "2022-08-08T13:42:29.364122",
     "status": "completed"
    },
    "tags": []
   },
   "outputs": [],
   "source": [
    "import gensim"
   ]
  },
  {
   "cell_type": "code",
   "execution_count": 42,
   "id": "943dd324",
   "metadata": {
    "execution": {
     "iopub.execute_input": "2022-08-08T13:42:30.532792Z",
     "iopub.status.busy": "2022-08-08T13:42:30.532386Z",
     "iopub.status.idle": "2022-08-08T13:42:30.538015Z",
     "shell.execute_reply": "2022-08-08T13:42:30.537108Z"
    },
    "papermill": {
     "duration": 0.054148,
     "end_time": "2022-08-08T13:42:30.540350",
     "exception": false,
     "start_time": "2022-08-08T13:42:30.486202",
     "status": "completed"
    },
    "tags": []
   },
   "outputs": [],
   "source": [
    "model = gensim.models.Word2Vec(min_count=1,\n",
    "                               vector_size= 850,\n",
    "                               workers=4,\n",
    "                               window =4,\n",
    "                               sg = 1)"
   ]
  },
  {
   "cell_type": "code",
   "execution_count": 43,
   "id": "11a3f32f",
   "metadata": {
    "execution": {
     "iopub.execute_input": "2022-08-08T13:42:30.632156Z",
     "iopub.status.busy": "2022-08-08T13:42:30.631709Z",
     "iopub.status.idle": "2022-08-08T13:42:40.998718Z",
     "shell.execute_reply": "2022-08-08T13:42:40.997452Z"
    },
    "papermill": {
     "duration": 10.416203,
     "end_time": "2022-08-08T13:42:41.001431",
     "exception": false,
     "start_time": "2022-08-08T13:42:30.585228",
     "status": "completed"
    },
    "tags": []
   },
   "outputs": [],
   "source": [
    "model.build_vocab(inp_list, progress_per=10000)"
   ]
  },
  {
   "cell_type": "code",
   "execution_count": 44,
   "id": "ff884494",
   "metadata": {
    "execution": {
     "iopub.execute_input": "2022-08-08T13:42:41.093089Z",
     "iopub.status.busy": "2022-08-08T13:42:41.092462Z",
     "iopub.status.idle": "2022-08-08T13:42:41.098767Z",
     "shell.execute_reply": "2022-08-08T13:42:41.097941Z"
    },
    "papermill": {
     "duration": 0.054616,
     "end_time": "2022-08-08T13:42:41.100764",
     "exception": false,
     "start_time": "2022-08-08T13:42:41.046148",
     "status": "completed"
    },
    "tags": []
   },
   "outputs": [
    {
     "data": {
      "text/plain": [
       "195756"
      ]
     },
     "execution_count": 44,
     "metadata": {},
     "output_type": "execute_result"
    }
   ],
   "source": [
    "len(model.wv.key_to_index)"
   ]
  },
  {
   "cell_type": "code",
   "execution_count": 45,
   "id": "e7981cc3",
   "metadata": {
    "execution": {
     "iopub.execute_input": "2022-08-08T13:42:41.192266Z",
     "iopub.status.busy": "2022-08-08T13:42:41.191841Z",
     "iopub.status.idle": "2022-08-08T13:42:41.195516Z",
     "shell.execute_reply": "2022-08-08T13:42:41.194795Z"
    },
    "papermill": {
     "duration": 0.052138,
     "end_time": "2022-08-08T13:42:41.197468",
     "exception": false,
     "start_time": "2022-08-08T13:42:41.145330",
     "status": "completed"
    },
    "tags": []
   },
   "outputs": [],
   "source": [
    "# model.wv.key_to_index"
   ]
  },
  {
   "cell_type": "code",
   "execution_count": 46,
   "id": "7e655214",
   "metadata": {
    "execution": {
     "iopub.execute_input": "2022-08-08T13:42:41.290871Z",
     "iopub.status.busy": "2022-08-08T13:42:41.290090Z",
     "iopub.status.idle": "2022-08-08T13:44:36.798986Z",
     "shell.execute_reply": "2022-08-08T13:44:36.797903Z"
    },
    "papermill": {
     "duration": 115.609662,
     "end_time": "2022-08-08T13:44:36.851853",
     "exception": false,
     "start_time": "2022-08-08T13:42:41.242191",
     "status": "completed"
    },
    "tags": []
   },
   "outputs": [
    {
     "data": {
      "text/plain": [
       "(40142170, 82423250)"
      ]
     },
     "execution_count": 46,
     "metadata": {},
     "output_type": "execute_result"
    }
   ],
   "source": [
    "model.train(inp_list, total_examples=model.corpus_count, epochs=model.epochs)"
   ]
  },
  {
   "cell_type": "code",
   "execution_count": 47,
   "id": "3058481f",
   "metadata": {
    "execution": {
     "iopub.execute_input": "2022-08-08T13:44:36.949874Z",
     "iopub.status.busy": "2022-08-08T13:44:36.949196Z",
     "iopub.status.idle": "2022-08-08T13:44:36.954353Z",
     "shell.execute_reply": "2022-08-08T13:44:36.953251Z"
    },
    "papermill": {
     "duration": 0.054286,
     "end_time": "2022-08-08T13:44:36.956512",
     "exception": false,
     "start_time": "2022-08-08T13:44:36.902226",
     "status": "completed"
    },
    "tags": []
   },
   "outputs": [],
   "source": [
    "# model.wv[2]"
   ]
  },
  {
   "cell_type": "code",
   "execution_count": 48,
   "id": "9a2b39e8",
   "metadata": {
    "execution": {
     "iopub.execute_input": "2022-08-08T13:44:37.056246Z",
     "iopub.status.busy": "2022-08-08T13:44:37.055297Z",
     "iopub.status.idle": "2022-08-08T13:44:37.060299Z",
     "shell.execute_reply": "2022-08-08T13:44:37.059117Z"
    },
    "papermill": {
     "duration": 0.055036,
     "end_time": "2022-08-08T13:44:37.062706",
     "exception": false,
     "start_time": "2022-08-08T13:44:37.007670",
     "status": "completed"
    },
    "tags": []
   },
   "outputs": [],
   "source": [
    "# model.wv[\"United_States\"]"
   ]
  },
  {
   "cell_type": "code",
   "execution_count": 49,
   "id": "1d9b781e",
   "metadata": {
    "execution": {
     "iopub.execute_input": "2022-08-08T13:44:37.170210Z",
     "iopub.status.busy": "2022-08-08T13:44:37.169450Z",
     "iopub.status.idle": "2022-08-08T13:44:37.174160Z",
     "shell.execute_reply": "2022-08-08T13:44:37.173325Z"
    },
    "papermill": {
     "duration": 0.058656,
     "end_time": "2022-08-08T13:44:37.176333",
     "exception": false,
     "start_time": "2022-08-08T13:44:37.117677",
     "status": "completed"
    },
    "tags": []
   },
   "outputs": [],
   "source": [
    "# model.wv[\"Godavari_Dam\"]"
   ]
  },
  {
   "cell_type": "code",
   "execution_count": 50,
   "id": "c1213937",
   "metadata": {
    "execution": {
     "iopub.execute_input": "2022-08-08T13:44:37.271288Z",
     "iopub.status.busy": "2022-08-08T13:44:37.270528Z",
     "iopub.status.idle": "2022-08-08T13:44:37.277368Z",
     "shell.execute_reply": "2022-08-08T13:44:37.276585Z"
    },
    "papermill": {
     "duration": 0.056899,
     "end_time": "2022-08-08T13:44:37.279380",
     "exception": false,
     "start_time": "2022-08-08T13:44:37.222481",
     "status": "completed"
    },
    "tags": []
   },
   "outputs": [
    {
     "data": {
      "text/plain": [
       "0.5244621"
      ]
     },
     "execution_count": 50,
     "metadata": {},
     "output_type": "execute_result"
    }
   ],
   "source": [
    "model.wv.similarity(w1='United_States', w2='isCitizenOf')"
   ]
  },
  {
   "cell_type": "code",
   "execution_count": 51,
   "id": "05b8a5fa",
   "metadata": {
    "execution": {
     "iopub.execute_input": "2022-08-08T13:44:37.372746Z",
     "iopub.status.busy": "2022-08-08T13:44:37.372007Z",
     "iopub.status.idle": "2022-08-08T13:44:37.767120Z",
     "shell.execute_reply": "2022-08-08T13:44:37.766051Z"
    },
    "papermill": {
     "duration": 0.444553,
     "end_time": "2022-08-08T13:44:37.770046",
     "exception": false,
     "start_time": "2022-08-08T13:44:37.325493",
     "status": "completed"
    },
    "tags": []
   },
   "outputs": [
    {
     "data": {
      "text/plain": [
       "[('John_Paul_Hammerschmidt_Federal_Building', 0.5461805462837219),\n",
       " ('Surrender_of_Lord_Cornwallis', 0.5418846607208252),\n",
       " ('New_Jersey_Blaze', 0.5357844829559326),\n",
       " ('Temple_United_FC', 0.5344016551971436),\n",
       " ('Ethnologue', 0.53233402967453),\n",
       " ('SoCal_SC', 0.5301342606544495),\n",
       " ('World_Heritage_Memory_Net', 0.5295360088348389),\n",
       " ('Surrender_of_General_Burgoyne', 0.5292683839797974),\n",
       " ('Atlanta_Beat_(WPS)', 0.5281827449798584),\n",
       " ('Naval_Air_Station_Oceana', 0.5260710120201111)]"
      ]
     },
     "execution_count": 51,
     "metadata": {},
     "output_type": "execute_result"
    }
   ],
   "source": [
    "model.wv.most_similar(3)"
   ]
  },
  {
   "cell_type": "code",
   "execution_count": 52,
   "id": "0af579ca",
   "metadata": {
    "execution": {
     "iopub.execute_input": "2022-08-08T13:44:37.902829Z",
     "iopub.status.busy": "2022-08-08T13:44:37.902424Z",
     "iopub.status.idle": "2022-08-08T13:44:37.941504Z",
     "shell.execute_reply": "2022-08-08T13:44:37.940500Z"
    },
    "papermill": {
     "duration": 0.101029,
     "end_time": "2022-08-08T13:44:37.944372",
     "exception": false,
     "start_time": "2022-08-08T13:44:37.843343",
     "status": "completed"
    },
    "tags": []
   },
   "outputs": [
    {
     "data": {
      "text/plain": [
       "[('John_Paul_Hammerschmidt_Federal_Building', 0.5461805462837219),\n",
       " ('Surrender_of_Lord_Cornwallis', 0.5418846607208252),\n",
       " ('New_Jersey_Blaze', 0.5357844829559326),\n",
       " ('Temple_United_FC', 0.5344016551971436),\n",
       " ('Ethnologue', 0.53233402967453),\n",
       " ('SoCal_SC', 0.5301342606544495),\n",
       " ('World_Heritage_Memory_Net', 0.5295360088348389),\n",
       " ('Surrender_of_General_Burgoyne', 0.5292683839797974),\n",
       " ('Atlanta_Beat_(WPS)', 0.5281827449798584),\n",
       " ('Naval_Air_Station_Oceana', 0.5260710120201111),\n",
       " ('isCitizenOf', 0.5244620442390442),\n",
       " ('President-s_Guest_House', 0.5234242677688599),\n",
       " ('John_Joseph_Moakley_United_States_Courthouse', 0.522473156452179),\n",
       " ('World_Digital_Library', 0.5148941278457642),\n",
       " ('owns', 0.5067899823188782),\n",
       " ('Global_Memory_Net', 0.5049726963043213),\n",
       " ('Hull_Pirates', 0.5018768906593323),\n",
       " ('Chicago_Spurs', 0.5014562606811523),\n",
       " ('Boston_Bulldogs_(soccer)', 0.49974122643470764),\n",
       " ('Alcorn_McBride', 0.489258736371994)]"
      ]
     },
     "execution_count": 52,
     "metadata": {},
     "output_type": "execute_result"
    }
   ],
   "source": [
    "model.wv.most_similar('United_States', topn=20)"
   ]
  },
  {
   "cell_type": "code",
   "execution_count": 53,
   "id": "31401542",
   "metadata": {
    "execution": {
     "iopub.execute_input": "2022-08-08T13:44:38.079357Z",
     "iopub.status.busy": "2022-08-08T13:44:38.078878Z",
     "iopub.status.idle": "2022-08-08T13:44:38.123075Z",
     "shell.execute_reply": "2022-08-08T13:44:38.121737Z"
    },
    "papermill": {
     "duration": 0.108055,
     "end_time": "2022-08-08T13:44:38.126315",
     "exception": false,
     "start_time": "2022-08-08T13:44:38.018260",
     "status": "completed"
    },
    "tags": []
   },
   "outputs": [
    {
     "data": {
      "text/plain": [
       "[('Dhoki_Dam', 0.9966136813163757),\n",
       " ('Ekburji_Dam', 0.9961732625961304),\n",
       " ('Pimpalgaon_Joge_Dam', 0.9960291981697083),\n",
       " ('Panzara_Dam', 0.9954107403755188),\n",
       " ('Palkhed_Dam', 0.9953845143318176),\n",
       " ('Shirsufal_Dam', 0.9953728914260864),\n",
       " ('Arunawati_Dam', 0.9953371286392212),\n",
       " ('Khelocala_Dam', 0.9953293204307556),\n",
       " ('Lower_Pus_Dam', 0.9952912330627441),\n",
       " ('Borna_Dam', 0.9952456951141357),\n",
       " ('Mehakari_Dam', 0.995022714138031),\n",
       " ('Waghad_Dam', 0.9949395656585693),\n",
       " ('Niradevghar_Dam', 0.994888186454773),\n",
       " ('Palashi_Dam', 0.9948524832725525),\n",
       " ('Januna_Dam', 0.9948521256446838),\n",
       " ('Tisangi_Dam', 0.9947763085365295),\n",
       " ('Nagan_Dam', 0.9947471618652344),\n",
       " ('Sonal_Dam', 0.9946746230125427),\n",
       " ('Manar_Dam', 0.9946575164794922),\n",
       " ('Shirvata_Dam', 0.994564950466156),\n",
       " ('Yeldari_Dam', 0.9945298433303833),\n",
       " ('Berdewadi_Dam', 0.9944117069244385),\n",
       " ('Nirguna_Dam', 0.9940981268882751),\n",
       " ('Mahamadwadi_Dam', 0.9938905835151672),\n",
       " ('Kashypi_Dam', 0.9936966896057129),\n",
       " ('Manyad_Dam', 0.9935563206672668),\n",
       " ('Ghorazari_Dam', 0.9935351610183716),\n",
       " ('Lower_Panzara_Dam', 0.9934247136116028),\n",
       " ('Dhamni_Dam', 0.9929458498954773),\n",
       " ('Kurje_Dam', 0.9928979277610779)]"
      ]
     },
     "execution_count": 53,
     "metadata": {},
     "output_type": "execute_result"
    }
   ],
   "source": [
    "model.wv.most_similar('Godavari_Dam', topn=30)"
   ]
  },
  {
   "cell_type": "code",
   "execution_count": 54,
   "id": "1aa2bb73",
   "metadata": {
    "execution": {
     "iopub.execute_input": "2022-08-08T13:44:38.257373Z",
     "iopub.status.busy": "2022-08-08T13:44:38.256539Z",
     "iopub.status.idle": "2022-08-08T13:44:38.263357Z",
     "shell.execute_reply": "2022-08-08T13:44:38.262519Z"
    },
    "papermill": {
     "duration": 0.066309,
     "end_time": "2022-08-08T13:44:38.265357",
     "exception": false,
     "start_time": "2022-08-08T13:44:38.199048",
     "status": "completed"
    },
    "tags": []
   },
   "outputs": [
    {
     "data": {
      "text/plain": [
       "0.994565"
      ]
     },
     "execution_count": 54,
     "metadata": {},
     "output_type": "execute_result"
    }
   ],
   "source": [
    "model.wv.similarity(w1='Godavari_Dam', w2='Shirvata_Dam')"
   ]
  },
  {
   "cell_type": "code",
   "execution_count": 55,
   "id": "ff7a51a0",
   "metadata": {
    "execution": {
     "iopub.execute_input": "2022-08-08T13:44:38.357549Z",
     "iopub.status.busy": "2022-08-08T13:44:38.356885Z",
     "iopub.status.idle": "2022-08-08T13:44:38.415818Z",
     "shell.execute_reply": "2022-08-08T13:44:38.414791Z"
    },
    "papermill": {
     "duration": 0.107437,
     "end_time": "2022-08-08T13:44:38.418516",
     "exception": false,
     "start_time": "2022-08-08T13:44:38.311079",
     "status": "completed"
    },
    "tags": []
   },
   "outputs": [
    {
     "data": {
      "text/plain": [
       "[('Health_Career_Exploring', 0.670261025428772),\n",
       " ('Yativṛṣabha', 0.6686726212501526),\n",
       " ('Krissann_Barretto', 0.6624113321304321),\n",
       " ('Samir_Bhatia', 0.6568195223808289),\n",
       " ('Sky_Atlantic', 0.6565224528312683),\n",
       " ('Saju_Navodaya', 0.6564583778381348),\n",
       " ('Solar_News_Channel', 0.654193639755249),\n",
       " ('Türk_Telekom', 0.6540935635566711),\n",
       " ('NHK_World_Premium', 0.6529186964035034),\n",
       " ('Viaccess', 0.650210976600647),\n",
       " ('Rinku_Rajguru', 0.6459903120994568),\n",
       " ('Perminder_Sachdev', 0.6455404162406921),\n",
       " ('Madhavi_Sarkar', 0.6439633965492249),\n",
       " ('Gowry_Retchakan', 0.6437610387802124),\n",
       " ('Ilyas_Burney', 0.6434760689735413),\n",
       " ('Aryabhata', 0.6422051787376404),\n",
       " ('Zahoor_Sofi', 0.6418889760971069),\n",
       " ('de/Cornelis_Oasib', 0.6410909295082092),\n",
       " ('S._E._Krupa_Rao', 0.6398430466651917),\n",
       " ('Evergreen_Branch', 0.6390091776847839),\n",
       " ('A._P._N._C._De_S._Vaas_Gunawardene', 0.6386486887931824),\n",
       " ('Molvi_Muhammad_Hussain_Batalvi', 0.6384226083755493),\n",
       " ('Charles_Aidman', 0.6379709839820862),\n",
       " ('Kira_Kener', 0.6377780437469482),\n",
       " ('Angella_Katatumba', 0.6374717950820923),\n",
       " ('Ram_Sharan', 0.6373593807220459),\n",
       " ('Joe_Zapustas', 0.6362815499305725),\n",
       " ('Umberto_II_of_Italy', 0.6358723044395447),\n",
       " ('pl/Giselly_Andrea_Landazuri', 0.6354584097862244),\n",
       " ('Shoba_Chandrasekhar', 0.6348913908004761),\n",
       " ('Praveen_Kumar_Gorakavi', 0.6341717839241028),\n",
       " ('Willis_Wilson', 0.6340948939323425),\n",
       " ('fr/Idrissa_Soumaoro', 0.6334545016288757),\n",
       " ('Line_A_(EuskoTran)', 0.6331360340118408),\n",
       " ('P._R._Seenivasa_Padayachi', 0.6323536038398743),\n",
       " ('Wilton_Guerrero', 0.6323204636573792),\n",
       " ('Parimal_Nathwani', 0.6321905255317688),\n",
       " ('Christelle_N-Garsanet', 0.6311714053153992),\n",
       " ('Kumar_Shahani', 0.6309279799461365),\n",
       " ('Shyama_Shaw', 0.629131555557251),\n",
       " ('Southcentre_Mall', 0.629062294960022),\n",
       " ('Rajit_Kapur', 0.6278740763664246),\n",
       " ('A._S._Nair', 0.6278108954429626),\n",
       " ('Edmonton_City_Centre', 0.6272062063217163),\n",
       " ('Hudsons_Coffee', 0.6263782978057861),\n",
       " ('fa/طمطم_هندی', 0.6260713934898376),\n",
       " ('Sony_RIO', 0.6253668665885925),\n",
       " ('Jayarama_Reddiar', 0.6250773072242737),\n",
       " ('24Kitchen_(Portugal)', 0.6250400543212891),\n",
       " ('Hera_Björk', 0.6239476203918457)]"
      ]
     },
     "execution_count": 55,
     "metadata": {},
     "output_type": "execute_result"
    }
   ],
   "source": [
    "model.wv.most_similar('India', topn=50)"
   ]
  },
  {
   "cell_type": "code",
   "execution_count": null,
   "id": "277d1f74",
   "metadata": {
    "papermill": {
     "duration": 0.050673,
     "end_time": "2022-08-08T13:44:38.541679",
     "exception": false,
     "start_time": "2022-08-08T13:44:38.491006",
     "status": "completed"
    },
    "tags": []
   },
   "outputs": [],
   "source": []
  },
  {
   "cell_type": "code",
   "execution_count": 56,
   "id": "411f0e7e",
   "metadata": {
    "execution": {
     "iopub.execute_input": "2022-08-08T13:44:38.634510Z",
     "iopub.status.busy": "2022-08-08T13:44:38.634068Z",
     "iopub.status.idle": "2022-08-08T13:44:38.674520Z",
     "shell.execute_reply": "2022-08-08T13:44:38.673526Z"
    },
    "papermill": {
     "duration": 0.090327,
     "end_time": "2022-08-08T13:44:38.677316",
     "exception": false,
     "start_time": "2022-08-08T13:44:38.586989",
     "status": "completed"
    },
    "tags": []
   },
   "outputs": [
    {
     "data": {
      "text/plain": [
       "[('Jinjiang_International', 0.9996503591537476),\n",
       " ('China_Academy_of_Space_Technology', 0.999610185623169),\n",
       " ('Xinhua_News_Agency', 0.9995601177215576),\n",
       " ('China_Telecom', 0.9994984865188599),\n",
       " ('China_Unicom', 0.9994688034057617),\n",
       " ('China_National_Space_Administration', 0.9994133710861206),\n",
       " ('Shanghai_Academy_of_Spaceflight_Technology', 0.9993689656257629),\n",
       " ('China_Post', 0.9993386268615723),\n",
       " ('China_Radio_International', 0.9993149042129517),\n",
       " ('China_Merchants_Group', 0.9991067051887512)]"
      ]
     },
     "execution_count": 56,
     "metadata": {},
     "output_type": "execute_result"
    }
   ],
   "source": [
    "model.wv.most_similar('PTA_Bank', topn=10)"
   ]
  },
  {
   "cell_type": "code",
   "execution_count": 57,
   "id": "7b096723",
   "metadata": {
    "execution": {
     "iopub.execute_input": "2022-08-08T13:44:38.810803Z",
     "iopub.status.busy": "2022-08-08T13:44:38.810356Z",
     "iopub.status.idle": "2022-08-08T13:44:38.851749Z",
     "shell.execute_reply": "2022-08-08T13:44:38.850701Z"
    },
    "papermill": {
     "duration": 0.104649,
     "end_time": "2022-08-08T13:44:38.855195",
     "exception": false,
     "start_time": "2022-08-08T13:44:38.750546",
     "status": "completed"
    },
    "tags": []
   },
   "outputs": [
    {
     "data": {
      "text/plain": [
       "[('Radio_Belgrade', 0.997753381729126),\n",
       " ('Historical_Museum_of_Serbia', 0.9953268766403198),\n",
       " ('Serbia', 0.977911651134491),\n",
       " ('Israel_Space_Agency', 0.8643010854721069),\n",
       " ('F.C._Shikun_HaMizrah', 0.8576487898826599),\n",
       " ('Beitar_Nes_Tubruk_F.C.', 0.8572931885719299),\n",
       " ('Maccabi_Sektzia_Ma-alot-Tarshiha_F.C.', 0.8512943387031555),\n",
       " ('Pattaya_F.C.', 0.840279221534729),\n",
       " ('Israel', 0.8323946595191956),\n",
       " ('Thailand', 0.7991344928741455),\n",
       " ('Windsor_Park_(Dominica)', 0.7248325347900391),\n",
       " ('Dongfeng_Yulon', 0.6906898617744446),\n",
       " ('Sport_Klub', 0.6837186217308044),\n",
       " ('Republic_of_the_Congo', 0.6836047172546387),\n",
       " ('Charter_Communications', 0.6702640652656555),\n",
       " ('Univision_Communications', 0.6626299619674683),\n",
       " ('The_Walt_Disney_Company', 0.6616885662078857),\n",
       " ('Istok_Totic', 0.6554863452911377),\n",
       " ('Fiat_Chrysler_Automobiles', 0.6508684158325195),\n",
       " ('ESPN_Inc.', 0.6480104923248291)]"
      ]
     },
     "execution_count": 57,
     "metadata": {},
     "output_type": "execute_result"
    }
   ],
   "source": [
    "model.wv.most_similar('Air_force_command_building', topn=20)"
   ]
  },
  {
   "cell_type": "code",
   "execution_count": 58,
   "id": "a3a42a91",
   "metadata": {
    "execution": {
     "iopub.execute_input": "2022-08-08T13:44:38.988415Z",
     "iopub.status.busy": "2022-08-08T13:44:38.987982Z",
     "iopub.status.idle": "2022-08-08T13:44:38.995567Z",
     "shell.execute_reply": "2022-08-08T13:44:38.994664Z"
    },
    "papermill": {
     "duration": 0.069239,
     "end_time": "2022-08-08T13:44:38.997627",
     "exception": false,
     "start_time": "2022-08-08T13:44:38.928388",
     "status": "completed"
    },
    "tags": []
   },
   "outputs": [
    {
     "data": {
      "text/plain": [
       "0.52166665"
      ]
     },
     "execution_count": 58,
     "metadata": {},
     "output_type": "execute_result"
    }
   ],
   "source": [
    "model.wv.similarity(w1='Air_force_command_building', w2='Mike_Enich')"
   ]
  },
  {
   "cell_type": "markdown",
   "id": "4be516b0",
   "metadata": {
    "papermill": {
     "duration": 0.047343,
     "end_time": "2022-08-08T13:44:39.091368",
     "exception": false,
     "start_time": "2022-08-08T13:44:39.044025",
     "status": "completed"
    },
    "tags": []
   },
   "source": [
    "## References Used\n",
    "1) https://datacarpentry.org/python-socialsci/11-joins/index.html#:~:text=The%20concat()%20function%20can,of%20one%20to%20the%20other.&text=The%20merge()%20function%20is%20equivalent%20to%20the%20SQL%20JOIN,inner'%20joins%20are%20all%20possible. \\\n",
    "2) https://sparkbyexamples.com/pyspark/pyspark-replace-column-values/ \\\n",
    "3) https://stackoverflow.com/questions/44626986/merge-multiple-columns-into-one-column-in-pyspark-dataframe-using-python \\\n",
    "4) https://towardsdatascience.com/guide-to-big-data-joins-python-sql-pandas-spark-dask-51b7f4fec810"
   ]
  }
 ],
 "metadata": {
  "kernelspec": {
   "display_name": "Python 3",
   "language": "python",
   "name": "python3"
  },
  "language_info": {
   "codemirror_mode": {
    "name": "ipython",
    "version": 3
   },
   "file_extension": ".py",
   "mimetype": "text/x-python",
   "name": "python",
   "nbconvert_exporter": "python",
   "pygments_lexer": "ipython3",
   "version": "3.7.12"
  },
  "papermill": {
   "default_parameters": {},
   "duration": 290.570379,
   "end_time": "2022-08-08T13:44:41.864729",
   "environment_variables": {},
   "exception": null,
   "input_path": "__notebook__.ipynb",
   "output_path": "__notebook__.ipynb",
   "parameters": {},
   "start_time": "2022-08-08T13:39:51.294350",
   "version": "2.3.4"
  }
 },
 "nbformat": 4,
 "nbformat_minor": 5
}
