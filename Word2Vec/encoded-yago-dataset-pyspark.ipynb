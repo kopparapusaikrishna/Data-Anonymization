{
 "cells": [
  {
   "cell_type": "code",
   "execution_count": 1,
   "id": "749eab06",
   "metadata": {
    "execution": {
     "iopub.execute_input": "2022-08-08T13:39:48.672333Z",
     "iopub.status.busy": "2022-08-08T13:39:48.671730Z",
     "iopub.status.idle": "2022-08-08T13:40:41.504916Z",
     "shell.execute_reply": "2022-08-08T13:40:41.503165Z"
    },
    "papermill": {
     "duration": 52.856917,
     "end_time": "2022-08-08T13:40:41.508146",
     "exception": false,
     "start_time": "2022-08-08T13:39:48.651229",
     "status": "completed"
    },
    "tags": []
   },
   "outputs": [
    {
     "name": "stdout",
     "output_type": "stream",
     "text": [
      "Collecting pyspark\r\n",
      "  Downloading pyspark-3.3.0.tar.gz (281.3 MB)\r\n",
      "\u001b[2K     \u001b[90m━━━━━━━━━━━━━━━━━━━━━━━━━━━━━━━━━━━━━━━\u001b[0m \u001b[32m281.3/281.3 MB\u001b[0m \u001b[31m3.6 MB/s\u001b[0m eta \u001b[36m0:00:00\u001b[0m\r\n",
      "\u001b[?25h  Preparing metadata (setup.py) ... \u001b[?25l-\b \b\\\b \bdone\r\n",
      "\u001b[?25hRequirement already satisfied: py4j==0.10.9.5 in /opt/conda/lib/python3.7/site-packages (from pyspark) (0.10.9.5)\r\n",
      "Building wheels for collected packages: pyspark\r\n",
      "  Building wheel for pyspark (setup.py) ... \u001b[?25l-\b \b\\\b \b|\b \b/\b \b-\b \b\\\b \b|\b \b/\b \b-\b \b\\\b \b|\b \b/\b \b-\b \b\\\b \b|\b \b/\b \b-\b \b\\\b \b|\b \b/\b \b-\b \b\\\b \b|\b \b/\b \b-\b \b\\\b \b|\b \b/\b \b-\b \b\\\b \b|\b \b/\b \b-\b \b\\\b \b|\b \b/\b \b-\b \b\\\b \b|\b \b/\b \b-\b \b\\\b \b|\b \b/\b \b-\b \b\\\b \b|\b \b/\b \b-\b \b\\\b \b|\b \b/\b \b-\b \b\\\b \b|\b \b/\b \b-\b \b\\\b \b|\b \bdone\r\n",
      "\u001b[?25h  Created wheel for pyspark: filename=pyspark-3.3.0-py2.py3-none-any.whl size=281764026 sha256=e1a2d7372b83ef3aad7f69a01522e92fb58924b6e02f3ce98389b851eabb3a15\r\n",
      "  Stored in directory: /root/.cache/pip/wheels/7a/8e/1b/f73a52650d2e5f337708d9f6a1750d451a7349a867f928b885\r\n",
      "Successfully built pyspark\r\n",
      "Installing collected packages: pyspark\r\n",
      "Successfully installed pyspark-3.3.0\r\n",
      "\u001b[33mWARNING: Running pip as the 'root' user can result in broken permissions and conflicting behaviour with the system package manager. It is recommended to use a virtual environment instead: https://pip.pypa.io/warnings/venv\u001b[0m\u001b[33m\r\n",
      "\u001b[0m"
     ]
    }
   ],
   "source": [
    "!pip install pyspark"
   ]
  },
  {
   "cell_type": "code",
   "execution_count": 2,
   "id": "3cd9f7b1",
   "metadata": {
    "execution": {
     "iopub.execute_input": "2022-08-08T13:40:41.579932Z",
     "iopub.status.busy": "2022-08-08T13:40:41.579481Z",
     "iopub.status.idle": "2022-08-08T13:40:41.653403Z",
     "shell.execute_reply": "2022-08-08T13:40:41.652243Z"
    },
    "papermill": {
     "duration": 0.113503,
     "end_time": "2022-08-08T13:40:41.656399",
     "exception": false,
     "start_time": "2022-08-08T13:40:41.542896",
     "status": "completed"
    },
    "tags": []
   },
   "outputs": [],
   "source": [
    "import pandas as pd\n",
    "from pyspark.sql import SparkSession\n",
    "from pyspark import SparkContext, SparkConf"
   ]
  },
  {
   "cell_type": "code",
   "execution_count": 3,
   "id": "69ddb99a",
   "metadata": {
    "execution": {
     "iopub.execute_input": "2022-08-08T13:40:41.726757Z",
     "iopub.status.busy": "2022-08-08T13:40:41.726365Z",
     "iopub.status.idle": "2022-08-08T13:40:48.633949Z",
     "shell.execute_reply": "2022-08-08T13:40:48.632246Z"
    },
    "papermill": {
     "duration": 6.945959,
     "end_time": "2022-08-08T13:40:48.637285",
     "exception": false,
     "start_time": "2022-08-08T13:40:41.691326",
     "status": "completed"
    },
    "tags": []
   },
   "outputs": [
    {
     "name": "stderr",
     "output_type": "stream",
     "text": [
      "Setting default log level to \"WARN\".\n",
      "To adjust logging level use sc.setLogLevel(newLevel). For SparkR, use setLogLevel(newLevel).\n"
     ]
    },
    {
     "name": "stdout",
     "output_type": "stream",
     "text": [
      "22/08/08 13:40:45 WARN NativeCodeLoader: Unable to load native-hadoop library for your platform... using builtin-java classes where applicable\n",
      "22/08/08 13:40:48 WARN SQLConf: The SQL config 'spark.sql.execution.arrow.enabled' has been deprecated in Spark v3.0 and may be removed in the future. Use 'spark.sql.execution.arrow.pyspark.enabled' instead of it.\n"
     ]
    }
   ],
   "source": [
    "sc = SparkContext(conf=SparkConf().setMaster('local[8]'))\n",
    "spark = SparkSession.builder.getOrCreate()\n",
    "spark.conf.set(\"spark.sql.execution.arrow.enabled\", \"true\")"
   ]
  },
  {
   "cell_type": "code",
   "execution_count": 4,
   "id": "32e85e46",
   "metadata": {
    "execution": {
     "iopub.execute_input": "2022-08-08T13:40:48.708109Z",
     "iopub.status.busy": "2022-08-08T13:40:48.707709Z",
     "iopub.status.idle": "2022-08-08T13:40:53.970130Z",
     "shell.execute_reply": "2022-08-08T13:40:53.968861Z"
    },
    "papermill": {
     "duration": 5.301712,
     "end_time": "2022-08-08T13:40:53.974235",
     "exception": false,
     "start_time": "2022-08-08T13:40:48.672523",
     "status": "completed"
    },
    "scrolled": true,
    "tags": []
   },
   "outputs": [],
   "source": [
    "# df = pd.read_csv('../input/yago-full-clean/yago_full_clean.txt',sep = ' ', header=None) \n",
    "df1 = spark.read.csv(\"../input/small-dataset/small_input.txt\", sep = ' ', header=None)"
   ]
  },
  {
   "cell_type": "code",
   "execution_count": 5,
   "id": "b5ba0e52",
   "metadata": {
    "execution": {
     "iopub.execute_input": "2022-08-08T13:40:54.102230Z",
     "iopub.status.busy": "2022-08-08T13:40:54.101698Z",
     "iopub.status.idle": "2022-08-08T13:40:55.370793Z",
     "shell.execute_reply": "2022-08-08T13:40:55.368158Z"
    },
    "papermill": {
     "duration": 1.333089,
     "end_time": "2022-08-08T13:40:55.373762",
     "exception": false,
     "start_time": "2022-08-08T13:40:54.040673",
     "status": "completed"
    },
    "tags": []
   },
   "outputs": [
    {
     "name": "stderr",
     "output_type": "stream",
     "text": [
      "[Stage 1:=============================>                             (2 + 2) / 4]\r"
     ]
    },
    {
     "name": "stdout",
     "output_type": "stream",
     "text": [
      "(300000, 3)\n"
     ]
    },
    {
     "name": "stderr",
     "output_type": "stream",
     "text": [
      "                                                                                \r"
     ]
    }
   ],
   "source": [
    "print((df1.count(), len(df1.columns)))"
   ]
  },
  {
   "cell_type": "code",
   "execution_count": 6,
   "id": "6642b664",
   "metadata": {
    "execution": {
     "iopub.execute_input": "2022-08-08T13:40:55.446519Z",
     "iopub.status.busy": "2022-08-08T13:40:55.446129Z",
     "iopub.status.idle": "2022-08-08T13:40:55.642503Z",
     "shell.execute_reply": "2022-08-08T13:40:55.641081Z"
    },
    "papermill": {
     "duration": 0.235921,
     "end_time": "2022-08-08T13:40:55.646240",
     "exception": false,
     "start_time": "2022-08-08T13:40:55.410319",
     "status": "completed"
    },
    "tags": []
   },
   "outputs": [
    {
     "name": "stdout",
     "output_type": "stream",
     "text": [
      "+--------------------+------------+--------------------+\n",
      "|                 _c0|         _c1|                 _c2|\n",
      "+--------------------+------------+--------------------+\n",
      "|<Jesús_Rivera_Sán...|<isLeaderOf>|<Pueblo_of_Naranj...|\n",
      "|      <Elizabeth_II>|<isLeaderOf>|<Royal_Numismatic...|\n",
      "|  <Richard_Stallman>|<isLeaderOf>|<Free_Software_Fo...|\n",
      "|    <Keith_Peterson>|<isLeaderOf>|     <Cambridge_Bay>|\n",
      "|<William_H._Sewar...|<isLeaderOf>|<9th_New_York_Hea...|\n",
      "|          <Andranik>|<isLeaderOf>|   <Armenian_fedayi>|\n",
      "|<Ramasamy_Palanis...|<isLeaderOf>|<Democratic_Actio...|\n",
      "|        <Matt_Bevin>|<isLeaderOf>|<Kentucky_Air_Nat...|\n",
      "|       <Leonard_Leo>|<isLeaderOf>|<Federalist_Society>|\n",
      "|<James_Vincent_Cl...|<isLeaderOf>|<Bennington,_New_...|\n",
      "|      <Amjad_Bashir>|<isLeaderOf>|  <Khushab_District>|\n",
      "|<Tushar_Amarsinh_...|<isLeaderOf>|     <Mota,_Gujarat>|\n",
      "|  <Yiannis_Boutaris>|<isLeaderOf>|      <Thessaloniki>|\n",
      "|<Margaret_Chew_Ba...|<isLeaderOf>|  <American_INSIGHT>|\n",
      "|     <Oscar_Braynon>|<isLeaderOf>|        <Allapattah>|\n",
      "|<Margrethe_II_of_...|<isLeaderOf>|         <Greenland>|\n",
      "|<Fernando_Álvarez...|<isLeaderOf>|  <Army_of_Flanders>|\n",
      "|          <Om_Birla>|<isLeaderOf>|   <Kota,_Rajasthan>|\n",
      "| <Shamsuzzaman_Khan>|<isLeaderOf>|    <Bangla_Academy>|\n",
      "|     <Perry_Trimper>|<isLeaderOf>|  <North_West_River>|\n",
      "+--------------------+------------+--------------------+\n",
      "only showing top 20 rows\n",
      "\n"
     ]
    }
   ],
   "source": [
    "df1.show()"
   ]
  },
  {
   "cell_type": "code",
   "execution_count": 7,
   "id": "1e3d2864",
   "metadata": {
    "execution": {
     "iopub.execute_input": "2022-08-08T13:40:55.753828Z",
     "iopub.status.busy": "2022-08-08T13:40:55.753265Z",
     "iopub.status.idle": "2022-08-08T13:40:55.759572Z",
     "shell.execute_reply": "2022-08-08T13:40:55.758331Z"
    },
    "papermill": {
     "duration": 0.064882,
     "end_time": "2022-08-08T13:40:55.762870",
     "exception": false,
     "start_time": "2022-08-08T13:40:55.697988",
     "status": "completed"
    },
    "tags": []
   },
   "outputs": [],
   "source": [
    "# df = df1.sample(False, 0.05)"
   ]
  },
  {
   "cell_type": "code",
   "execution_count": 8,
   "id": "174341d5",
   "metadata": {
    "execution": {
     "iopub.execute_input": "2022-08-08T13:40:55.843326Z",
     "iopub.status.busy": "2022-08-08T13:40:55.842936Z",
     "iopub.status.idle": "2022-08-08T13:40:55.847570Z",
     "shell.execute_reply": "2022-08-08T13:40:55.846617Z"
    },
    "papermill": {
     "duration": 0.043021,
     "end_time": "2022-08-08T13:40:55.849714",
     "exception": false,
     "start_time": "2022-08-08T13:40:55.806693",
     "status": "completed"
    },
    "tags": []
   },
   "outputs": [],
   "source": [
    "# df = df1.limit(1000)\n",
    "df = df1"
   ]
  },
  {
   "cell_type": "code",
   "execution_count": 9,
   "id": "123787b6",
   "metadata": {
    "execution": {
     "iopub.execute_input": "2022-08-08T13:40:55.921067Z",
     "iopub.status.busy": "2022-08-08T13:40:55.920140Z",
     "iopub.status.idle": "2022-08-08T13:40:56.437338Z",
     "shell.execute_reply": "2022-08-08T13:40:56.435833Z"
    },
    "papermill": {
     "duration": 0.558049,
     "end_time": "2022-08-08T13:40:56.442054",
     "exception": false,
     "start_time": "2022-08-08T13:40:55.884005",
     "status": "completed"
    },
    "tags": []
   },
   "outputs": [
    {
     "name": "stdout",
     "output_type": "stream",
     "text": [
      "(300000, 3)\n"
     ]
    }
   ],
   "source": [
    "print((df.count(), len(df.columns)))"
   ]
  },
  {
   "cell_type": "code",
   "execution_count": 10,
   "id": "7d60b62e",
   "metadata": {
    "execution": {
     "iopub.execute_input": "2022-08-08T13:40:56.562565Z",
     "iopub.status.busy": "2022-08-08T13:40:56.561995Z",
     "iopub.status.idle": "2022-08-08T13:40:56.779469Z",
     "shell.execute_reply": "2022-08-08T13:40:56.777934Z"
    },
    "papermill": {
     "duration": 0.285184,
     "end_time": "2022-08-08T13:40:56.783337",
     "exception": false,
     "start_time": "2022-08-08T13:40:56.498153",
     "status": "completed"
    },
    "tags": []
   },
   "outputs": [
    {
     "name": "stdout",
     "output_type": "stream",
     "text": [
      "+--------------------+------------+--------------------+\n",
      "|                 _c0|         _c1|                 _c2|\n",
      "+--------------------+------------+--------------------+\n",
      "|<Jesús_Rivera_Sán...|<isLeaderOf>|<Pueblo_of_Naranj...|\n",
      "|      <Elizabeth_II>|<isLeaderOf>|<Royal_Numismatic...|\n",
      "|  <Richard_Stallman>|<isLeaderOf>|<Free_Software_Fo...|\n",
      "|    <Keith_Peterson>|<isLeaderOf>|     <Cambridge_Bay>|\n",
      "|<William_H._Sewar...|<isLeaderOf>|<9th_New_York_Hea...|\n",
      "|          <Andranik>|<isLeaderOf>|   <Armenian_fedayi>|\n",
      "|<Ramasamy_Palanis...|<isLeaderOf>|<Democratic_Actio...|\n",
      "|        <Matt_Bevin>|<isLeaderOf>|<Kentucky_Air_Nat...|\n",
      "|       <Leonard_Leo>|<isLeaderOf>|<Federalist_Society>|\n",
      "|<James_Vincent_Cl...|<isLeaderOf>|<Bennington,_New_...|\n",
      "|      <Amjad_Bashir>|<isLeaderOf>|  <Khushab_District>|\n",
      "|<Tushar_Amarsinh_...|<isLeaderOf>|     <Mota,_Gujarat>|\n",
      "|  <Yiannis_Boutaris>|<isLeaderOf>|      <Thessaloniki>|\n",
      "|<Margaret_Chew_Ba...|<isLeaderOf>|  <American_INSIGHT>|\n",
      "|     <Oscar_Braynon>|<isLeaderOf>|        <Allapattah>|\n",
      "|<Margrethe_II_of_...|<isLeaderOf>|         <Greenland>|\n",
      "|<Fernando_Álvarez...|<isLeaderOf>|  <Army_of_Flanders>|\n",
      "|          <Om_Birla>|<isLeaderOf>|   <Kota,_Rajasthan>|\n",
      "| <Shamsuzzaman_Khan>|<isLeaderOf>|    <Bangla_Academy>|\n",
      "|     <Perry_Trimper>|<isLeaderOf>|  <North_West_River>|\n",
      "+--------------------+------------+--------------------+\n",
      "only showing top 20 rows\n",
      "\n"
     ]
    }
   ],
   "source": [
    "df.show()"
   ]
  },
  {
   "cell_type": "code",
   "execution_count": 11,
   "id": "4aeb4fd7",
   "metadata": {
    "execution": {
     "iopub.execute_input": "2022-08-08T13:40:56.891378Z",
     "iopub.status.busy": "2022-08-08T13:40:56.890866Z",
     "iopub.status.idle": "2022-08-08T13:40:56.942758Z",
     "shell.execute_reply": "2022-08-08T13:40:56.941517Z"
    },
    "papermill": {
     "duration": 0.107985,
     "end_time": "2022-08-08T13:40:56.946706",
     "exception": false,
     "start_time": "2022-08-08T13:40:56.838721",
     "status": "completed"
    },
    "tags": []
   },
   "outputs": [],
   "source": [
    "df = df.withColumnRenamed(\"_c0\",\"entity1\")\n",
    "df = df.withColumnRenamed(\"_c1\",\"relation\")\n",
    "df = df.withColumnRenamed(\"_c2\",\"entity2\")"
   ]
  },
  {
   "cell_type": "code",
   "execution_count": 12,
   "id": "72a626bd",
   "metadata": {
    "execution": {
     "iopub.execute_input": "2022-08-08T13:40:57.052366Z",
     "iopub.status.busy": "2022-08-08T13:40:57.051991Z",
     "iopub.status.idle": "2022-08-08T13:40:57.057754Z",
     "shell.execute_reply": "2022-08-08T13:40:57.056329Z"
    },
    "papermill": {
     "duration": 0.061487,
     "end_time": "2022-08-08T13:40:57.060399",
     "exception": false,
     "start_time": "2022-08-08T13:40:56.998912",
     "status": "completed"
    },
    "tags": []
   },
   "outputs": [],
   "source": [
    "from pyspark.sql.functions import regexp_replace\n",
    "from pyspark.sql.functions import when"
   ]
  },
  {
   "cell_type": "code",
   "execution_count": 13,
   "id": "4a9e4e20",
   "metadata": {
    "execution": {
     "iopub.execute_input": "2022-08-08T13:40:57.133659Z",
     "iopub.status.busy": "2022-08-08T13:40:57.132616Z",
     "iopub.status.idle": "2022-08-08T13:40:57.244292Z",
     "shell.execute_reply": "2022-08-08T13:40:57.243317Z"
    },
    "papermill": {
     "duration": 0.15102,
     "end_time": "2022-08-08T13:40:57.246979",
     "exception": false,
     "start_time": "2022-08-08T13:40:57.095959",
     "status": "completed"
    },
    "tags": []
   },
   "outputs": [],
   "source": [
    "df = df.withColumn('entity1', \n",
    "    when(df.entity1.startswith('<'),regexp_replace(df.entity1,'<',''))\\\n",
    "   .otherwise(df.entity1)) \\\n",
    "   .toDF(\"entity1\",\"relation\",\"entity2\")\n",
    "\n",
    "df = df.withColumn('entity1', \n",
    "    when(df.entity1.endswith('>'),regexp_replace(df.entity1,'>',''))\\\n",
    "   .otherwise(df.entity1)) \\\n",
    "   .toDF(\"entity1\",\"relation\",\"entity2\")"
   ]
  },
  {
   "cell_type": "code",
   "execution_count": 14,
   "id": "3c15babc",
   "metadata": {
    "execution": {
     "iopub.execute_input": "2022-08-08T13:40:57.320202Z",
     "iopub.status.busy": "2022-08-08T13:40:57.319743Z",
     "iopub.status.idle": "2022-08-08T13:40:57.381749Z",
     "shell.execute_reply": "2022-08-08T13:40:57.380906Z"
    },
    "papermill": {
     "duration": 0.10257,
     "end_time": "2022-08-08T13:40:57.384691",
     "exception": false,
     "start_time": "2022-08-08T13:40:57.282121",
     "status": "completed"
    },
    "tags": []
   },
   "outputs": [],
   "source": [
    "df = df.withColumn('relation', \n",
    "    when(df.relation.startswith('<'),regexp_replace(df.relation,'<',''))\\\n",
    "   .otherwise(df.relation)) \\\n",
    "   .toDF(\"entity1\",\"relation\",\"entity2\")\n",
    "\n",
    "df = df.withColumn('relation', \n",
    "    when(df.relation.endswith('>'),regexp_replace(df.relation,'>',''))\\\n",
    "   .otherwise(df.relation)) \\\n",
    "   .toDF(\"entity1\",\"relation\",\"entity2\")"
   ]
  },
  {
   "cell_type": "code",
   "execution_count": 15,
   "id": "9bab4393",
   "metadata": {
    "execution": {
     "iopub.execute_input": "2022-08-08T13:40:57.456235Z",
     "iopub.status.busy": "2022-08-08T13:40:57.455856Z",
     "iopub.status.idle": "2022-08-08T13:40:57.560464Z",
     "shell.execute_reply": "2022-08-08T13:40:57.559191Z"
    },
    "papermill": {
     "duration": 0.145694,
     "end_time": "2022-08-08T13:40:57.565363",
     "exception": false,
     "start_time": "2022-08-08T13:40:57.419669",
     "status": "completed"
    },
    "tags": []
   },
   "outputs": [],
   "source": [
    "df = df.withColumn('entity2', \n",
    "    when(df.entity2.startswith('<'),regexp_replace(df.entity2,'<',''))\\\n",
    "   .otherwise(df.entity2)) \\\n",
    "   .toDF(\"entity1\",\"relation\",\"entity2\")\n",
    "\n",
    "df = df.withColumn('entity2', \n",
    "    when(df.entity2.endswith('>'),regexp_replace(df.entity2,'>',''))\\\n",
    "   .otherwise(df.entity2)) \\\n",
    "   .toDF(\"entity1\",\"relation\",\"entity2\")"
   ]
  },
  {
   "cell_type": "code",
   "execution_count": 16,
   "id": "7493fd9f",
   "metadata": {
    "execution": {
     "iopub.execute_input": "2022-08-08T13:40:57.644992Z",
     "iopub.status.busy": "2022-08-08T13:40:57.644580Z",
     "iopub.status.idle": "2022-08-08T13:40:58.027116Z",
     "shell.execute_reply": "2022-08-08T13:40:58.025639Z"
    },
    "papermill": {
     "duration": 0.42269,
     "end_time": "2022-08-08T13:40:58.030635",
     "exception": false,
     "start_time": "2022-08-08T13:40:57.607945",
     "status": "completed"
    },
    "tags": []
   },
   "outputs": [
    {
     "name": "stdout",
     "output_type": "stream",
     "text": [
      "+--------------------+----------+--------------------+\n",
      "|             entity1|  relation|             entity2|\n",
      "+--------------------+----------+--------------------+\n",
      "|Jesús_Rivera_Sánchez|isLeaderOf| Pueblo_of_Naranjito|\n",
      "|        Elizabeth_II|isLeaderOf|Royal_Numismatic_...|\n",
      "|    Richard_Stallman|isLeaderOf|Free_Software_Fou...|\n",
      "|      Keith_Peterson|isLeaderOf|       Cambridge_Bay|\n",
      "|William_H._Seward...|isLeaderOf|9th_New_York_Heav...|\n",
      "|            Andranik|isLeaderOf|     Armenian_fedayi|\n",
      "| Ramasamy_Palanisamy|isLeaderOf|Democratic_Action...|\n",
      "|          Matt_Bevin|isLeaderOf|Kentucky_Air_Nati...|\n",
      "|         Leonard_Leo|isLeaderOf|  Federalist_Society|\n",
      "|James_Vincent_Cleary|isLeaderOf|Bennington,_New_H...|\n",
      "|        Amjad_Bashir|isLeaderOf|    Khushab_District|\n",
      "|Tushar_Amarsinh_C...|isLeaderOf|       Mota,_Gujarat|\n",
      "|    Yiannis_Boutaris|isLeaderOf|        Thessaloniki|\n",
      "|Margaret_Chew_Bar...|isLeaderOf|    American_INSIGHT|\n",
      "|       Oscar_Braynon|isLeaderOf|          Allapattah|\n",
      "|Margrethe_II_of_D...|isLeaderOf|           Greenland|\n",
      "|Fernando_Álvarez_...|isLeaderOf|    Army_of_Flanders|\n",
      "|            Om_Birla|isLeaderOf|     Kota,_Rajasthan|\n",
      "|   Shamsuzzaman_Khan|isLeaderOf|      Bangla_Academy|\n",
      "|       Perry_Trimper|isLeaderOf|    North_West_River|\n",
      "+--------------------+----------+--------------------+\n",
      "only showing top 20 rows\n",
      "\n"
     ]
    }
   ],
   "source": [
    "df.show()"
   ]
  },
  {
   "cell_type": "code",
   "execution_count": 17,
   "id": "48b7de64",
   "metadata": {
    "execution": {
     "iopub.execute_input": "2022-08-08T13:40:58.116000Z",
     "iopub.status.busy": "2022-08-08T13:40:58.115583Z",
     "iopub.status.idle": "2022-08-08T13:41:04.155274Z",
     "shell.execute_reply": "2022-08-08T13:41:04.154020Z"
    },
    "papermill": {
     "duration": 6.078954,
     "end_time": "2022-08-08T13:41:04.158258",
     "exception": false,
     "start_time": "2022-08-08T13:40:58.079304",
     "status": "completed"
    },
    "tags": []
   },
   "outputs": [
    {
     "name": "stderr",
     "output_type": "stream",
     "text": [
      "                                                                                \r"
     ]
    }
   ],
   "source": [
    "unique_words = set()\n",
    "\n",
    "for row in df.collect():\n",
    "    unique_words.add(row[\"entity1\"])\n",
    "    unique_words.add(row[\"relation\"])\n",
    "    unique_words.add(row[\"entity2\"])"
   ]
  },
  {
   "cell_type": "code",
   "execution_count": 18,
   "id": "dc6a7648",
   "metadata": {
    "execution": {
     "iopub.execute_input": "2022-08-08T13:41:04.231805Z",
     "iopub.status.busy": "2022-08-08T13:41:04.231419Z",
     "iopub.status.idle": "2022-08-08T13:41:04.240862Z",
     "shell.execute_reply": "2022-08-08T13:41:04.239675Z"
    },
    "papermill": {
     "duration": 0.049176,
     "end_time": "2022-08-08T13:41:04.243225",
     "exception": false,
     "start_time": "2022-08-08T13:41:04.194049",
     "status": "completed"
    },
    "tags": []
   },
   "outputs": [
    {
     "data": {
      "text/plain": [
       "306549"
      ]
     },
     "execution_count": 18,
     "metadata": {},
     "output_type": "execute_result"
    }
   ],
   "source": [
    "len(unique_words)"
   ]
  },
  {
   "cell_type": "code",
   "execution_count": 19,
   "id": "8600daa8",
   "metadata": {
    "execution": {
     "iopub.execute_input": "2022-08-08T13:41:04.316352Z",
     "iopub.status.busy": "2022-08-08T13:41:04.315936Z",
     "iopub.status.idle": "2022-08-08T13:41:04.447737Z",
     "shell.execute_reply": "2022-08-08T13:41:04.446415Z"
    },
    "papermill": {
     "duration": 0.171632,
     "end_time": "2022-08-08T13:41:04.450744",
     "exception": false,
     "start_time": "2022-08-08T13:41:04.279112",
     "status": "completed"
    },
    "tags": []
   },
   "outputs": [],
   "source": [
    "values_int = list(range(1, len(unique_words)+1))\n",
    "values_string = [str(x) for x in values_int]\n",
    "values = set(values_string)"
   ]
  },
  {
   "cell_type": "code",
   "execution_count": 20,
   "id": "e4763188",
   "metadata": {
    "execution": {
     "iopub.execute_input": "2022-08-08T13:41:04.523623Z",
     "iopub.status.busy": "2022-08-08T13:41:04.523200Z",
     "iopub.status.idle": "2022-08-08T13:41:04.529924Z",
     "shell.execute_reply": "2022-08-08T13:41:04.528816Z"
    },
    "papermill": {
     "duration": 0.045446,
     "end_time": "2022-08-08T13:41:04.532269",
     "exception": false,
     "start_time": "2022-08-08T13:41:04.486823",
     "status": "completed"
    },
    "tags": []
   },
   "outputs": [
    {
     "data": {
      "text/plain": [
       "list"
      ]
     },
     "execution_count": 20,
     "metadata": {},
     "output_type": "execute_result"
    }
   ],
   "source": [
    "type(values_string)"
   ]
  },
  {
   "cell_type": "code",
   "execution_count": 21,
   "id": "49f5ce84",
   "metadata": {
    "execution": {
     "iopub.execute_input": "2022-08-08T13:41:04.606459Z",
     "iopub.status.busy": "2022-08-08T13:41:04.606039Z",
     "iopub.status.idle": "2022-08-08T13:41:04.611082Z",
     "shell.execute_reply": "2022-08-08T13:41:04.609933Z"
    },
    "papermill": {
     "duration": 0.045361,
     "end_time": "2022-08-08T13:41:04.613783",
     "exception": false,
     "start_time": "2022-08-08T13:41:04.568422",
     "status": "completed"
    },
    "tags": []
   },
   "outputs": [],
   "source": [
    "from collections import Counter"
   ]
  },
  {
   "cell_type": "code",
   "execution_count": 22,
   "id": "447cc08a",
   "metadata": {
    "execution": {
     "iopub.execute_input": "2022-08-08T13:41:04.687340Z",
     "iopub.status.busy": "2022-08-08T13:41:04.686894Z",
     "iopub.status.idle": "2022-08-08T13:41:04.791301Z",
     "shell.execute_reply": "2022-08-08T13:41:04.790473Z"
    },
    "papermill": {
     "duration": 0.143267,
     "end_time": "2022-08-08T13:41:04.793551",
     "exception": false,
     "start_time": "2022-08-08T13:41:04.650284",
     "status": "completed"
    },
    "tags": []
   },
   "outputs": [
    {
     "name": "stdout",
     "output_type": "stream",
     "text": [
      "306549\n"
     ]
    }
   ],
   "source": [
    "items = Counter(values).keys()\n",
    "print(len(items))"
   ]
  },
  {
   "cell_type": "code",
   "execution_count": 23,
   "id": "b9068e89",
   "metadata": {
    "execution": {
     "iopub.execute_input": "2022-08-08T13:41:04.865811Z",
     "iopub.status.busy": "2022-08-08T13:41:04.865378Z",
     "iopub.status.idle": "2022-08-08T13:41:04.992775Z",
     "shell.execute_reply": "2022-08-08T13:41:04.991036Z"
    },
    "papermill": {
     "duration": 0.166987,
     "end_time": "2022-08-08T13:41:04.995676",
     "exception": false,
     "start_time": "2022-08-08T13:41:04.828689",
     "status": "completed"
    },
    "tags": []
   },
   "outputs": [],
   "source": [
    "unique_dict = dict(zip(unique_words, values))"
   ]
  },
  {
   "cell_type": "code",
   "execution_count": 24,
   "id": "ccdaf1ce",
   "metadata": {
    "execution": {
     "iopub.execute_input": "2022-08-08T13:41:05.088966Z",
     "iopub.status.busy": "2022-08-08T13:41:05.088295Z",
     "iopub.status.idle": "2022-08-08T13:41:05.093979Z",
     "shell.execute_reply": "2022-08-08T13:41:05.093023Z"
    },
    "papermill": {
     "duration": 0.05298,
     "end_time": "2022-08-08T13:41:05.096251",
     "exception": false,
     "start_time": "2022-08-08T13:41:05.043271",
     "status": "completed"
    },
    "tags": []
   },
   "outputs": [
    {
     "data": {
      "text/plain": [
       "306549"
      ]
     },
     "execution_count": 24,
     "metadata": {},
     "output_type": "execute_result"
    }
   ],
   "source": [
    "len(unique_dict)"
   ]
  },
  {
   "cell_type": "code",
   "execution_count": 25,
   "id": "c621304f",
   "metadata": {
    "execution": {
     "iopub.execute_input": "2022-08-08T13:41:05.171519Z",
     "iopub.status.busy": "2022-08-08T13:41:05.171076Z",
     "iopub.status.idle": "2022-08-08T13:41:12.543630Z",
     "shell.execute_reply": "2022-08-08T13:41:12.542318Z"
    },
    "papermill": {
     "duration": 7.413429,
     "end_time": "2022-08-08T13:41:12.547130",
     "exception": false,
     "start_time": "2022-08-08T13:41:05.133701",
     "status": "completed"
    },
    "tags": []
   },
   "outputs": [
    {
     "name": "stdout",
     "output_type": "stream",
     "text": [
      "22/08/08 13:41:08 WARN SQLConf: The SQL config 'spark.sql.execution.arrow.enabled' has been deprecated in Spark v3.0 and may be removed in the future. Use 'spark.sql.execution.arrow.pyspark.enabled' instead of it.\n"
     ]
    },
    {
     "name": "stderr",
     "output_type": "stream",
     "text": [
      "                                                                                \r"
     ]
    }
   ],
   "source": [
    "df_encoded = df.rdd.map(lambda x: (unique_dict[x.entity1], unique_dict[x.relation], unique_dict[x.entity2])).toDF([\"entity1\",\"relation\",\"entity2\"])"
   ]
  },
  {
   "cell_type": "code",
   "execution_count": 26,
   "id": "cd3154bf",
   "metadata": {
    "execution": {
     "iopub.execute_input": "2022-08-08T13:41:12.620981Z",
     "iopub.status.busy": "2022-08-08T13:41:12.620579Z",
     "iopub.status.idle": "2022-08-08T13:41:13.183716Z",
     "shell.execute_reply": "2022-08-08T13:41:13.182460Z"
    },
    "papermill": {
     "duration": 0.604174,
     "end_time": "2022-08-08T13:41:13.187809",
     "exception": false,
     "start_time": "2022-08-08T13:41:12.583635",
     "status": "completed"
    },
    "tags": []
   },
   "outputs": [
    {
     "name": "stdout",
     "output_type": "stream",
     "text": [
      "+-------+--------+-------+\n",
      "|entity1|relation|entity2|\n",
      "+-------+--------+-------+\n",
      "| 258009|   71565|  28639|\n",
      "| 285059|   71565|  81407|\n",
      "|  70958|   71565| 254198|\n",
      "| 239247|   71565|  96294|\n",
      "|  12396|   71565| 232687|\n",
      "| 168741|   71565|  62325|\n",
      "| 256457|   71565| 282033|\n",
      "| 229542|   71565| 255381|\n",
      "| 263751|   71565|  65730|\n",
      "| 300961|   71565| 306117|\n",
      "|  31008|   71565| 255717|\n",
      "| 219579|   71565| 244583|\n",
      "| 227608|   71565| 292971|\n",
      "| 120135|   71565| 194506|\n",
      "|  93579|   71565|  79887|\n",
      "|  59283|   71565| 247426|\n",
      "| 112030|   71565| 193361|\n",
      "|  56397|   71565|  59831|\n",
      "|  93099|   71565| 212937|\n",
      "| 292749|   71565|  83356|\n",
      "+-------+--------+-------+\n",
      "only showing top 20 rows\n",
      "\n"
     ]
    }
   ],
   "source": [
    "df_encoded.show()"
   ]
  },
  {
   "cell_type": "code",
   "execution_count": 27,
   "id": "f11d98c8",
   "metadata": {
    "execution": {
     "iopub.execute_input": "2022-08-08T13:41:13.300808Z",
     "iopub.status.busy": "2022-08-08T13:41:13.300135Z",
     "iopub.status.idle": "2022-08-08T13:41:13.306581Z",
     "shell.execute_reply": "2022-08-08T13:41:13.305445Z"
    },
    "papermill": {
     "duration": 0.067566,
     "end_time": "2022-08-08T13:41:13.311122",
     "exception": false,
     "start_time": "2022-08-08T13:41:13.243556",
     "status": "completed"
    },
    "tags": []
   },
   "outputs": [],
   "source": [
    "t1 = df_encoded\n",
    "t2 = df_encoded"
   ]
  },
  {
   "cell_type": "code",
   "execution_count": 28,
   "id": "906b0793",
   "metadata": {
    "execution": {
     "iopub.execute_input": "2022-08-08T13:41:13.422176Z",
     "iopub.status.busy": "2022-08-08T13:41:13.421238Z",
     "iopub.status.idle": "2022-08-08T13:41:13.431007Z",
     "shell.execute_reply": "2022-08-08T13:41:13.429230Z"
    },
    "papermill": {
     "duration": 0.074144,
     "end_time": "2022-08-08T13:41:13.439824",
     "exception": false,
     "start_time": "2022-08-08T13:41:13.365680",
     "status": "completed"
    },
    "tags": []
   },
   "outputs": [
    {
     "name": "stdout",
     "output_type": "stream",
     "text": [
      "root\n",
      " |-- entity1: string (nullable = true)\n",
      " |-- relation: string (nullable = true)\n",
      " |-- entity2: string (nullable = true)\n",
      "\n"
     ]
    }
   ],
   "source": [
    "t2.printSchema()"
   ]
  },
  {
   "cell_type": "code",
   "execution_count": 29,
   "id": "316ed3bf",
   "metadata": {
    "execution": {
     "iopub.execute_input": "2022-08-08T13:41:13.515804Z",
     "iopub.status.busy": "2022-08-08T13:41:13.514489Z",
     "iopub.status.idle": "2022-08-08T13:41:13.561969Z",
     "shell.execute_reply": "2022-08-08T13:41:13.560980Z"
    },
    "papermill": {
     "duration": 0.088451,
     "end_time": "2022-08-08T13:41:13.564942",
     "exception": false,
     "start_time": "2022-08-08T13:41:13.476491",
     "status": "completed"
    },
    "tags": []
   },
   "outputs": [],
   "source": [
    "t_2 = t2.selectExpr(\"entity1 as entity3\", \"relation as relation2\", \"entity2 as entity4\")"
   ]
  },
  {
   "cell_type": "code",
   "execution_count": 30,
   "id": "7dc89cb4",
   "metadata": {
    "execution": {
     "iopub.execute_input": "2022-08-08T13:41:13.641193Z",
     "iopub.status.busy": "2022-08-08T13:41:13.640501Z",
     "iopub.status.idle": "2022-08-08T13:41:14.094192Z",
     "shell.execute_reply": "2022-08-08T13:41:14.092715Z"
    },
    "papermill": {
     "duration": 0.496059,
     "end_time": "2022-08-08T13:41:14.098177",
     "exception": false,
     "start_time": "2022-08-08T13:41:13.602118",
     "status": "completed"
    },
    "tags": []
   },
   "outputs": [
    {
     "name": "stdout",
     "output_type": "stream",
     "text": [
      "+-------+---------+-------+\n",
      "|entity3|relation2|entity4|\n",
      "+-------+---------+-------+\n",
      "| 258009|    71565|  28639|\n",
      "| 285059|    71565|  81407|\n",
      "|  70958|    71565| 254198|\n",
      "| 239247|    71565|  96294|\n",
      "|  12396|    71565| 232687|\n",
      "| 168741|    71565|  62325|\n",
      "| 256457|    71565| 282033|\n",
      "| 229542|    71565| 255381|\n",
      "| 263751|    71565|  65730|\n",
      "| 300961|    71565| 306117|\n",
      "|  31008|    71565| 255717|\n",
      "| 219579|    71565| 244583|\n",
      "| 227608|    71565| 292971|\n",
      "| 120135|    71565| 194506|\n",
      "|  93579|    71565|  79887|\n",
      "|  59283|    71565| 247426|\n",
      "| 112030|    71565| 193361|\n",
      "|  56397|    71565|  59831|\n",
      "|  93099|    71565| 212937|\n",
      "| 292749|    71565|  83356|\n",
      "+-------+---------+-------+\n",
      "only showing top 20 rows\n",
      "\n"
     ]
    }
   ],
   "source": [
    "t_2.show()"
   ]
  },
  {
   "cell_type": "code",
   "execution_count": 31,
   "id": "6033f733",
   "metadata": {
    "execution": {
     "iopub.execute_input": "2022-08-08T13:41:14.189438Z",
     "iopub.status.busy": "2022-08-08T13:41:14.189043Z",
     "iopub.status.idle": "2022-08-08T13:41:14.245036Z",
     "shell.execute_reply": "2022-08-08T13:41:14.243757Z"
    },
    "papermill": {
     "duration": 0.096988,
     "end_time": "2022-08-08T13:41:14.248711",
     "exception": false,
     "start_time": "2022-08-08T13:41:14.151723",
     "status": "completed"
    },
    "tags": []
   },
   "outputs": [],
   "source": [
    "df_join = t1.join(t_2, t1['entity2']==t_2['entity3'])"
   ]
  },
  {
   "cell_type": "code",
   "execution_count": 32,
   "id": "38b99ad8",
   "metadata": {
    "execution": {
     "iopub.execute_input": "2022-08-08T13:41:14.356647Z",
     "iopub.status.busy": "2022-08-08T13:41:14.356263Z",
     "iopub.status.idle": "2022-08-08T13:41:24.377264Z",
     "shell.execute_reply": "2022-08-08T13:41:24.375118Z"
    },
    "papermill": {
     "duration": 10.077855,
     "end_time": "2022-08-08T13:41:24.379891",
     "exception": false,
     "start_time": "2022-08-08T13:41:14.302036",
     "status": "completed"
    },
    "tags": []
   },
   "outputs": [
    {
     "name": "stderr",
     "output_type": "stream",
     "text": [
      "[Stage 15:===========================================>              (3 + 1) / 4]\r"
     ]
    },
    {
     "name": "stdout",
     "output_type": "stream",
     "text": [
      "+-------+--------+-------+-------+---------+-------+\n",
      "|entity1|relation|entity2|entity3|relation2|entity4|\n",
      "+-------+--------+-------+-------+---------+-------+\n",
      "|  14270|   71565| 102453| 102453|    83362|  38393|\n",
      "|  67388|   71565| 102453| 102453|    83362|  38393|\n",
      "|  30098|   83362| 103024| 103024|    83362| 279731|\n",
      "| 304869|   83362| 103024| 103024|    83362| 279731|\n",
      "| 178583|   83362| 103099| 103099|    83362| 238678|\n",
      "| 142680|   83362| 107697| 107697|    83362| 246113|\n",
      "| 142680|   83362| 107697| 107697|    83362| 106589|\n",
      "| 142680|   83362| 107697| 107697|    83362|  30383|\n",
      "| 142680|   83362| 107697| 107697|    83362|  80690|\n",
      "| 142680|   83362| 107697| 107697|    83362| 145055|\n",
      "|  90778|   83362| 107697| 107697|    83362| 246113|\n",
      "|  90778|   83362| 107697| 107697|    83362| 106589|\n",
      "|  90778|   83362| 107697| 107697|    83362|  30383|\n",
      "|  90778|   83362| 107697| 107697|    83362|  80690|\n",
      "|  90778|   83362| 107697| 107697|    83362| 145055|\n",
      "| 246115|   83362| 108893| 108893|    83362|  96256|\n",
      "| 246115|   83362| 108893| 108893|    83362| 120564|\n",
      "| 246115|   83362| 108893| 108893|    83362|  67321|\n",
      "| 246115|   83362| 108893| 108893|    83362|  21796|\n",
      "| 246115|   83362| 108893| 108893|    83362| 261613|\n",
      "+-------+--------+-------+-------+---------+-------+\n",
      "only showing top 20 rows\n",
      "\n"
     ]
    },
    {
     "name": "stderr",
     "output_type": "stream",
     "text": [
      "                                                                                \r"
     ]
    }
   ],
   "source": [
    "df_join.show()"
   ]
  },
  {
   "cell_type": "code",
   "execution_count": 33,
   "id": "4cb2c6ea",
   "metadata": {
    "execution": {
     "iopub.execute_input": "2022-08-08T13:41:24.457951Z",
     "iopub.status.busy": "2022-08-08T13:41:24.457522Z",
     "iopub.status.idle": "2022-08-08T13:41:24.472241Z",
     "shell.execute_reply": "2022-08-08T13:41:24.471371Z"
    },
    "papermill": {
     "duration": 0.056933,
     "end_time": "2022-08-08T13:41:24.474757",
     "exception": false,
     "start_time": "2022-08-08T13:41:24.417824",
     "status": "completed"
    },
    "tags": []
   },
   "outputs": [],
   "source": [
    "df_join = df_join.drop(\"entity3\")"
   ]
  },
  {
   "cell_type": "code",
   "execution_count": 34,
   "id": "754e8589",
   "metadata": {
    "execution": {
     "iopub.execute_input": "2022-08-08T13:41:24.551150Z",
     "iopub.status.busy": "2022-08-08T13:41:24.550320Z",
     "iopub.status.idle": "2022-08-08T13:41:32.662477Z",
     "shell.execute_reply": "2022-08-08T13:41:32.661255Z"
    },
    "papermill": {
     "duration": 8.153819,
     "end_time": "2022-08-08T13:41:32.666042",
     "exception": false,
     "start_time": "2022-08-08T13:41:24.512223",
     "status": "completed"
    },
    "tags": []
   },
   "outputs": [
    {
     "name": "stderr",
     "output_type": "stream",
     "text": [
      "[Stage 20:=============================>                            (2 + 2) / 4]\r"
     ]
    },
    {
     "name": "stdout",
     "output_type": "stream",
     "text": [
      "+-------+--------+-------+---------+-------+\n",
      "|entity1|relation|entity2|relation2|entity4|\n",
      "+-------+--------+-------+---------+-------+\n",
      "|  14270|   71565| 102453|    83362|  38393|\n",
      "|  67388|   71565| 102453|    83362|  38393|\n",
      "|  30098|   83362| 103024|    83362| 279731|\n",
      "| 304869|   83362| 103024|    83362| 279731|\n",
      "| 178583|   83362| 103099|    83362| 238678|\n",
      "| 142680|   83362| 107697|    83362| 246113|\n",
      "| 142680|   83362| 107697|    83362| 106589|\n",
      "| 142680|   83362| 107697|    83362|  30383|\n",
      "| 142680|   83362| 107697|    83362|  80690|\n",
      "| 142680|   83362| 107697|    83362| 145055|\n",
      "|  90778|   83362| 107697|    83362| 246113|\n",
      "|  90778|   83362| 107697|    83362| 106589|\n",
      "|  90778|   83362| 107697|    83362|  30383|\n",
      "|  90778|   83362| 107697|    83362|  80690|\n",
      "|  90778|   83362| 107697|    83362| 145055|\n",
      "| 246115|   83362| 108893|    83362|  96256|\n",
      "| 246115|   83362| 108893|    83362| 120564|\n",
      "| 246115|   83362| 108893|    83362|  67321|\n",
      "| 246115|   83362| 108893|    83362|  21796|\n",
      "| 246115|   83362| 108893|    83362| 261613|\n",
      "+-------+--------+-------+---------+-------+\n",
      "only showing top 20 rows\n",
      "\n"
     ]
    },
    {
     "name": "stderr",
     "output_type": "stream",
     "text": [
      "                                                                                \r"
     ]
    }
   ],
   "source": [
    "df_join.show()"
   ]
  },
  {
   "cell_type": "code",
   "execution_count": 35,
   "id": "0aa4d0d5",
   "metadata": {
    "execution": {
     "iopub.execute_input": "2022-08-08T13:41:32.778144Z",
     "iopub.status.busy": "2022-08-08T13:41:32.777600Z",
     "iopub.status.idle": "2022-08-08T13:41:32.786772Z",
     "shell.execute_reply": "2022-08-08T13:41:32.785699Z"
    },
    "papermill": {
     "duration": 0.06905,
     "end_time": "2022-08-08T13:41:32.789221",
     "exception": false,
     "start_time": "2022-08-08T13:41:32.720171",
     "status": "completed"
    },
    "tags": []
   },
   "outputs": [
    {
     "data": {
      "text/plain": [
       "[('entity1', 'string'),\n",
       " ('relation', 'string'),\n",
       " ('entity2', 'string'),\n",
       " ('relation2', 'string'),\n",
       " ('entity4', 'string')]"
      ]
     },
     "execution_count": 35,
     "metadata": {},
     "output_type": "execute_result"
    }
   ],
   "source": [
    "# columns = list(df_join1)\n",
    "# print(columns)\n",
    "df_join.dtypes"
   ]
  },
  {
   "cell_type": "code",
   "execution_count": 36,
   "id": "9fea75e1",
   "metadata": {
    "execution": {
     "iopub.execute_input": "2022-08-08T13:41:32.867615Z",
     "iopub.status.busy": "2022-08-08T13:41:32.866031Z",
     "iopub.status.idle": "2022-08-08T13:41:41.513101Z",
     "shell.execute_reply": "2022-08-08T13:41:41.510200Z"
    },
    "papermill": {
     "duration": 8.691116,
     "end_time": "2022-08-08T13:41:41.517652",
     "exception": false,
     "start_time": "2022-08-08T13:41:32.826536",
     "status": "completed"
    },
    "tags": []
   },
   "outputs": [
    {
     "name": "stderr",
     "output_type": "stream",
     "text": [
      "                                                                                \r"
     ]
    },
    {
     "name": "stdout",
     "output_type": "stream",
     "text": [
      "(3296930, 5)\n"
     ]
    }
   ],
   "source": [
    "print((df_join.count(), len(df_join.columns)))"
   ]
  },
  {
   "cell_type": "code",
   "execution_count": 37,
   "id": "1360c7c9",
   "metadata": {
    "execution": {
     "iopub.execute_input": "2022-08-08T13:41:41.633355Z",
     "iopub.status.busy": "2022-08-08T13:41:41.632783Z",
     "iopub.status.idle": "2022-08-08T13:41:49.240081Z",
     "shell.execute_reply": "2022-08-08T13:41:49.238142Z"
    },
    "papermill": {
     "duration": 7.66987,
     "end_time": "2022-08-08T13:41:49.243868",
     "exception": false,
     "start_time": "2022-08-08T13:41:41.573998",
     "status": "completed"
    },
    "tags": []
   },
   "outputs": [
    {
     "name": "stderr",
     "output_type": "stream",
     "text": [
      "[Stage 34:===========================================>              (3 + 1) / 4]\r"
     ]
    },
    {
     "name": "stdout",
     "output_type": "stream",
     "text": [
      "+-------+--------+-------+---------+-------+\n",
      "|entity1|relation|entity2|relation2|entity4|\n",
      "+-------+--------+-------+---------+-------+\n",
      "|  14270|   71565| 102453|    83362|  38393|\n",
      "|  67388|   71565| 102453|    83362|  38393|\n",
      "|  30098|   83362| 103024|    83362| 279731|\n",
      "| 304869|   83362| 103024|    83362| 279731|\n",
      "| 178583|   83362| 103099|    83362| 238678|\n",
      "| 142680|   83362| 107697|    83362| 246113|\n",
      "| 142680|   83362| 107697|    83362| 106589|\n",
      "| 142680|   83362| 107697|    83362|  30383|\n",
      "| 142680|   83362| 107697|    83362|  80690|\n",
      "| 142680|   83362| 107697|    83362| 145055|\n",
      "|  90778|   83362| 107697|    83362| 246113|\n",
      "|  90778|   83362| 107697|    83362| 106589|\n",
      "|  90778|   83362| 107697|    83362|  30383|\n",
      "|  90778|   83362| 107697|    83362|  80690|\n",
      "|  90778|   83362| 107697|    83362| 145055|\n",
      "| 246115|   83362| 108893|    83362|  96256|\n",
      "| 246115|   83362| 108893|    83362| 120564|\n",
      "| 246115|   83362| 108893|    83362|  67321|\n",
      "| 246115|   83362| 108893|    83362|  21796|\n",
      "| 246115|   83362| 108893|    83362| 261613|\n",
      "+-------+--------+-------+---------+-------+\n",
      "only showing top 20 rows\n",
      "\n"
     ]
    },
    {
     "name": "stderr",
     "output_type": "stream",
     "text": [
      "                                                                                \r"
     ]
    }
   ],
   "source": [
    "df_join.show()"
   ]
  },
  {
   "cell_type": "code",
   "execution_count": 38,
   "id": "d553ad6b",
   "metadata": {
    "execution": {
     "iopub.execute_input": "2022-08-08T13:41:49.338112Z",
     "iopub.status.busy": "2022-08-08T13:41:49.337667Z",
     "iopub.status.idle": "2022-08-08T13:41:49.389607Z",
     "shell.execute_reply": "2022-08-08T13:41:49.388640Z"
    },
    "papermill": {
     "duration": 0.095088,
     "end_time": "2022-08-08T13:41:49.393058",
     "exception": false,
     "start_time": "2022-08-08T13:41:49.297970",
     "status": "completed"
    },
    "tags": []
   },
   "outputs": [],
   "source": [
    "import pyspark.sql.functions as f\n",
    "\n",
    "columns = [f.col(\"entity1\"), f.col(\"relation\"), f.col(\"entity2\"), f.col(\"relation2\"), f.col(\"entity4\")] \n",
    "\n",
    "output = df_join.withColumn(\"tokens\", f.array(columns)).select(\"tokens\")"
   ]
  },
  {
   "cell_type": "code",
   "execution_count": 39,
   "id": "15b1bd14",
   "metadata": {
    "execution": {
     "iopub.execute_input": "2022-08-08T13:41:49.476073Z",
     "iopub.status.busy": "2022-08-08T13:41:49.475633Z",
     "iopub.status.idle": "2022-08-08T13:41:57.598818Z",
     "shell.execute_reply": "2022-08-08T13:41:57.597531Z"
    },
    "papermill": {
     "duration": 8.165057,
     "end_time": "2022-08-08T13:41:57.601955",
     "exception": false,
     "start_time": "2022-08-08T13:41:49.436898",
     "status": "completed"
    },
    "tags": []
   },
   "outputs": [
    {
     "name": "stderr",
     "output_type": "stream",
     "text": [
      "[Stage 38:=========>        (2 + 2) / 4][Stage 39:=========>        (2 + 2) / 4]\r"
     ]
    },
    {
     "name": "stdout",
     "output_type": "stream",
     "text": [
      "+--------------------------------------+\n",
      "|tokens                                |\n",
      "+--------------------------------------+\n",
      "|[14270, 71565, 102453, 83362, 38393]  |\n",
      "|[67388, 71565, 102453, 83362, 38393]  |\n",
      "|[30098, 83362, 103024, 83362, 279731] |\n",
      "|[304869, 83362, 103024, 83362, 279731]|\n",
      "|[178583, 83362, 103099, 83362, 238678]|\n",
      "|[142680, 83362, 107697, 83362, 246113]|\n",
      "|[142680, 83362, 107697, 83362, 106589]|\n",
      "|[142680, 83362, 107697, 83362, 30383] |\n",
      "|[142680, 83362, 107697, 83362, 80690] |\n",
      "|[142680, 83362, 107697, 83362, 145055]|\n",
      "|[90778, 83362, 107697, 83362, 246113] |\n",
      "|[90778, 83362, 107697, 83362, 106589] |\n",
      "|[90778, 83362, 107697, 83362, 30383]  |\n",
      "|[90778, 83362, 107697, 83362, 80690]  |\n",
      "|[90778, 83362, 107697, 83362, 145055] |\n",
      "|[246115, 83362, 108893, 83362, 96256] |\n",
      "|[246115, 83362, 108893, 83362, 120564]|\n",
      "|[246115, 83362, 108893, 83362, 67321] |\n",
      "|[246115, 83362, 108893, 83362, 21796] |\n",
      "|[246115, 83362, 108893, 83362, 261613]|\n",
      "+--------------------------------------+\n",
      "only showing top 20 rows\n",
      "\n"
     ]
    },
    {
     "name": "stderr",
     "output_type": "stream",
     "text": [
      "                                                                                \r"
     ]
    }
   ],
   "source": [
    "output.show(truncate=False)"
   ]
  },
  {
   "cell_type": "code",
   "execution_count": 40,
   "id": "b15b55b8",
   "metadata": {
    "execution": {
     "iopub.execute_input": "2022-08-08T13:41:57.700007Z",
     "iopub.status.busy": "2022-08-08T13:41:57.699562Z",
     "iopub.status.idle": "2022-08-08T13:42:05.688784Z",
     "shell.execute_reply": "2022-08-08T13:42:05.686433Z"
    },
    "papermill": {
     "duration": 8.033953,
     "end_time": "2022-08-08T13:42:05.693302",
     "exception": false,
     "start_time": "2022-08-08T13:41:57.659349",
     "status": "completed"
    },
    "tags": []
   },
   "outputs": [
    {
     "name": "stderr",
     "output_type": "stream",
     "text": [
      "                                                                                \r"
     ]
    },
    {
     "name": "stdout",
     "output_type": "stream",
     "text": [
      "(3296930, 1)\n"
     ]
    }
   ],
   "source": [
    "print((output.count(), len(output.columns)))"
   ]
  },
  {
   "cell_type": "code",
   "execution_count": 41,
   "id": "3ecce36e",
   "metadata": {
    "execution": {
     "iopub.execute_input": "2022-08-08T13:42:05.785326Z",
     "iopub.status.busy": "2022-08-08T13:42:05.784898Z",
     "iopub.status.idle": "2022-08-08T13:42:05.800113Z",
     "shell.execute_reply": "2022-08-08T13:42:05.798858Z"
    },
    "papermill": {
     "duration": 0.05791,
     "end_time": "2022-08-08T13:42:05.803860",
     "exception": false,
     "start_time": "2022-08-08T13:42:05.745950",
     "status": "completed"
    },
    "tags": []
   },
   "outputs": [],
   "source": [
    "tokens = output.select(\"tokens\")"
   ]
  },
  {
   "cell_type": "code",
   "execution_count": 42,
   "id": "42e2cd6e",
   "metadata": {
    "execution": {
     "iopub.execute_input": "2022-08-08T13:42:05.880762Z",
     "iopub.status.busy": "2022-08-08T13:42:05.880253Z",
     "iopub.status.idle": "2022-08-08T13:42:13.574396Z",
     "shell.execute_reply": "2022-08-08T13:42:13.572602Z"
    },
    "papermill": {
     "duration": 7.736623,
     "end_time": "2022-08-08T13:42:13.578257",
     "exception": false,
     "start_time": "2022-08-08T13:42:05.841634",
     "status": "completed"
    },
    "tags": []
   },
   "outputs": [
    {
     "name": "stderr",
     "output_type": "stream",
     "text": [
      "[Stage 52:=========>        (2 + 2) / 4][Stage 53:=========>        (2 + 2) / 4]\r"
     ]
    },
    {
     "name": "stdout",
     "output_type": "stream",
     "text": [
      "+--------------------+\n",
      "|              tokens|\n",
      "+--------------------+\n",
      "|[14270, 71565, 10...|\n",
      "|[67388, 71565, 10...|\n",
      "|[30098, 83362, 10...|\n",
      "|[304869, 83362, 1...|\n",
      "|[178583, 83362, 1...|\n",
      "|[142680, 83362, 1...|\n",
      "|[142680, 83362, 1...|\n",
      "|[142680, 83362, 1...|\n",
      "|[142680, 83362, 1...|\n",
      "|[142680, 83362, 1...|\n",
      "|[90778, 83362, 10...|\n",
      "|[90778, 83362, 10...|\n",
      "|[90778, 83362, 10...|\n",
      "|[90778, 83362, 10...|\n",
      "|[90778, 83362, 10...|\n",
      "|[246115, 83362, 1...|\n",
      "|[246115, 83362, 1...|\n",
      "|[246115, 83362, 1...|\n",
      "|[246115, 83362, 1...|\n",
      "|[246115, 83362, 1...|\n",
      "+--------------------+\n",
      "only showing top 20 rows\n",
      "\n"
     ]
    },
    {
     "name": "stderr",
     "output_type": "stream",
     "text": [
      "                                                                                \r"
     ]
    }
   ],
   "source": [
    "tokens.show()"
   ]
  },
  {
   "cell_type": "code",
   "execution_count": 43,
   "id": "ccc73f62",
   "metadata": {
    "execution": {
     "iopub.execute_input": "2022-08-08T13:42:13.661034Z",
     "iopub.status.busy": "2022-08-08T13:42:13.660577Z",
     "iopub.status.idle": "2022-08-08T13:42:13.666719Z",
     "shell.execute_reply": "2022-08-08T13:42:13.665867Z"
    },
    "papermill": {
     "duration": 0.047832,
     "end_time": "2022-08-08T13:42:13.668828",
     "exception": false,
     "start_time": "2022-08-08T13:42:13.620996",
     "status": "completed"
    },
    "tags": []
   },
   "outputs": [
    {
     "data": {
      "text/plain": [
       "pyspark.sql.dataframe.DataFrame"
      ]
     },
     "execution_count": 43,
     "metadata": {},
     "output_type": "execute_result"
    }
   ],
   "source": [
    "type(tokens)"
   ]
  },
  {
   "cell_type": "code",
   "execution_count": 44,
   "id": "f71f51c0",
   "metadata": {
    "execution": {
     "iopub.execute_input": "2022-08-08T13:42:13.749733Z",
     "iopub.status.busy": "2022-08-08T13:42:13.748953Z",
     "iopub.status.idle": "2022-08-08T13:42:54.218408Z",
     "shell.execute_reply": "2022-08-08T13:42:54.217400Z"
    },
    "papermill": {
     "duration": 40.512532,
     "end_time": "2022-08-08T13:42:54.221268",
     "exception": false,
     "start_time": "2022-08-08T13:42:13.708736",
     "status": "completed"
    },
    "tags": []
   },
   "outputs": [
    {
     "name": "stdout",
     "output_type": "stream",
     "text": [
      "22/08/08 13:42:13 WARN SQLConf: The SQL config 'spark.sql.execution.arrow.enabled' has been deprecated in Spark v3.0 and may be removed in the future. Use 'spark.sql.execution.arrow.pyspark.enabled' instead of it.\n",
      "22/08/08 13:42:13 WARN SQLConf: The SQL config 'spark.sql.execution.arrow.enabled' has been deprecated in Spark v3.0 and may be removed in the future. Use 'spark.sql.execution.arrow.pyspark.enabled' instead of it.\n",
      "22/08/08 13:42:13 WARN SQLConf: The SQL config 'spark.sql.execution.arrow.enabled' has been deprecated in Spark v3.0 and may be removed in the future. Use 'spark.sql.execution.arrow.pyspark.enabled' instead of it.\n",
      "22/08/08 13:42:13 WARN SQLConf: The SQL config 'spark.sql.execution.arrow.enabled' has been deprecated in Spark v3.0 and may be removed in the future. Use 'spark.sql.execution.arrow.pyspark.enabled' instead of it.\n",
      "22/08/08 13:42:13 WARN SQLConf: The SQL config 'spark.sql.execution.arrow.enabled' has been deprecated in Spark v3.0 and may be removed in the future. Use 'spark.sql.execution.arrow.pyspark.enabled' instead of it.\n",
      "22/08/08 13:42:13 WARN SQLConf: The SQL config 'spark.sql.execution.arrow.enabled' has been deprecated in Spark v3.0 and may be removed in the future. Use 'spark.sql.execution.arrow.pyspark.enabled' instead of it.\n",
      "22/08/08 13:42:13 WARN SQLConf: The SQL config 'spark.sql.execution.arrow.enabled' has been deprecated in Spark v3.0 and may be removed in the future. Use 'spark.sql.execution.arrow.pyspark.enabled' instead of it.\n",
      "22/08/08 13:42:13 WARN SQLConf: The SQL config 'spark.sql.execution.arrow.enabled' has been deprecated in Spark v3.0 and may be removed in the future. Use 'spark.sql.execution.arrow.pyspark.enabled' instead of it.\n"
     ]
    },
    {
     "name": "stderr",
     "output_type": "stream",
     "text": [
      "[Stage 57:=============================>                            (2 + 2) / 4]\r"
     ]
    },
    {
     "name": "stdout",
     "output_type": "stream",
     "text": [
      "22/08/08 13:42:21 WARN SQLConf: The SQL config 'spark.sql.execution.arrow.enabled' has been deprecated in Spark v3.0 and may be removed in the future. Use 'spark.sql.execution.arrow.pyspark.enabled' instead of it.\n",
      "22/08/08 13:42:21 WARN SQLConf: The SQL config 'spark.sql.execution.arrow.enabled' has been deprecated in Spark v3.0 and may be removed in the future. Use 'spark.sql.execution.arrow.pyspark.enabled' instead of it.\n",
      "22/08/08 13:42:21 WARN SQLConf: The SQL config 'spark.sql.execution.arrow.enabled' has been deprecated in Spark v3.0 and may be removed in the future. Use 'spark.sql.execution.arrow.pyspark.enabled' instead of it.\n",
      "22/08/08 13:42:21 WARN SQLConf: The SQL config 'spark.sql.execution.arrow.enabled' has been deprecated in Spark v3.0 and may be removed in the future. Use 'spark.sql.execution.arrow.pyspark.enabled' instead of it.\n",
      "22/08/08 13:42:21 WARN SQLConf: The SQL config 'spark.sql.execution.arrow.enabled' has been deprecated in Spark v3.0 and may be removed in the future. Use 'spark.sql.execution.arrow.pyspark.enabled' instead of it.\n",
      "22/08/08 13:42:21 WARN SQLConf: The SQL config 'spark.sql.execution.arrow.enabled' has been deprecated in Spark v3.0 and may be removed in the future. Use 'spark.sql.execution.arrow.pyspark.enabled' instead of it.\n",
      "22/08/08 13:42:21 WARN SQLConf: The SQL config 'spark.sql.execution.arrow.enabled' has been deprecated in Spark v3.0 and may be removed in the future. Use 'spark.sql.execution.arrow.pyspark.enabled' instead of it.\n",
      "22/08/08 13:42:21 WARN SQLConf: The SQL config 'spark.sql.execution.arrow.enabled' has been deprecated in Spark v3.0 and may be removed in the future. Use 'spark.sql.execution.arrow.pyspark.enabled' instead of it.\n"
     ]
    },
    {
     "name": "stderr",
     "output_type": "stream",
     "text": [
      "                                                                                \r"
     ]
    }
   ],
   "source": [
    "inp_list = output.select('tokens').rdd.flatMap(lambda x: x).collect()"
   ]
  },
  {
   "cell_type": "code",
   "execution_count": 45,
   "id": "7ca29a83",
   "metadata": {
    "execution": {
     "iopub.execute_input": "2022-08-08T13:42:54.303178Z",
     "iopub.status.busy": "2022-08-08T13:42:54.302709Z",
     "iopub.status.idle": "2022-08-08T13:42:54.311481Z",
     "shell.execute_reply": "2022-08-08T13:42:54.309659Z"
    },
    "papermill": {
     "duration": 0.053495,
     "end_time": "2022-08-08T13:42:54.313701",
     "exception": false,
     "start_time": "2022-08-08T13:42:54.260206",
     "status": "completed"
    },
    "tags": []
   },
   "outputs": [
    {
     "data": {
      "text/plain": [
       "3296930"
      ]
     },
     "execution_count": 45,
     "metadata": {},
     "output_type": "execute_result"
    }
   ],
   "source": [
    "len(inp_list)"
   ]
  },
  {
   "cell_type": "code",
   "execution_count": 46,
   "id": "9f98c7c4",
   "metadata": {
    "execution": {
     "iopub.execute_input": "2022-08-08T13:42:54.395063Z",
     "iopub.status.busy": "2022-08-08T13:42:54.394267Z",
     "iopub.status.idle": "2022-08-08T13:42:54.398764Z",
     "shell.execute_reply": "2022-08-08T13:42:54.398004Z"
    },
    "papermill": {
     "duration": 0.047897,
     "end_time": "2022-08-08T13:42:54.400699",
     "exception": false,
     "start_time": "2022-08-08T13:42:54.352802",
     "status": "completed"
    },
    "tags": []
   },
   "outputs": [],
   "source": [
    "# output.select(\"tokens\").collect()[0]"
   ]
  },
  {
   "cell_type": "code",
   "execution_count": 47,
   "id": "35665731",
   "metadata": {
    "execution": {
     "iopub.execute_input": "2022-08-08T13:42:54.480445Z",
     "iopub.status.busy": "2022-08-08T13:42:54.479435Z",
     "iopub.status.idle": "2022-08-08T13:42:54.483502Z",
     "shell.execute_reply": "2022-08-08T13:42:54.482775Z"
    },
    "papermill": {
     "duration": 0.045992,
     "end_time": "2022-08-08T13:42:54.485522",
     "exception": false,
     "start_time": "2022-08-08T13:42:54.439530",
     "status": "completed"
    },
    "tags": []
   },
   "outputs": [],
   "source": [
    "# input_list = []\n",
    "# for rows in output.select(\"tokens\").collect():\n",
    "#     input_list.append(rows[0])"
   ]
  },
  {
   "cell_type": "code",
   "execution_count": 48,
   "id": "7e7ce2d5",
   "metadata": {
    "execution": {
     "iopub.execute_input": "2022-08-08T13:42:54.566383Z",
     "iopub.status.busy": "2022-08-08T13:42:54.565631Z",
     "iopub.status.idle": "2022-08-08T13:42:55.691900Z",
     "shell.execute_reply": "2022-08-08T13:42:55.690729Z"
    },
    "papermill": {
     "duration": 1.169772,
     "end_time": "2022-08-08T13:42:55.694603",
     "exception": false,
     "start_time": "2022-08-08T13:42:54.524831",
     "status": "completed"
    },
    "tags": []
   },
   "outputs": [],
   "source": [
    "import gensim"
   ]
  },
  {
   "cell_type": "code",
   "execution_count": 49,
   "id": "1a49c239",
   "metadata": {
    "execution": {
     "iopub.execute_input": "2022-08-08T13:42:55.774818Z",
     "iopub.status.busy": "2022-08-08T13:42:55.774409Z",
     "iopub.status.idle": "2022-08-08T13:42:55.780355Z",
     "shell.execute_reply": "2022-08-08T13:42:55.779498Z"
    },
    "papermill": {
     "duration": 0.048771,
     "end_time": "2022-08-08T13:42:55.782540",
     "exception": false,
     "start_time": "2022-08-08T13:42:55.733769",
     "status": "completed"
    },
    "tags": []
   },
   "outputs": [],
   "source": [
    "model = gensim.models.Word2Vec(min_count=1,\n",
    "                               vector_size= 850,\n",
    "                               workers=4,\n",
    "                               window =4,\n",
    "                               sg = 1)"
   ]
  },
  {
   "cell_type": "code",
   "execution_count": 50,
   "id": "29d0018d",
   "metadata": {
    "execution": {
     "iopub.execute_input": "2022-08-08T13:42:55.864217Z",
     "iopub.status.busy": "2022-08-08T13:42:55.863442Z",
     "iopub.status.idle": "2022-08-08T13:43:05.890861Z",
     "shell.execute_reply": "2022-08-08T13:43:05.889643Z"
    },
    "papermill": {
     "duration": 10.071636,
     "end_time": "2022-08-08T13:43:05.893732",
     "exception": false,
     "start_time": "2022-08-08T13:42:55.822096",
     "status": "completed"
    },
    "tags": []
   },
   "outputs": [],
   "source": [
    "model.build_vocab(inp_list, progress_per=10000)"
   ]
  },
  {
   "cell_type": "code",
   "execution_count": 51,
   "id": "80e9e71c",
   "metadata": {
    "execution": {
     "iopub.execute_input": "2022-08-08T13:43:05.984667Z",
     "iopub.status.busy": "2022-08-08T13:43:05.984234Z",
     "iopub.status.idle": "2022-08-08T13:43:05.992804Z",
     "shell.execute_reply": "2022-08-08T13:43:05.991614Z"
    },
    "papermill": {
     "duration": 0.063821,
     "end_time": "2022-08-08T13:43:05.996479",
     "exception": false,
     "start_time": "2022-08-08T13:43:05.932658",
     "status": "completed"
    },
    "tags": []
   },
   "outputs": [
    {
     "data": {
      "text/plain": [
       "195756"
      ]
     },
     "execution_count": 51,
     "metadata": {},
     "output_type": "execute_result"
    }
   ],
   "source": [
    "len(model.wv.key_to_index)"
   ]
  },
  {
   "cell_type": "code",
   "execution_count": 52,
   "id": "eed0b96a",
   "metadata": {
    "execution": {
     "iopub.execute_input": "2022-08-08T13:43:06.097948Z",
     "iopub.status.busy": "2022-08-08T13:43:06.097257Z",
     "iopub.status.idle": "2022-08-08T13:43:06.101438Z",
     "shell.execute_reply": "2022-08-08T13:43:06.100556Z"
    },
    "papermill": {
     "duration": 0.055209,
     "end_time": "2022-08-08T13:43:06.103409",
     "exception": false,
     "start_time": "2022-08-08T13:43:06.048200",
     "status": "completed"
    },
    "tags": []
   },
   "outputs": [],
   "source": [
    "#model.wv.key_to_index"
   ]
  },
  {
   "cell_type": "code",
   "execution_count": 53,
   "id": "604f15a5",
   "metadata": {
    "execution": {
     "iopub.execute_input": "2022-08-08T13:43:06.186962Z",
     "iopub.status.busy": "2022-08-08T13:43:06.186209Z",
     "iopub.status.idle": "2022-08-08T13:45:06.838484Z",
     "shell.execute_reply": "2022-08-08T13:45:06.836969Z"
    },
    "papermill": {
     "duration": 120.74078,
     "end_time": "2022-08-08T13:45:06.885756",
     "exception": false,
     "start_time": "2022-08-08T13:43:06.144976",
     "status": "completed"
    },
    "tags": []
   },
   "outputs": [
    {
     "data": {
      "text/plain": [
       "(40140784, 82423250)"
      ]
     },
     "execution_count": 53,
     "metadata": {},
     "output_type": "execute_result"
    }
   ],
   "source": [
    "model.train(inp_list, total_examples=model.corpus_count, epochs=model.epochs)"
   ]
  },
  {
   "cell_type": "code",
   "execution_count": 54,
   "id": "94383921",
   "metadata": {
    "execution": {
     "iopub.execute_input": "2022-08-08T13:45:06.970803Z",
     "iopub.status.busy": "2022-08-08T13:45:06.969263Z",
     "iopub.status.idle": "2022-08-08T13:45:07.017723Z",
     "shell.execute_reply": "2022-08-08T13:45:07.016390Z"
    },
    "papermill": {
     "duration": 0.096485,
     "end_time": "2022-08-08T13:45:07.021403",
     "exception": false,
     "start_time": "2022-08-08T13:45:06.924918",
     "status": "completed"
    },
    "tags": []
   },
   "outputs": [],
   "source": [
    "val_list = list(unique_dict.values())\n",
    "key_list = list(unique_dict.keys())"
   ]
  },
  {
   "cell_type": "code",
   "execution_count": 55,
   "id": "4655a33d",
   "metadata": {
    "execution": {
     "iopub.execute_input": "2022-08-08T13:45:07.113812Z",
     "iopub.status.busy": "2022-08-08T13:45:07.113033Z",
     "iopub.status.idle": "2022-08-08T13:45:07.121773Z",
     "shell.execute_reply": "2022-08-08T13:45:07.120347Z"
    },
    "papermill": {
     "duration": 0.051681,
     "end_time": "2022-08-08T13:45:07.123888",
     "exception": false,
     "start_time": "2022-08-08T13:45:07.072207",
     "status": "completed"
    },
    "tags": []
   },
   "outputs": [
    {
     "name": "stdout",
     "output_type": "stream",
     "text": [
      "306549\n"
     ]
    },
    {
     "data": {
      "text/plain": [
       "195756"
      ]
     },
     "execution_count": 55,
     "metadata": {},
     "output_type": "execute_result"
    }
   ],
   "source": [
    "print(len(unique_dict))\n",
    "len(model.wv.key_to_index)"
   ]
  },
  {
   "cell_type": "code",
   "execution_count": 56,
   "id": "d9be2935",
   "metadata": {
    "execution": {
     "iopub.execute_input": "2022-08-08T13:45:07.308177Z",
     "iopub.status.busy": "2022-08-08T13:45:07.307486Z",
     "iopub.status.idle": "2022-08-08T13:45:07.314523Z",
     "shell.execute_reply": "2022-08-08T13:45:07.313385Z"
    },
    "papermill": {
     "duration": 0.153072,
     "end_time": "2022-08-08T13:45:07.316867",
     "exception": false,
     "start_time": "2022-08-08T13:45:07.163795",
     "status": "completed"
    },
    "tags": []
   },
   "outputs": [
    {
     "data": {
      "text/plain": [
       "str"
      ]
     },
     "execution_count": 56,
     "metadata": {},
     "output_type": "execute_result"
    }
   ],
   "source": [
    "type(val_list[0])"
   ]
  },
  {
   "cell_type": "code",
   "execution_count": 57,
   "id": "16ebc51c",
   "metadata": {
    "execution": {
     "iopub.execute_input": "2022-08-08T13:45:07.398993Z",
     "iopub.status.busy": "2022-08-08T13:45:07.397733Z",
     "iopub.status.idle": "2022-08-08T13:45:07.403801Z",
     "shell.execute_reply": "2022-08-08T13:45:07.402664Z"
    },
    "papermill": {
     "duration": 0.049357,
     "end_time": "2022-08-08T13:45:07.406151",
     "exception": false,
     "start_time": "2022-08-08T13:45:07.356794",
     "status": "completed"
    },
    "tags": []
   },
   "outputs": [],
   "source": [
    "def word_to_w2v_generated(word):\n",
    "#     print(unique_dict[word])\n",
    "    return model.wv.key_to_index[unique_dict[word]]"
   ]
  },
  {
   "cell_type": "code",
   "execution_count": 58,
   "id": "9bfd7479",
   "metadata": {
    "execution": {
     "iopub.execute_input": "2022-08-08T13:45:07.486675Z",
     "iopub.status.busy": "2022-08-08T13:45:07.486256Z",
     "iopub.status.idle": "2022-08-08T13:45:07.491179Z",
     "shell.execute_reply": "2022-08-08T13:45:07.489938Z"
    },
    "papermill": {
     "duration": 0.047891,
     "end_time": "2022-08-08T13:45:07.493458",
     "exception": false,
     "start_time": "2022-08-08T13:45:07.445567",
     "status": "completed"
    },
    "tags": []
   },
   "outputs": [],
   "source": [
    "# print(\"Word:\", key_list[val_list.index(913)])\n",
    "# print(\"Manually_generated:\", 913)\n",
    "# print(\"Word_to_vec genetated:\", model.wv.key_to_index[913])"
   ]
  },
  {
   "cell_type": "code",
   "execution_count": 59,
   "id": "ac5e1178",
   "metadata": {
    "execution": {
     "iopub.execute_input": "2022-08-08T13:45:07.574947Z",
     "iopub.status.busy": "2022-08-08T13:45:07.574266Z",
     "iopub.status.idle": "2022-08-08T13:45:07.579880Z",
     "shell.execute_reply": "2022-08-08T13:45:07.579042Z"
    },
    "papermill": {
     "duration": 0.049041,
     "end_time": "2022-08-08T13:45:07.582107",
     "exception": false,
     "start_time": "2022-08-08T13:45:07.533066",
     "status": "completed"
    },
    "tags": []
   },
   "outputs": [
    {
     "data": {
      "text/plain": [
       "246"
      ]
     },
     "execution_count": 59,
     "metadata": {},
     "output_type": "execute_result"
    }
   ],
   "source": [
    "word_to_w2v_generated(\"Godavari_Dam\")"
   ]
  },
  {
   "cell_type": "code",
   "execution_count": 60,
   "id": "7d5b0a64",
   "metadata": {
    "execution": {
     "iopub.execute_input": "2022-08-08T13:45:07.666029Z",
     "iopub.status.busy": "2022-08-08T13:45:07.665596Z",
     "iopub.status.idle": "2022-08-08T13:45:07.670053Z",
     "shell.execute_reply": "2022-08-08T13:45:07.668894Z"
    },
    "papermill": {
     "duration": 0.049332,
     "end_time": "2022-08-08T13:45:07.672551",
     "exception": false,
     "start_time": "2022-08-08T13:45:07.623219",
     "status": "completed"
    },
    "tags": []
   },
   "outputs": [],
   "source": [
    "# model.wv[word_to_w2v_generated(\"Godavari_Dam\")]"
   ]
  },
  {
   "cell_type": "code",
   "execution_count": 61,
   "id": "86462354",
   "metadata": {
    "execution": {
     "iopub.execute_input": "2022-08-08T13:45:07.754205Z",
     "iopub.status.busy": "2022-08-08T13:45:07.753747Z",
     "iopub.status.idle": "2022-08-08T13:45:07.759385Z",
     "shell.execute_reply": "2022-08-08T13:45:07.758257Z"
    },
    "papermill": {
     "duration": 0.049369,
     "end_time": "2022-08-08T13:45:07.761982",
     "exception": false,
     "start_time": "2022-08-08T13:45:07.712613",
     "status": "completed"
    },
    "tags": []
   },
   "outputs": [],
   "source": [
    "import numpy as np\n",
    "from numpy.linalg import norm"
   ]
  },
  {
   "cell_type": "code",
   "execution_count": 62,
   "id": "9a9c8a50",
   "metadata": {
    "execution": {
     "iopub.execute_input": "2022-08-08T13:45:07.843786Z",
     "iopub.status.busy": "2022-08-08T13:45:07.843281Z",
     "iopub.status.idle": "2022-08-08T13:45:07.848641Z",
     "shell.execute_reply": "2022-08-08T13:45:07.847638Z"
    },
    "papermill": {
     "duration": 0.048588,
     "end_time": "2022-08-08T13:45:07.850985",
     "exception": false,
     "start_time": "2022-08-08T13:45:07.802397",
     "status": "completed"
    },
    "tags": []
   },
   "outputs": [],
   "source": [
    "# other_embedding_of_GodavariDam =  [ 1.3730227 , -0.84648895, -1.1720586 ,  0.44773513, -0.8799845 ,\n",
    "#        -0.6401834 ,  0.27228343,  0.6808291 ,  0.07503165, -0.88640815,\n",
    "#         1.0291374 ,  2.160502  , -1.9196916 , -0.6732352 ,  0.9821364 ,\n",
    "#         0.8785317 ,  0.39054427, -0.2155897 , -0.12747395, -0.21941929,\n",
    "#         0.9536586 ,  1.5859957 ,  1.4195433 , -0.8667842 ,  0.06520381,\n",
    "#         0.2562395 ,  0.87870806,  0.996617  , -0.254336  , -0.9206493 ,\n",
    "#        -0.35556167, -0.69568384,  0.98694324,  0.23072457,  1.0978839 ,\n",
    "#        -0.98354536,  1.2168041 , -0.7158572 , -1.6860644 , -0.10616143,\n",
    "#        -1.0365301 , -0.17086948, -1.2599028 , -0.90408444,  1.4062765 ,\n",
    "#         0.5066581 , -0.7715973 , -0.8436604 ,  0.15885781,  1.3730444 ]\n",
    "\n",
    "# other_embedding_of_GodavariDam = np.array(other_embedding_of_GodavariDam)"
   ]
  },
  {
   "cell_type": "code",
   "execution_count": 63,
   "id": "d2677405",
   "metadata": {
    "execution": {
     "iopub.execute_input": "2022-08-08T13:45:07.932022Z",
     "iopub.status.busy": "2022-08-08T13:45:07.931150Z",
     "iopub.status.idle": "2022-08-08T13:45:07.936321Z",
     "shell.execute_reply": "2022-08-08T13:45:07.935246Z"
    },
    "papermill": {
     "duration": 0.04814,
     "end_time": "2022-08-08T13:45:07.938570",
     "exception": false,
     "start_time": "2022-08-08T13:45:07.890430",
     "status": "completed"
    },
    "tags": []
   },
   "outputs": [],
   "source": [
    "# np.dot(other_embedding_of_GodavariDam,model.wv[word_to_w2v_generated(\"Godavari_Dam\")])/(norm(other_embedding_of_GodavariDam)*norm(model.wv[word_to_w2v_generated(\"Godavari_Dam\")]))"
   ]
  },
  {
   "cell_type": "code",
   "execution_count": 64,
   "id": "2a089dd6",
   "metadata": {
    "execution": {
     "iopub.execute_input": "2022-08-08T13:45:08.055739Z",
     "iopub.status.busy": "2022-08-08T13:45:08.054856Z",
     "iopub.status.idle": "2022-08-08T13:45:08.060742Z",
     "shell.execute_reply": "2022-08-08T13:45:08.059578Z"
    },
    "papermill": {
     "duration": 0.084905,
     "end_time": "2022-08-08T13:45:08.063422",
     "exception": false,
     "start_time": "2022-08-08T13:45:07.978517",
     "status": "completed"
    },
    "tags": []
   },
   "outputs": [],
   "source": [
    "# other_embedding_of_UnitedStates =  [-0.25793448, -0.2010411 , -0.9153717 ,  0.3798568 ,  0.3105798 ,\n",
    "#         0.7572765 ,  0.5634417 ,  0.47487262,  1.1290884 , -0.6045809 ,\n",
    "#        -0.7380967 ,  0.32126337, -0.6979069 , -1.0196424 ,  0.5600806 ,\n",
    "#         0.4816082 ,  0.27453795, -1.2056696 , -0.42269334, -0.59054685,\n",
    "#        -0.67677987, -0.17933069,  0.73068076, -0.9498321 ,  1.9444176 ,\n",
    "#         0.02687632,  0.52713907, -0.19400337, -0.31508628, -1.3735138 ,\n",
    "#        -1.0818607 , -0.33657622,  0.17982751,  0.8827995 ,  0.15030423,\n",
    "#         0.22431774,  0.80091304, -0.03566883,  0.43316683, -0.37539425,\n",
    "#         0.21121722, -0.11639111,  1.0299757 , -1.002826  ,  0.6939474 ,\n",
    "#        -0.9105419 , -1.2600976 , -1.6416855 , -0.37046993, -0.19562039]\n",
    "\n",
    "# other_embedding_of_UnitedStates = np.array(other_embedding_of_UnitedStates)"
   ]
  },
  {
   "cell_type": "code",
   "execution_count": 65,
   "id": "0f4e8b7d",
   "metadata": {
    "execution": {
     "iopub.execute_input": "2022-08-08T13:45:08.145375Z",
     "iopub.status.busy": "2022-08-08T13:45:08.144961Z",
     "iopub.status.idle": "2022-08-08T13:45:08.149748Z",
     "shell.execute_reply": "2022-08-08T13:45:08.148729Z"
    },
    "papermill": {
     "duration": 0.048346,
     "end_time": "2022-08-08T13:45:08.152070",
     "exception": false,
     "start_time": "2022-08-08T13:45:08.103724",
     "status": "completed"
    },
    "tags": []
   },
   "outputs": [],
   "source": [
    "# np.dot(other_embedding_of_UnitedStates, model.wv[word_to_w2v_generated(\"United_States\")])/(norm(other_embedding_of_UnitedStates)*norm(model.wv[word_to_w2v_generated(\"United_States\")]))"
   ]
  },
  {
   "cell_type": "code",
   "execution_count": 66,
   "id": "02c18206",
   "metadata": {
    "execution": {
     "iopub.execute_input": "2022-08-08T13:45:08.234178Z",
     "iopub.status.busy": "2022-08-08T13:45:08.233349Z",
     "iopub.status.idle": "2022-08-08T13:45:08.238556Z",
     "shell.execute_reply": "2022-08-08T13:45:08.237434Z"
    },
    "papermill": {
     "duration": 0.04936,
     "end_time": "2022-08-08T13:45:08.241070",
     "exception": false,
     "start_time": "2022-08-08T13:45:08.191710",
     "status": "completed"
    },
    "tags": []
   },
   "outputs": [],
   "source": [
    "# model.wv[word_to_w2v_generated(\"United_States\")]"
   ]
  },
  {
   "cell_type": "code",
   "execution_count": 67,
   "id": "b6ebf4bb",
   "metadata": {
    "execution": {
     "iopub.execute_input": "2022-08-08T13:45:08.323635Z",
     "iopub.status.busy": "2022-08-08T13:45:08.322832Z",
     "iopub.status.idle": "2022-08-08T13:45:08.330899Z",
     "shell.execute_reply": "2022-08-08T13:45:08.329809Z"
    },
    "papermill": {
     "duration": 0.052079,
     "end_time": "2022-08-08T13:45:08.333280",
     "exception": false,
     "start_time": "2022-08-08T13:45:08.281201",
     "status": "completed"
    },
    "tags": []
   },
   "outputs": [
    {
     "data": {
      "text/plain": [
       "0.07402058"
      ]
     },
     "execution_count": 67,
     "metadata": {},
     "output_type": "execute_result"
    }
   ],
   "source": [
    "model.wv.similarity(word_to_w2v_generated(\"United_States\"), word_to_w2v_generated(\"isCitizenOf\"))"
   ]
  },
  {
   "cell_type": "code",
   "execution_count": 68,
   "id": "d5b30893",
   "metadata": {
    "execution": {
     "iopub.execute_input": "2022-08-08T13:45:08.416462Z",
     "iopub.status.busy": "2022-08-08T13:45:08.415460Z",
     "iopub.status.idle": "2022-08-08T13:45:08.844148Z",
     "shell.execute_reply": "2022-08-08T13:45:08.842602Z"
    },
    "papermill": {
     "duration": 0.474076,
     "end_time": "2022-08-08T13:45:08.848464",
     "exception": false,
     "start_time": "2022-08-08T13:45:08.374388",
     "status": "completed"
    },
    "tags": []
   },
   "outputs": [
    {
     "data": {
      "text/plain": [
       "[('54017', 0.8111827969551086),\n",
       " ('146871', 0.8006814122200012),\n",
       " ('271774', 0.7898718118667603),\n",
       " ('188990', 0.780306339263916),\n",
       " ('292447', 0.773094117641449),\n",
       " ('290840', 0.7530125379562378),\n",
       " ('35158', 0.7364202737808228),\n",
       " ('5462', 0.7234049439430237),\n",
       " ('178828', 0.7059782147407532),\n",
       " ('22333', 0.6848352551460266)]"
      ]
     },
     "execution_count": 68,
     "metadata": {},
     "output_type": "execute_result"
    }
   ],
   "source": [
    "model.wv.most_similar(word_to_w2v_generated(\"United_States\"))"
   ]
  },
  {
   "cell_type": "code",
   "execution_count": 69,
   "id": "0a87345b",
   "metadata": {
    "execution": {
     "iopub.execute_input": "2022-08-08T13:45:08.990728Z",
     "iopub.status.busy": "2022-08-08T13:45:08.990341Z",
     "iopub.status.idle": "2022-08-08T13:45:09.089644Z",
     "shell.execute_reply": "2022-08-08T13:45:09.088272Z"
    },
    "papermill": {
     "duration": 0.143471,
     "end_time": "2022-08-08T13:45:09.092651",
     "exception": false,
     "start_time": "2022-08-08T13:45:08.949180",
     "status": "completed"
    },
    "tags": []
   },
   "outputs": [
    {
     "name": "stdout",
     "output_type": "stream",
     "text": [
      "Hugo_de_Vries\n",
      "pl/Konstantin_Żygałow\n",
      "Karlheinz_Förster\n",
      "Eduardo_Dato\n",
      "pl/Michał_Kmieciak\n",
      "Alsterdorfer_Sporthalle\n",
      "Stig_Dagerman\n",
      "Country_Yossi\n",
      "Seoul_E-Land_FC\n",
      "Andrew_Cassels\n"
     ]
    }
   ],
   "source": [
    "print(key_list[val_list.index('33202')])\n",
    "print(key_list[val_list.index('121089')])\n",
    "print(key_list[val_list.index('116524')])\n",
    "print(key_list[val_list.index('127419')])\n",
    "print(key_list[val_list.index('117033')])\n",
    "print(key_list[val_list.index('294331')])\n",
    "print(key_list[val_list.index('51950')])\n",
    "print(key_list[val_list.index('63038')])\n",
    "print(key_list[val_list.index('88756')])\n",
    "print(key_list[val_list.index('167956')])"
   ]
  },
  {
   "cell_type": "code",
   "execution_count": 70,
   "id": "402764f2",
   "metadata": {
    "execution": {
     "iopub.execute_input": "2022-08-08T13:45:09.176295Z",
     "iopub.status.busy": "2022-08-08T13:45:09.175540Z",
     "iopub.status.idle": "2022-08-08T13:45:09.222361Z",
     "shell.execute_reply": "2022-08-08T13:45:09.220796Z"
    },
    "papermill": {
     "duration": 0.09383,
     "end_time": "2022-08-08T13:45:09.226588",
     "exception": false,
     "start_time": "2022-08-08T13:45:09.132758",
     "status": "completed"
    },
    "tags": []
   },
   "outputs": [
    {
     "data": {
      "text/plain": [
       "[('49331', 0.9982098937034607),\n",
       " ('104367', 0.9979304671287537),\n",
       " ('17567', 0.9977748990058899),\n",
       " ('47474', 0.9977458119392395),\n",
       " ('197123', 0.9973745346069336),\n",
       " ('42972', 0.997218668460846),\n",
       " ('154931', 0.9971106052398682),\n",
       " ('138851', 0.9971092343330383),\n",
       " ('165414', 0.9970056414604187),\n",
       " ('64900', 0.9970017671585083)]"
      ]
     },
     "execution_count": 70,
     "metadata": {},
     "output_type": "execute_result"
    }
   ],
   "source": [
    "model.wv.most_similar(word_to_w2v_generated(\"Godavari_Dam\"))"
   ]
  },
  {
   "cell_type": "code",
   "execution_count": 71,
   "id": "ce8b7422",
   "metadata": {
    "execution": {
     "iopub.execute_input": "2022-08-08T13:45:09.374123Z",
     "iopub.status.busy": "2022-08-08T13:45:09.373717Z",
     "iopub.status.idle": "2022-08-08T13:45:09.516641Z",
     "shell.execute_reply": "2022-08-08T13:45:09.515019Z"
    },
    "papermill": {
     "duration": 0.186903,
     "end_time": "2022-08-08T13:45:09.519385",
     "exception": false,
     "start_time": "2022-08-08T13:45:09.332482",
     "status": "completed"
    },
    "tags": []
   },
   "outputs": [
    {
     "name": "stdout",
     "output_type": "stream",
     "text": [
      "Moncton_Stadium\n",
      "de/Martin_Sommerhoff\n",
      "Jean-Baptiste_Mills\n",
      "Vandana_Gupte\n",
      "Dorothea_Waddingham\n",
      "Hassan_Tabatabaei_Qomi\n",
      "Gibson_Burrell\n",
      "DivX\n",
      "János_Mihálkovics\n",
      "Cagnaccio_di_San_Pietro\n"
     ]
    }
   ],
   "source": [
    "print(key_list[val_list.index('16313')])\n",
    "print(key_list[val_list.index('189211')])\n",
    "print(key_list[val_list.index('186779')])\n",
    "print(key_list[val_list.index('112539')])\n",
    "print(key_list[val_list.index('208998')])\n",
    "print(key_list[val_list.index('89406')])\n",
    "print(key_list[val_list.index('12018')])\n",
    "print(key_list[val_list.index('22731')])\n",
    "print(key_list[val_list.index('236631')])\n",
    "print(key_list[val_list.index('256582')])"
   ]
  },
  {
   "cell_type": "code",
   "execution_count": 72,
   "id": "367d97c1",
   "metadata": {
    "execution": {
     "iopub.execute_input": "2022-08-08T13:45:09.602006Z",
     "iopub.status.busy": "2022-08-08T13:45:09.601605Z",
     "iopub.status.idle": "2022-08-08T13:45:09.608061Z",
     "shell.execute_reply": "2022-08-08T13:45:09.607182Z"
    },
    "papermill": {
     "duration": 0.050148,
     "end_time": "2022-08-08T13:45:09.610216",
     "exception": false,
     "start_time": "2022-08-08T13:45:09.560068",
     "status": "completed"
    },
    "tags": []
   },
   "outputs": [
    {
     "data": {
      "text/plain": [
       "0.9973744"
      ]
     },
     "execution_count": 72,
     "metadata": {},
     "output_type": "execute_result"
    }
   ],
   "source": [
    "model.wv.similarity(word_to_w2v_generated('Godavari_Dam'), word_to_w2v_generated('Shirvata_Dam'))"
   ]
  },
  {
   "cell_type": "code",
   "execution_count": 73,
   "id": "3bb366f5",
   "metadata": {
    "execution": {
     "iopub.execute_input": "2022-08-08T13:45:09.694742Z",
     "iopub.status.busy": "2022-08-08T13:45:09.693294Z",
     "iopub.status.idle": "2022-08-08T13:45:09.768326Z",
     "shell.execute_reply": "2022-08-08T13:45:09.766609Z"
    },
    "papermill": {
     "duration": 0.120119,
     "end_time": "2022-08-08T13:45:09.771929",
     "exception": false,
     "start_time": "2022-08-08T13:45:09.651810",
     "status": "completed"
    },
    "tags": []
   },
   "outputs": [
    {
     "data": {
      "text/plain": [
       "[('83362', 0.874811053276062),\n",
       " ('171541', 0.866265058517456),\n",
       " ('264884', 0.45664671063423157),\n",
       " ('23878', 0.4491610527038574),\n",
       " ('175501', 0.44832557439804077),\n",
       " ('125530', 0.4455820620059967),\n",
       " ('166336', 0.4454866647720337),\n",
       " ('215573', 0.4398549795150757),\n",
       " ('182534', 0.437621533870697),\n",
       " ('174832', 0.4347749948501587)]"
      ]
     },
     "execution_count": 73,
     "metadata": {},
     "output_type": "execute_result"
    }
   ],
   "source": [
    "model.wv.most_similar(word_to_w2v_generated(\"India\"))"
   ]
  },
  {
   "cell_type": "code",
   "execution_count": 74,
   "id": "6cc3fdf9",
   "metadata": {
    "execution": {
     "iopub.execute_input": "2022-08-08T13:45:09.907359Z",
     "iopub.status.busy": "2022-08-08T13:45:09.906973Z",
     "iopub.status.idle": "2022-08-08T13:45:10.090415Z",
     "shell.execute_reply": "2022-08-08T13:45:10.089080Z"
    },
    "papermill": {
     "duration": 0.228555,
     "end_time": "2022-08-08T13:45:10.094211",
     "exception": false,
     "start_time": "2022-08-08T13:45:09.865656",
     "status": "completed"
    },
    "tags": []
   },
   "outputs": [
    {
     "name": "stdout",
     "output_type": "stream",
     "text": [
      "Vanuatu_Republican_Party\n",
      "Henry_Gleditsch\n",
      "MC_Steppa\n",
      "Owen_McAleer\n",
      "pl/Szymon_Jakubowski\n",
      "Bethany_Campbell\n",
      "Dempo_S.C.\n",
      "Mike_Voight\n",
      "Durduri_District\n",
      "fr/Jean-Yves_Sénant\n"
     ]
    }
   ],
   "source": [
    "print(key_list[val_list.index('258275')])\n",
    "print(key_list[val_list.index('216979')])\n",
    "print(key_list[val_list.index('150019')])\n",
    "print(key_list[val_list.index('195507')])\n",
    "print(key_list[val_list.index('115550')])\n",
    "print(key_list[val_list.index('271126')])\n",
    "print(key_list[val_list.index('173883')])\n",
    "print(key_list[val_list.index('302656')])\n",
    "print(key_list[val_list.index('175975')])\n",
    "print(key_list[val_list.index('102158')])"
   ]
  },
  {
   "cell_type": "code",
   "execution_count": 75,
   "id": "49c14fa7",
   "metadata": {
    "execution": {
     "iopub.execute_input": "2022-08-08T13:45:10.178778Z",
     "iopub.status.busy": "2022-08-08T13:45:10.177999Z",
     "iopub.status.idle": "2022-08-08T13:45:10.222028Z",
     "shell.execute_reply": "2022-08-08T13:45:10.220701Z"
    },
    "papermill": {
     "duration": 0.09006,
     "end_time": "2022-08-08T13:45:10.226063",
     "exception": false,
     "start_time": "2022-08-08T13:45:10.136003",
     "status": "completed"
    },
    "tags": []
   },
   "outputs": [
    {
     "data": {
      "text/plain": [
       "[('30621', 0.9982998371124268),\n",
       " ('302365', 0.9971498250961304),\n",
       " ('18844', 0.9968996047973633),\n",
       " ('242381', 0.9955061674118042),\n",
       " ('300928', 0.9952936768531799),\n",
       " ('56089', 0.9945706725120544),\n",
       " ('106788', 0.9939236640930176),\n",
       " ('195867', 0.9924242496490479),\n",
       " ('86209', 0.9919241070747375),\n",
       " ('304421', 0.9842355251312256)]"
      ]
     },
     "execution_count": 75,
     "metadata": {},
     "output_type": "execute_result"
    }
   ],
   "source": [
    "model.wv.most_similar(word_to_w2v_generated(\"PTA_Bank\"))"
   ]
  },
  {
   "cell_type": "code",
   "execution_count": 76,
   "id": "510f1a7f",
   "metadata": {
    "execution": {
     "iopub.execute_input": "2022-08-08T13:45:10.373864Z",
     "iopub.status.busy": "2022-08-08T13:45:10.373459Z",
     "iopub.status.idle": "2022-08-08T13:45:10.526502Z",
     "shell.execute_reply": "2022-08-08T13:45:10.524626Z"
    },
    "papermill": {
     "duration": 0.198502,
     "end_time": "2022-08-08T13:45:10.530307",
     "exception": false,
     "start_time": "2022-08-08T13:45:10.331805",
     "status": "completed"
    },
    "tags": []
   },
   "outputs": [
    {
     "name": "stdout",
     "output_type": "stream",
     "text": [
      "de/Beat_Tschümperlin\n",
      "Sagari_Chhabra\n",
      "Hillar_Teder\n",
      "Louis_Charles_Auguste_Steinheil\n",
      "Fathali_Oveisi\n",
      "Paul_Schneider_(soccer)\n",
      "de/Dietrich_Arndt\n",
      "Michael_Teo_Yu_Keng\n",
      "Don_Nehlen\n",
      "Cecil_John_Kinross\n"
     ]
    }
   ],
   "source": [
    "print(key_list[val_list.index('67752')])\n",
    "print(key_list[val_list.index('230549')])\n",
    "print(key_list[val_list.index('74086')])\n",
    "print(key_list[val_list.index('276049')])\n",
    "print(key_list[val_list.index('201431')])\n",
    "print(key_list[val_list.index('13859')])\n",
    "print(key_list[val_list.index('91335')])\n",
    "print(key_list[val_list.index('174332')])\n",
    "print(key_list[val_list.index('247691')])\n",
    "print(key_list[val_list.index('66852')])"
   ]
  },
  {
   "cell_type": "code",
   "execution_count": 77,
   "id": "0fd161b1",
   "metadata": {
    "execution": {
     "iopub.execute_input": "2022-08-08T13:45:10.615113Z",
     "iopub.status.busy": "2022-08-08T13:45:10.614684Z",
     "iopub.status.idle": "2022-08-08T13:45:10.661036Z",
     "shell.execute_reply": "2022-08-08T13:45:10.659659Z"
    },
    "papermill": {
     "duration": 0.093823,
     "end_time": "2022-08-08T13:45:10.665418",
     "exception": false,
     "start_time": "2022-08-08T13:45:10.571595",
     "status": "completed"
    },
    "tags": []
   },
   "outputs": [
    {
     "data": {
      "text/plain": [
       "[('117485', 0.997599184513092),\n",
       " ('261489', 0.9941193461418152),\n",
       " ('218299', 0.9757266044616699),\n",
       " ('226487', 0.8765226602554321),\n",
       " ('230003', 0.8672513365745544),\n",
       " ('19558', 0.8534029126167297),\n",
       " ('292130', 0.8404415845870972),\n",
       " ('14155', 0.81370609998703),\n",
       " ('94169', 0.8076338171958923),\n",
       " ('270884', 0.8044722080230713)]"
      ]
     },
     "execution_count": 77,
     "metadata": {},
     "output_type": "execute_result"
    }
   ],
   "source": [
    "model.wv.most_similar(word_to_w2v_generated(\"Air_force_command_building\"))"
   ]
  },
  {
   "cell_type": "code",
   "execution_count": 78,
   "id": "6c3ef292",
   "metadata": {
    "execution": {
     "iopub.execute_input": "2022-08-08T13:45:10.814757Z",
     "iopub.status.busy": "2022-08-08T13:45:10.814380Z",
     "iopub.status.idle": "2022-08-08T13:45:10.984229Z",
     "shell.execute_reply": "2022-08-08T13:45:10.982877Z"
    },
    "papermill": {
     "duration": 0.214998,
     "end_time": "2022-08-08T13:45:10.986863",
     "exception": false,
     "start_time": "2022-08-08T13:45:10.771865",
     "status": "completed"
    },
    "tags": []
   },
   "outputs": [
    {
     "name": "stdout",
     "output_type": "stream",
     "text": [
      "Albertine_Caron-Legris\n",
      "Cavanagh,_Edmonton\n",
      "Meadowood_Mall\n",
      "Bai_Jinian\n",
      "Tarikonda_Venkamamba\n",
      "Cory_Hightower\n",
      "Natalia_Kuziutina\n",
      "Marimar_Vega\n",
      "James_Edward_Michaels\n",
      "Thomas_J._Godfrey\n"
     ]
    }
   ],
   "source": [
    "print(key_list[val_list.index('125674')])\n",
    "print(key_list[val_list.index('152849')])\n",
    "print(key_list[val_list.index('265359')])\n",
    "print(key_list[val_list.index('222793')])\n",
    "print(key_list[val_list.index('134200')])\n",
    "print(key_list[val_list.index('94175')])\n",
    "print(key_list[val_list.index('281951')])\n",
    "print(key_list[val_list.index('241113')])\n",
    "print(key_list[val_list.index('40657')])\n",
    "print(key_list[val_list.index('301277')])"
   ]
  },
  {
   "cell_type": "markdown",
   "id": "5030a3a0",
   "metadata": {
    "papermill": {
     "duration": 0.040408,
     "end_time": "2022-08-08T13:45:11.067954",
     "exception": false,
     "start_time": "2022-08-08T13:45:11.027546",
     "status": "completed"
    },
    "tags": []
   },
   "source": [
    "## References Used\n",
    "1) https://datacarpentry.org/python-socialsci/11-joins/index.html#:~:text=The%20concat()%20function%20can,of%20one%20to%20the%20other.&text=The%20merge()%20function%20is%20equivalent%20to%20the%20SQL%20JOIN,inner'%20joins%20are%20all%20possible. \\\n",
    "2) https://sparkbyexamples.com/pyspark/pyspark-replace-column-values/ \\\n",
    "3) https://stackoverflow.com/questions/44626986/merge-multiple-columns-into-one-column-in-pyspark-dataframe-using-python \\\n",
    "4) https://towardsdatascience.com/guide-to-big-data-joins-python-sql-pandas-spark-dask-51b7f4fec810"
   ]
  }
 ],
 "metadata": {
  "kernelspec": {
   "display_name": "Python 3",
   "language": "python",
   "name": "python3"
  },
  "language_info": {
   "codemirror_mode": {
    "name": "ipython",
    "version": 3
   },
   "file_extension": ".py",
   "mimetype": "text/x-python",
   "name": "python",
   "nbconvert_exporter": "python",
   "pygments_lexer": "ipython3",
   "version": "3.7.12"
  },
  "papermill": {
   "default_parameters": {},
   "duration": 335.11555,
   "end_time": "2022-08-08T13:45:13.830873",
   "environment_variables": {},
   "exception": null,
   "input_path": "__notebook__.ipynb",
   "output_path": "__notebook__.ipynb",
   "parameters": {},
   "start_time": "2022-08-08T13:39:38.715323",
   "version": "2.3.4"
  }
 },
 "nbformat": 4,
 "nbformat_minor": 5
}
